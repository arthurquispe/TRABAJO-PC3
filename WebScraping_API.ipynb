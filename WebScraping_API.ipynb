{
 "cells": [
  {
   "cell_type": "markdown",
   "id": "fe210d34",
   "metadata": {},
   "source": [
    "# >Título atractivo"
   ]
  },
  {
   "cell_type": "markdown",
   "id": "2445fa4d",
   "metadata": {},
   "source": [
    "## <span style=\"color:rgb(204, 153, 0)\"> Descripción del juego Clash of Clans</span>\n",
    "También conocido como CoC, Clash of Clans es un videojuego de estrategia multijugador en el que los jugadores asumen el papel de jefes de clanes y construyen y mejoran sus aldeas. Al mismo tiempo, el usuario puede crear o unirse a un clan, donde podrá interactuar con otros jugadores.\n",
    "\n",
    "El juego se desarrolla en un entorno multijugador en línea, lo que permite a los jugadores interactuar con otros jugadores de todo el mundo a través de chat y sistema de clanes.\n",
    "\n",
    "Fue desarrollado por Supercell y lanzado para dispositivos iOS el 2 de agosto del 2012 y el 8 de octubre para dispositivos Android.\n",
    "\n",
    "Antes de iniciar con el WebScraping, necesitamos crear una cuenta en la web API de Clash of Clans (https://developer.clashofclans.com/#/register) para obtener nuestra clave token.\n",
    "\n",
    "<img src=\"https://i.pinimg.com/originals/11/ae/b7/11aeb7ddb3f1d518648a1e36b32b2069.png\" alt=\"Clash of Clans\" width=\"500\">"
   ]
  },
  {
   "cell_type": "markdown",
   "id": "ebe5467a",
   "metadata": {},
   "source": [
    "## <span style=\"color: #597aa2\"> Conexión con la url (str) </span>\n"
   ]
  },
  {
   "cell_type": "code",
   "execution_count": 2,
   "id": "b51bbbe2",
   "metadata": {},
   "outputs": [],
   "source": [
    "#Importamos las librerías que vamos a necesitar en nuestro trabajo\n",
    "import urllib.request\n",
    "from urllib.request import urlopen\n",
    "import urllib.parse\n",
    "import pandas as pd\n",
    "import requests\n",
    "import json\n",
    "import polars as pl\n",
    "import re\n",
    "\n",
    "#Abrimos el archivo \"key.txt\" y leemos el token generado guardado en un archivo texto\n",
    "with open(\"keyJimena.txt\") as f:\n",
    "    my_key2 = f.read().rstrip(\"\\n\")\n",
    "\n",
    "#URL base de la API de Clash of Clans\n",
    "base_url = \"https://api.clashofclans.com/v1\"\n",
    "\n",
    "#Parámetro para obtener todos los clanes que tengan 20 o más miembros\n",
    "endpoint = \"/clans?minMembers=20\"\n",
    "\n",
    "#Creamos una solicitud HTTP con la clave de autenticación en el encabezado\n",
    "request = urllib.request.Request(\n",
    "    base_url + endpoint,\n",
    "    None,\n",
    "    {\"Authorization\": \"Bearer %s\" % my_key2}\n",
    ")\n",
    "\n",
    "# Hacemos la solicitud y obtenemos la respuesta\n",
    "uclient = urlopen(request)\n",
    "responsehtml = uclient.read()\n",
    "uclient.close()\n",
    "\n",
    "# Decodificamos la respuesta en formato JSON\n",
    "datos = responsehtml.decode()\n",
    "\n",
    "# Tenemos los datos obtenidos\n",
    "#print(datos)"
   ]
  },
  {
   "cell_type": "markdown",
   "id": "4fc0a61f",
   "metadata": {},
   "source": [
    "### <span style=\"color: #C340D6\"> Pasar a diccionario (dict) </span>\n"
   ]
  },
  {
   "cell_type": "code",
   "execution_count": 3,
   "id": "e6e79f19",
   "metadata": {},
   "outputs": [
    {
     "name": "stdout",
     "output_type": "stream",
     "text": [
      "<class 'dict'>\n"
     ]
    }
   ],
   "source": [
    "#Convertimos a diccionario con json ya que esta Api está en este formato\n",
    "datos_dict = json.loads(datos)\n",
    "print(type(datos_dict))"
   ]
  },
  {
   "cell_type": "markdown",
   "id": "d4b6418c",
   "metadata": {},
   "source": [
    "### <span style=\"color: #A6BD4C\"> Primer filtrado (df) </span>"
   ]
  },
  {
   "cell_type": "code",
   "execution_count": 4,
   "id": "51bd39a3",
   "metadata": {},
   "outputs": [],
   "source": [
    "#Vamos a filtrar tales aspectos y agruparlos de acuerdo a la cantidad de puntos de los clanes, \n",
    "#con el fin de compararlo con Clash Royale\n",
    "\n",
    "puntos_clanes = []\n",
    "nombres_clanes = []\n",
    "tipos = []\n",
    "location = []\n",
    "niveles_clanes = []\n",
    "miembros = []\n",
    "tag = []\n",
    "\n",
    "for item in datos_dict[\"items\"]:\n",
    "    puntos_clanes.append(item['clanPoints'])\n",
    "    nombres_clanes.append(item['name'])\n",
    "    tipos.append(item['type'])\n",
    "    ubicacion = item['location']['name'] if 'location' in item and 'name' in item['location'] else ''\n",
    "    location.append(ubicacion)\n",
    "    niveles_clanes.append(item['clanLevel'])\n",
    "    miembros.append(item['members'])\n",
    "    tag.append(item['tag'])\n",
    "\n",
    "#Creamos el diccionario\n",
    "dff = {\n",
    "    'ClanPoints CoC': puntos_clanes,\n",
    "    'Nombre CoC': nombres_clanes,\n",
    "    'Tipo CoC': tipos,\n",
    "    'Location CoC': location,\n",
    "    'Nivel de clan CoC': niveles_clanes,\n",
    "    'Miembros CoC': miembros,\n",
    "    'Tag CoC': tag}"
   ]
  },
  {
   "cell_type": "markdown",
   "id": "1bb33a26",
   "metadata": {},
   "source": [
    "### <span style=\"color: #F34230\"> Pasar a dataframe (df) </span>"
   ]
  },
  {
   "cell_type": "code",
   "execution_count": 12,
   "id": "08c54573",
   "metadata": {},
   "outputs": [
    {
     "name": "stdout",
     "output_type": "stream",
     "text": [
      "#P0YLRY2J\n"
     ]
    },
    {
     "data": {
      "text/html": [
       "<div>\n",
       "<style scoped>\n",
       "    .dataframe tbody tr th:only-of-type {\n",
       "        vertical-align: middle;\n",
       "    }\n",
       "\n",
       "    .dataframe tbody tr th {\n",
       "        vertical-align: top;\n",
       "    }\n",
       "\n",
       "    .dataframe thead th {\n",
       "        text-align: right;\n",
       "    }\n",
       "</style>\n",
       "<table border=\"1\" class=\"dataframe\">\n",
       "  <thead>\n",
       "    <tr style=\"text-align: right;\">\n",
       "      <th></th>\n",
       "      <th>ClanPoints CoC</th>\n",
       "      <th>Nombre CoC</th>\n",
       "      <th>Tipo CoC</th>\n",
       "      <th>Location CoC</th>\n",
       "      <th>Nivel de clan CoC</th>\n",
       "      <th>Miembros CoC</th>\n",
       "      <th>Tag CoC</th>\n",
       "    </tr>\n",
       "  </thead>\n",
       "  <tbody>\n",
       "    <tr>\n",
       "      <th>0</th>\n",
       "      <td>38389</td>\n",
       "      <td>Osmanli IMP</td>\n",
       "      <td>inviteOnly</td>\n",
       "      <td>Türkiye</td>\n",
       "      <td>15</td>\n",
       "      <td>50</td>\n",
       "      <td>#P0YLRY2J</td>\n",
       "    </tr>\n",
       "    <tr>\n",
       "      <th>1</th>\n",
       "      <td>36321</td>\n",
       "      <td>Indian warriors</td>\n",
       "      <td>inviteOnly</td>\n",
       "      <td>India</td>\n",
       "      <td>19</td>\n",
       "      <td>50</td>\n",
       "      <td>#GG999G9Q</td>\n",
       "    </tr>\n",
       "    <tr>\n",
       "      <th>2</th>\n",
       "      <td>33415</td>\n",
       "      <td>SAITAN</td>\n",
       "      <td>closed</td>\n",
       "      <td>India</td>\n",
       "      <td>14</td>\n",
       "      <td>49</td>\n",
       "      <td>#2LYLUGP02</td>\n",
       "    </tr>\n",
       "    <tr>\n",
       "      <th>3</th>\n",
       "      <td>33241</td>\n",
       "      <td>S.D.G (20)</td>\n",
       "      <td>inviteOnly</td>\n",
       "      <td>International</td>\n",
       "      <td>17</td>\n",
       "      <td>30</td>\n",
       "      <td>#QVGUGJY2</td>\n",
       "    </tr>\n",
       "    <tr>\n",
       "      <th>4</th>\n",
       "      <td>32857</td>\n",
       "      <td>wong jowo</td>\n",
       "      <td>inviteOnly</td>\n",
       "      <td>Indonesia</td>\n",
       "      <td>20</td>\n",
       "      <td>43</td>\n",
       "      <td>#29PV08JPR</td>\n",
       "    </tr>\n",
       "    <tr>\n",
       "      <th>5</th>\n",
       "      <td>32309</td>\n",
       "      <td>SIANTURIURUNGNA</td>\n",
       "      <td>inviteOnly</td>\n",
       "      <td>Indonesia</td>\n",
       "      <td>10</td>\n",
       "      <td>32</td>\n",
       "      <td>#CJQQJ2U9</td>\n",
       "    </tr>\n",
       "    <tr>\n",
       "      <th>6</th>\n",
       "      <td>32255</td>\n",
       "      <td>正义联盟</td>\n",
       "      <td>inviteOnly</td>\n",
       "      <td>Malaysia</td>\n",
       "      <td>14</td>\n",
       "      <td>40</td>\n",
       "      <td>#89PV2VYC</td>\n",
       "    </tr>\n",
       "    <tr>\n",
       "      <th>7</th>\n",
       "      <td>32133</td>\n",
       "      <td>İMPOSSABLE</td>\n",
       "      <td>inviteOnly</td>\n",
       "      <td>Türkiye</td>\n",
       "      <td>18</td>\n",
       "      <td>35</td>\n",
       "      <td>#28GV88J8</td>\n",
       "    </tr>\n",
       "    <tr>\n",
       "      <th>8</th>\n",
       "      <td>31880</td>\n",
       "      <td>TEAM BROTHERS</td>\n",
       "      <td>open</td>\n",
       "      <td>India</td>\n",
       "      <td>14</td>\n",
       "      <td>50</td>\n",
       "      <td>#2YVLUPRJJ</td>\n",
       "    </tr>\n",
       "    <tr>\n",
       "      <th>9</th>\n",
       "      <td>31679</td>\n",
       "      <td>Feuerbendiger</td>\n",
       "      <td>inviteOnly</td>\n",
       "      <td>Germany</td>\n",
       "      <td>14</td>\n",
       "      <td>38</td>\n",
       "      <td>#PP088GQY</td>\n",
       "    </tr>\n",
       "  </tbody>\n",
       "</table>\n",
       "</div>"
      ],
      "text/plain": [
       "   ClanPoints CoC       Nombre CoC    Tipo CoC   Location CoC  \\\n",
       "0           38389      Osmanli IMP  inviteOnly        Türkiye   \n",
       "1           36321  Indian warriors  inviteOnly          India   \n",
       "2           33415           SAITAN      closed          India   \n",
       "3           33241       S.D.G (20)  inviteOnly  International   \n",
       "4           32857        wong jowo  inviteOnly      Indonesia   \n",
       "5           32309  SIANTURIURUNGNA  inviteOnly      Indonesia   \n",
       "6           32255             正义联盟  inviteOnly       Malaysia   \n",
       "7           32133       İMPOSSABLE  inviteOnly        Türkiye   \n",
       "8           31880    TEAM BROTHERS        open          India   \n",
       "9           31679    Feuerbendiger  inviteOnly        Germany   \n",
       "\n",
       "   Nivel de clan CoC  Miembros CoC     Tag CoC  \n",
       "0                 15            50   #P0YLRY2J  \n",
       "1                 19            50   #GG999G9Q  \n",
       "2                 14            49  #2LYLUGP02  \n",
       "3                 17            30   #QVGUGJY2  \n",
       "4                 20            43  #29PV08JPR  \n",
       "5                 10            32   #CJQQJ2U9  \n",
       "6                 14            40   #89PV2VYC  \n",
       "7                 18            35   #28GV88J8  \n",
       "8                 14            50  #2YVLUPRJJ  \n",
       "9                 14            38   #PP088GQY  "
      ]
     },
     "execution_count": 12,
     "metadata": {},
     "output_type": "execute_result"
    }
   ],
   "source": [
    "#Creamos el dataframe con Pandas\n",
    "DFF = pd.DataFrame(dff)\n",
    "#print(DFF)\n",
    "\n",
    "DFF1 = DFF.sort_values(by='ClanPoints CoC', ascending=False).head(10).reset_index(drop=True)\n",
    "#print(DFF)\n",
    "\n",
    "primero = DFF1.loc[0, 'Tag CoC']\n",
    "print(primero)\n",
    "\n",
    "DFF1\n",
    "\n",
    "#Observamos el clan con la mayoría de puntos:"
   ]
  },
  {
   "cell_type": "markdown",
   "id": "65b12bdb",
   "metadata": {},
   "source": [
    "<img src=\"https://pbs.twimg.com/media/FNUIgMjWYAEGc7t.jpg\" alt=\"Clash of Clans\" width=\"600\">"
   ]
  },
  {
   "cell_type": "markdown",
   "id": "9ae4bad8",
   "metadata": {},
   "source": [
    "## <span style=\"color: #597aa2\"> Segunda conexión con la url (str) </span>"
   ]
  },
  {
   "cell_type": "code",
   "execution_count": 14,
   "id": "3f89985f",
   "metadata": {},
   "outputs": [
    {
     "name": "stdout",
     "output_type": "stream",
     "text": [
      "/clans/%23P0YLRY2J/members?minMembers=20\n"
     ]
    }
   ],
   "source": [
    "# Codificar el valor de \"primero\"\n",
    "tags = urllib.parse.quote(primero)\n",
    "\n",
    "# Leer la clave de autenticación desde el archivo \"keyJimena.txt\"\n",
    "with open(\"keyJimena.txt\") as f:\n",
    "    my_key2 = f.read().rstrip(\"\\n\")\n",
    "\n",
    "# URL base de la API de Clash of Clans\n",
    "base_url = \"https://api.clashofclans.com/v1\"\n",
    "\n",
    "# Construir el endpoint de la solicitud con el valor codificado\n",
    "endpoint = \"/clans/%s/members?minMembers=20\" % tags\n",
    "\n",
    "# Construir la solicitud con la clave de autenticación\n",
    "request = urllib.request.Request(\n",
    "    base_url + endpoint,\n",
    "    None,\n",
    "    {\n",
    "        \"Authorization\": \"Bearer %s\" % my_key2\n",
    "    }\n",
    ")\n",
    "\n",
    "# Realizar la solicitud y obtener la respuesta\n",
    "uclient = urllib.request.urlopen(request)\n",
    "responsehtml = uclient.read()\n",
    "uclient.close()\n",
    "\n",
    "# Decodificar los datos de la respuesta\n",
    "datos1 = responsehtml.decode()\n",
    "#print(datos1)"
   ]
  },
  {
   "cell_type": "markdown",
   "id": "b2910f70",
   "metadata": {},
   "source": [
    "### <span style=\"color: #C340D6\"> Pasar a diccionario (dict) </span>"
   ]
  },
  {
   "cell_type": "code",
   "execution_count": 18,
   "id": "6af1472a",
   "metadata": {},
   "outputs": [
    {
     "name": "stdout",
     "output_type": "stream",
     "text": [
      "<class 'dict'>\n",
      "{'items': [{'tag': '#2G9YUYYU', 'name': 'ibrahim', 'role': 'coLeader', 'expLevel': 207, 'league': {'id': 29000022, 'name': 'Legend League', 'iconUrls': {'small': 'https://api-assets.clashofclans.com/leagues/72/R2zmhyqQ0_lKcDR5EyghXCxgyC9mm_mVMIjAbmGoZtw.png', 'tiny': 'https://api-assets.clashofclans.com/leagues/36/R2zmhyqQ0_lKcDR5EyghXCxgyC9mm_mVMIjAbmGoZtw.png', 'medium': 'https://api-assets.clashofclans.com/leagues/288/R2zmhyqQ0_lKcDR5EyghXCxgyC9mm_mVMIjAbmGoZtw.png'}}, 'trophies': 5120, 'builderBaseTrophies': 2918, 'versusTrophies': 2918, 'clanRank': 1, 'previousClanRank': 1, 'donations': 5444, 'donationsReceived': 5308, 'playerHouse': {'elements': [{'type': 'ground', 'id': 82000006}, {'type': 'walls', 'id': 82000052}, {'type': 'roof', 'id': 82000046}, {'type': 'decoration', 'id': 82000068}]}, 'builderBaseLeague': {'id': 44000024, 'name': 'Iron League II'}}, {'tag': '#JV2U08V0', 'name': 'Ozan', 'role': 'leader', 'expLevel': 241, 'league': {'id': 29000022, 'name': 'Legend League', 'iconUrls': {'small': 'https://api-assets.clashofclans.com/leagues/72/R2zmhyqQ0_lKcDR5EyghXCxgyC9mm_mVMIjAbmGoZtw.png', 'tiny': 'https://api-assets.clashofclans.com/leagues/36/R2zmhyqQ0_lKcDR5EyghXCxgyC9mm_mVMIjAbmGoZtw.png', 'medium': 'https://api-assets.clashofclans.com/leagues/288/R2zmhyqQ0_lKcDR5EyghXCxgyC9mm_mVMIjAbmGoZtw.png'}}, 'trophies': 5029, 'builderBaseTrophies': 5051, 'versusTrophies': 5051, 'clanRank': 2, 'previousClanRank': 3, 'donations': 518, 'donationsReceived': 1324, 'playerHouse': {'elements': [{'type': 'ground', 'id': 82000002}, {'type': 'walls', 'id': 82000049}, {'type': 'roof', 'id': 82000082}, {'type': 'decoration', 'id': 82000066}]}, 'builderBaseLeague': {'id': 44000035, 'name': 'Emerald League III'}}, {'tag': '#YUQGLGPLQ', 'name': '• [S] [A] [M] •', 'role': 'coLeader', 'expLevel': 234, 'league': {'id': 29000022, 'name': 'Legend League', 'iconUrls': {'small': 'https://api-assets.clashofclans.com/leagues/72/R2zmhyqQ0_lKcDR5EyghXCxgyC9mm_mVMIjAbmGoZtw.png', 'tiny': 'https://api-assets.clashofclans.com/leagues/36/R2zmhyqQ0_lKcDR5EyghXCxgyC9mm_mVMIjAbmGoZtw.png', 'medium': 'https://api-assets.clashofclans.com/leagues/288/R2zmhyqQ0_lKcDR5EyghXCxgyC9mm_mVMIjAbmGoZtw.png'}}, 'trophies': 5004, 'builderBaseTrophies': 4030, 'versusTrophies': 4030, 'clanRank': 3, 'previousClanRank': 2, 'donations': 1657, 'donationsReceived': 3410, 'playerHouse': {'elements': [{'type': 'ground', 'id': 82000002}, {'type': 'walls', 'id': 82000052}, {'type': 'roof', 'id': 82000046}, {'type': 'decoration', 'id': 82000064}]}, 'builderBaseLeague': {'id': 44000030, 'name': 'Titanium League II'}}, {'tag': '#PV28YV00P', 'name': 'MüdürSam', 'role': 'coLeader', 'expLevel': 240, 'league': {'id': 29000021, 'name': 'Titan League I', 'iconUrls': {'small': 'https://api-assets.clashofclans.com/leagues/72/qVCZmeYH0lS7Gaa6YoB7LrNly7bfw7fV_d4Vp2CU-gk.png', 'tiny': 'https://api-assets.clashofclans.com/leagues/36/qVCZmeYH0lS7Gaa6YoB7LrNly7bfw7fV_d4Vp2CU-gk.png', 'medium': 'https://api-assets.clashofclans.com/leagues/288/qVCZmeYH0lS7Gaa6YoB7LrNly7bfw7fV_d4Vp2CU-gk.png'}}, 'trophies': 4946, 'builderBaseTrophies': 4256, 'versusTrophies': 4256, 'clanRank': 4, 'previousClanRank': 4, 'donations': 1662, 'donationsReceived': 2215, 'playerHouse': {'elements': [{'type': 'ground', 'id': 82000002}, {'type': 'walls', 'id': 82000052}, {'type': 'roof', 'id': 82000032}, {'type': 'decoration', 'id': 82000064}]}, 'builderBaseLeague': {'id': 44000031, 'name': 'Titanium League I'}}, {'tag': '#2GYP8RC9', 'name': 'ChromeBrasCo', 'role': 'admin', 'expLevel': 234, 'league': {'id': 29000020, 'name': 'Titan League II', 'iconUrls': {'small': 'https://api-assets.clashofclans.com/leagues/72/llpWocHlOoFliwyaEx5Z6dmoZG4u4NmxwpF-Jg7su7Q.png', 'tiny': 'https://api-assets.clashofclans.com/leagues/36/llpWocHlOoFliwyaEx5Z6dmoZG4u4NmxwpF-Jg7su7Q.png', 'medium': 'https://api-assets.clashofclans.com/leagues/288/llpWocHlOoFliwyaEx5Z6dmoZG4u4NmxwpF-Jg7su7Q.png'}}, 'trophies': 4603, 'builderBaseTrophies': 3749, 'versusTrophies': 3749, 'clanRank': 5, 'previousClanRank': 5, 'donations': 0, 'donationsReceived': 0, 'playerHouse': {'elements': [{'type': 'ground', 'id': 82000001}, {'type': 'walls', 'id': 82000053}, {'type': 'roof', 'id': 82000046}, {'type': 'decoration', 'id': 82000059}]}, 'builderBaseLeague': {'id': 44000028, 'name': 'Steel League I'}}, {'tag': '#8G8PPYGL', 'name': 'Ozan 59', 'role': 'admin', 'expLevel': 223, 'league': {'id': 29000019, 'name': 'Titan League III', 'iconUrls': {'small': 'https://api-assets.clashofclans.com/leagues/72/L-HrwYpFbDwWjdmhJQiZiTRa_zXPPOgUTdmbsaq4meo.png', 'tiny': 'https://api-assets.clashofclans.com/leagues/36/L-HrwYpFbDwWjdmhJQiZiTRa_zXPPOgUTdmbsaq4meo.png', 'medium': 'https://api-assets.clashofclans.com/leagues/288/L-HrwYpFbDwWjdmhJQiZiTRa_zXPPOgUTdmbsaq4meo.png'}}, 'trophies': 4368, 'builderBaseTrophies': 4155, 'versusTrophies': 4155, 'clanRank': 6, 'previousClanRank': 6, 'donations': 84, 'donationsReceived': 528, 'playerHouse': {'elements': [{'type': 'ground', 'id': 82000002}, {'type': 'walls', 'id': 82000049}, {'type': 'roof', 'id': 82000031}, {'type': 'decoration', 'id': 82000064}]}, 'builderBaseLeague': {'id': 44000030, 'name': 'Titanium League II'}}, {'tag': '#Q0LQ8Q2U', 'name': '★ ★NREMRE ★ ★', 'role': 'coLeader', 'expLevel': 236, 'league': {'id': 29000019, 'name': 'Titan League III', 'iconUrls': {'small': 'https://api-assets.clashofclans.com/leagues/72/L-HrwYpFbDwWjdmhJQiZiTRa_zXPPOgUTdmbsaq4meo.png', 'tiny': 'https://api-assets.clashofclans.com/leagues/36/L-HrwYpFbDwWjdmhJQiZiTRa_zXPPOgUTdmbsaq4meo.png', 'medium': 'https://api-assets.clashofclans.com/leagues/288/L-HrwYpFbDwWjdmhJQiZiTRa_zXPPOgUTdmbsaq4meo.png'}}, 'trophies': 4275, 'builderBaseTrophies': 4307, 'versusTrophies': 4307, 'clanRank': 7, 'previousClanRank': 7, 'donations': 0, 'donationsReceived': 0, 'playerHouse': {'elements': [{'type': 'ground', 'id': 82000002}, {'type': 'walls', 'id': 82000049}, {'type': 'roof', 'id': 82000082}, {'type': 'decoration', 'id': 82000066}]}, 'builderBaseLeague': {'id': 44000031, 'name': 'Titanium League I'}}, {'tag': '#8G0R0UL88', 'name': 'YakupFurkan', 'role': 'coLeader', 'expLevel': 210, 'league': {'id': 29000019, 'name': 'Titan League III', 'iconUrls': {'small': 'https://api-assets.clashofclans.com/leagues/72/L-HrwYpFbDwWjdmhJQiZiTRa_zXPPOgUTdmbsaq4meo.png', 'tiny': 'https://api-assets.clashofclans.com/leagues/36/L-HrwYpFbDwWjdmhJQiZiTRa_zXPPOgUTdmbsaq4meo.png', 'medium': 'https://api-assets.clashofclans.com/leagues/288/L-HrwYpFbDwWjdmhJQiZiTRa_zXPPOgUTdmbsaq4meo.png'}}, 'trophies': 4201, 'builderBaseTrophies': 3236, 'versusTrophies': 3236, 'clanRank': 8, 'previousClanRank': 8, 'donations': 1398, 'donationsReceived': 561, 'playerHouse': {'elements': [{'type': 'ground', 'id': 82000001}, {'type': 'walls', 'id': 82000052}, {'type': 'roof', 'id': 82000010}, {'type': 'decoration', 'id': 82000058}]}, 'builderBaseLeague': {'id': 44000026, 'name': 'Steel League III'}}, {'tag': '#YPPCJYGYP', 'name': '(『You』LosTツ ) ✌', 'role': 'coLeader', 'expLevel': 155, 'league': {'id': 29000019, 'name': 'Titan League III', 'iconUrls': {'small': 'https://api-assets.clashofclans.com/leagues/72/L-HrwYpFbDwWjdmhJQiZiTRa_zXPPOgUTdmbsaq4meo.png', 'tiny': 'https://api-assets.clashofclans.com/leagues/36/L-HrwYpFbDwWjdmhJQiZiTRa_zXPPOgUTdmbsaq4meo.png', 'medium': 'https://api-assets.clashofclans.com/leagues/288/L-HrwYpFbDwWjdmhJQiZiTRa_zXPPOgUTdmbsaq4meo.png'}}, 'trophies': 4117, 'builderBaseTrophies': 2637, 'versusTrophies': 2637, 'clanRank': 9, 'previousClanRank': 9, 'donations': 11218, 'donationsReceived': 4235, 'playerHouse': {'elements': [{'type': 'ground', 'id': 82000002}, {'type': 'walls', 'id': 82000052}, {'type': 'roof', 'id': 82000031}, {'type': 'decoration', 'id': 82000064}]}, 'builderBaseLeague': {'id': 44000023, 'name': 'Iron League III'}}, {'tag': '#U9200PLV', 'name': 'faru', 'role': 'coLeader', 'expLevel': 186, 'league': {'id': 29000019, 'name': 'Titan League III', 'iconUrls': {'small': 'https://api-assets.clashofclans.com/leagues/72/L-HrwYpFbDwWjdmhJQiZiTRa_zXPPOgUTdmbsaq4meo.png', 'tiny': 'https://api-assets.clashofclans.com/leagues/36/L-HrwYpFbDwWjdmhJQiZiTRa_zXPPOgUTdmbsaq4meo.png', 'medium': 'https://api-assets.clashofclans.com/leagues/288/L-HrwYpFbDwWjdmhJQiZiTRa_zXPPOgUTdmbsaq4meo.png'}}, 'trophies': 4115, 'builderBaseTrophies': 3326, 'versusTrophies': 3326, 'clanRank': 10, 'previousClanRank': 10, 'donations': 1519, 'donationsReceived': 3282, 'playerHouse': {'elements': [{'type': 'ground', 'id': 82000006}, {'type': 'walls', 'id': 82000055}, {'type': 'roof', 'id': 82000046}, {'type': 'decoration', 'id': 82000068}]}, 'builderBaseLeague': {'id': 44000026, 'name': 'Steel League III'}}, {'tag': '#Y80G8UC0G', 'name': 'SeRKaN', 'role': 'admin', 'expLevel': 225, 'league': {'id': 29000000, 'name': 'Unranked', 'iconUrls': {'small': 'https://api-assets.clashofclans.com/leagues/72/e--YMyIexEQQhE4imLoJcwhYn6Uy8KqlgyY3_kFV6t4.png', 'tiny': 'https://api-assets.clashofclans.com/leagues/36/e--YMyIexEQQhE4imLoJcwhYn6Uy8KqlgyY3_kFV6t4.png'}}, 'trophies': 4097, 'builderBaseTrophies': 3905, 'versusTrophies': 3905, 'clanRank': 11, 'previousClanRank': 11, 'donations': 1229, 'donationsReceived': 294, 'playerHouse': {'elements': [{'type': 'ground', 'id': 82000002}, {'type': 'walls', 'id': 82000049}, {'type': 'roof', 'id': 82000017}, {'type': 'decoration', 'id': 82000064}]}, 'builderBaseLeague': {'id': 44000029, 'name': 'Titanium League III'}}, {'tag': '#Q999P8QG0', 'name': 'IRIRIFIKFOFO', 'role': 'admin', 'expLevel': 145, 'league': {'id': 29000018, 'name': 'Champion League I', 'iconUrls': {'small': 'https://api-assets.clashofclans.com/leagues/72/9v_04LHmd1LWq7IoY45dAdGhrBkrc2ZFMZVhe23PdCE.png', 'tiny': 'https://api-assets.clashofclans.com/leagues/36/9v_04LHmd1LWq7IoY45dAdGhrBkrc2ZFMZVhe23PdCE.png', 'medium': 'https://api-assets.clashofclans.com/leagues/288/9v_04LHmd1LWq7IoY45dAdGhrBkrc2ZFMZVhe23PdCE.png'}}, 'trophies': 3984, 'builderBaseTrophies': 2472, 'versusTrophies': 2472, 'clanRank': 12, 'previousClanRank': 12, 'donations': 1695, 'donationsReceived': 1074, 'playerHouse': {'elements': [{'type': 'ground', 'id': 82000001}, {'type': 'walls', 'id': 82000048}, {'type': 'roof', 'id': 82000016}, {'type': 'decoration', 'id': 82000062}]}, 'builderBaseLeague': {'id': 44000022, 'name': 'Brass League I'}}, {'tag': '#2LCGUJLVQ', 'name': 'Uçan Seccade', 'role': 'admin', 'expLevel': 208, 'league': {'id': 29000018, 'name': 'Champion League I', 'iconUrls': {'small': 'https://api-assets.clashofclans.com/leagues/72/9v_04LHmd1LWq7IoY45dAdGhrBkrc2ZFMZVhe23PdCE.png', 'tiny': 'https://api-assets.clashofclans.com/leagues/36/9v_04LHmd1LWq7IoY45dAdGhrBkrc2ZFMZVhe23PdCE.png', 'medium': 'https://api-assets.clashofclans.com/leagues/288/9v_04LHmd1LWq7IoY45dAdGhrBkrc2ZFMZVhe23PdCE.png'}}, 'trophies': 3947, 'builderBaseTrophies': 3890, 'versusTrophies': 3890, 'clanRank': 13, 'previousClanRank': 13, 'donations': 0, 'donationsReceived': 78, 'playerHouse': {'elements': [{'type': 'ground', 'id': 82000006}, {'type': 'walls', 'id': 82000049}, {'type': 'roof', 'id': 82000016}, {'type': 'decoration', 'id': 82000060}]}, 'builderBaseLeague': {'id': 44000029, 'name': 'Titanium League III'}}, {'tag': '#8U9YRPC20', 'name': 'FrozenFire Mr7', 'role': 'admin', 'expLevel': 152, 'league': {'id': 29000018, 'name': 'Champion League I', 'iconUrls': {'small': 'https://api-assets.clashofclans.com/leagues/72/9v_04LHmd1LWq7IoY45dAdGhrBkrc2ZFMZVhe23PdCE.png', 'tiny': 'https://api-assets.clashofclans.com/leagues/36/9v_04LHmd1LWq7IoY45dAdGhrBkrc2ZFMZVhe23PdCE.png', 'medium': 'https://api-assets.clashofclans.com/leagues/288/9v_04LHmd1LWq7IoY45dAdGhrBkrc2ZFMZVhe23PdCE.png'}}, 'trophies': 3836, 'builderBaseTrophies': 2505, 'versusTrophies': 2505, 'clanRank': 14, 'previousClanRank': 14, 'donations': 98, 'donationsReceived': 1186, 'playerHouse': {'elements': [{'type': 'ground', 'id': 82000001}, {'type': 'walls', 'id': 82000049}, {'type': 'roof', 'id': 82000016}, {'type': 'decoration', 'id': 82000062}]}, 'builderBaseLeague': {'id': 44000022, 'name': 'Brass League I'}}, {'tag': '#900VUQ8RR', 'name': 'Yalnız Kurt', 'role': 'coLeader', 'expLevel': 177, 'league': {'id': 29000017, 'name': 'Champion League II', 'iconUrls': {'small': 'https://api-assets.clashofclans.com/leagues/72/kLWSSyq7vJiRiCantiKCoFuSJOxief6R1ky6AyfB8q0.png', 'tiny': 'https://api-assets.clashofclans.com/leagues/36/kLWSSyq7vJiRiCantiKCoFuSJOxief6R1ky6AyfB8q0.png', 'medium': 'https://api-assets.clashofclans.com/leagues/288/kLWSSyq7vJiRiCantiKCoFuSJOxief6R1ky6AyfB8q0.png'}}, 'trophies': 3751, 'builderBaseTrophies': 2898, 'versusTrophies': 2898, 'clanRank': 15, 'previousClanRank': 15, 'donations': 549, 'donationsReceived': 0, 'playerHouse': {'elements': [{'type': 'ground', 'id': 82000000}, {'type': 'walls', 'id': 82000048}, {'type': 'roof', 'id': 82000016}, {'type': 'decoration', 'id': 82000058}]}, 'builderBaseLeague': {'id': 44000024, 'name': 'Iron League II'}}, {'tag': '#PGJU8PJCU', 'name': 'YUSUF~G', 'role': 'admin', 'expLevel': 195, 'league': {'id': 29000017, 'name': 'Champion League II', 'iconUrls': {'small': 'https://api-assets.clashofclans.com/leagues/72/kLWSSyq7vJiRiCantiKCoFuSJOxief6R1ky6AyfB8q0.png', 'tiny': 'https://api-assets.clashofclans.com/leagues/36/kLWSSyq7vJiRiCantiKCoFuSJOxief6R1ky6AyfB8q0.png', 'medium': 'https://api-assets.clashofclans.com/leagues/288/kLWSSyq7vJiRiCantiKCoFuSJOxief6R1ky6AyfB8q0.png'}}, 'trophies': 3718, 'builderBaseTrophies': 4183, 'versusTrophies': 4183, 'clanRank': 16, 'previousClanRank': 16, 'donations': 98, 'donationsReceived': 576, 'playerHouse': {'elements': [{'type': 'ground', 'id': 82000001}, {'type': 'walls', 'id': 82000049}, {'type': 'roof', 'id': 82000016}, {'type': 'decoration', 'id': 82000064}]}, 'builderBaseLeague': {'id': 44000030, 'name': 'Titanium League II'}}, {'tag': '#22JRPJQQV', 'name': 'HALİT UÇAR', 'role': 'admin', 'expLevel': 156, 'league': {'id': 29000017, 'name': 'Champion League II', 'iconUrls': {'small': 'https://api-assets.clashofclans.com/leagues/72/kLWSSyq7vJiRiCantiKCoFuSJOxief6R1ky6AyfB8q0.png', 'tiny': 'https://api-assets.clashofclans.com/leagues/36/kLWSSyq7vJiRiCantiKCoFuSJOxief6R1ky6AyfB8q0.png', 'medium': 'https://api-assets.clashofclans.com/leagues/288/kLWSSyq7vJiRiCantiKCoFuSJOxief6R1ky6AyfB8q0.png'}}, 'trophies': 3535, 'builderBaseTrophies': 2886, 'versusTrophies': 2886, 'clanRank': 17, 'previousClanRank': 17, 'donations': 1214, 'donationsReceived': 2873, 'playerHouse': {'elements': [{'type': 'ground', 'id': 82000002}, {'type': 'walls', 'id': 82000049}, {'type': 'roof', 'id': 82000013}, {'type': 'decoration', 'id': 82000060}]}, 'builderBaseLeague': {'id': 44000024, 'name': 'Iron League II'}}, {'tag': '#PC0LLQCUV', 'name': '1ronStone', 'role': 'admin', 'expLevel': 146, 'league': {'id': 29000016, 'name': 'Champion League III', 'iconUrls': {'small': 'https://api-assets.clashofclans.com/leagues/72/JmmTbspV86xBigM7OP5_SjsEDPuE7oXjZC9aOy8xO3s.png', 'tiny': 'https://api-assets.clashofclans.com/leagues/36/JmmTbspV86xBigM7OP5_SjsEDPuE7oXjZC9aOy8xO3s.png', 'medium': 'https://api-assets.clashofclans.com/leagues/288/JmmTbspV86xBigM7OP5_SjsEDPuE7oXjZC9aOy8xO3s.png'}}, 'trophies': 3453, 'builderBaseTrophies': 3063, 'versusTrophies': 3063, 'clanRank': 18, 'previousClanRank': 18, 'donations': 818, 'donationsReceived': 492, 'playerHouse': {'elements': [{'type': 'ground', 'id': 82000002}, {'type': 'walls', 'id': 82000052}, {'type': 'roof', 'id': 82000031}, {'type': 'decoration', 'id': 82000064}]}, 'builderBaseLeague': {'id': 44000025, 'name': 'Iron League I'}}, {'tag': '#2R9GQ9U0C', 'name': 'PİKAÇUUUU', 'role': 'admin', 'expLevel': 155, 'league': {'id': 29000000, 'name': 'Unranked', 'iconUrls': {'small': 'https://api-assets.clashofclans.com/leagues/72/e--YMyIexEQQhE4imLoJcwhYn6Uy8KqlgyY3_kFV6t4.png', 'tiny': 'https://api-assets.clashofclans.com/leagues/36/e--YMyIexEQQhE4imLoJcwhYn6Uy8KqlgyY3_kFV6t4.png'}}, 'trophies': 3223, 'builderBaseTrophies': 2542, 'versusTrophies': 2542, 'clanRank': 19, 'previousClanRank': 19, 'donations': 0, 'donationsReceived': 0, 'playerHouse': {'elements': [{'type': 'ground', 'id': 82000006}, {'type': 'walls', 'id': 82000053}, {'type': 'roof', 'id': 82000009}, {'type': 'decoration', 'id': 82000060}]}, 'builderBaseLeague': {'id': 44000022, 'name': 'Brass League I'}}, {'tag': '#RPY0GVGP', 'name': 'Kasım', 'role': 'admin', 'expLevel': 123, 'league': {'id': 29000016, 'name': 'Champion League III', 'iconUrls': {'small': 'https://api-assets.clashofclans.com/leagues/72/JmmTbspV86xBigM7OP5_SjsEDPuE7oXjZC9aOy8xO3s.png', 'tiny': 'https://api-assets.clashofclans.com/leagues/36/JmmTbspV86xBigM7OP5_SjsEDPuE7oXjZC9aOy8xO3s.png', 'medium': 'https://api-assets.clashofclans.com/leagues/288/JmmTbspV86xBigM7OP5_SjsEDPuE7oXjZC9aOy8xO3s.png'}}, 'trophies': 3171, 'builderBaseTrophies': 1178, 'versusTrophies': 1178, 'clanRank': 20, 'previousClanRank': 20, 'donations': 105, 'donationsReceived': 998, 'playerHouse': {'elements': [{'type': 'ground', 'id': 82000000}, {'type': 'walls', 'id': 82000048}, {'type': 'roof', 'id': 82000011}, {'type': 'decoration', 'id': 82000063}]}, 'builderBaseLeague': {'id': 44000011, 'name': 'Stone League IV'}}, {'tag': '#2P0URU2VV', 'name': 'miharbi nani', 'role': 'admin', 'expLevel': 144, 'league': {'id': 29000015, 'name': 'Master League I', 'iconUrls': {'small': 'https://api-assets.clashofclans.com/leagues/72/olUfFb1wscIH8hqECAdWbdB6jPm9R8zzEyHIzyBgRXc.png', 'tiny': 'https://api-assets.clashofclans.com/leagues/36/olUfFb1wscIH8hqECAdWbdB6jPm9R8zzEyHIzyBgRXc.png', 'medium': 'https://api-assets.clashofclans.com/leagues/288/olUfFb1wscIH8hqECAdWbdB6jPm9R8zzEyHIzyBgRXc.png'}}, 'trophies': 3098, 'builderBaseTrophies': 1703, 'versusTrophies': 1703, 'clanRank': 21, 'previousClanRank': 21, 'donations': 245, 'donationsReceived': 48, 'playerHouse': {'elements': [{'type': 'ground', 'id': 82000006}, {'type': 'walls', 'id': 82000049}, {'type': 'roof', 'id': 82000017}, {'type': 'decoration', 'id': 82000062}]}, 'builderBaseLeague': {'id': 44000017, 'name': 'Copper League III'}}, {'tag': '#L0UJUGY2R', 'name': 'Ozan1905', 'role': 'admin', 'expLevel': 162, 'league': {'id': 29000014, 'name': 'Master League II', 'iconUrls': {'small': 'https://api-assets.clashofclans.com/leagues/72/4wtS1stWZQ-1VJ5HaCuDPfdhTWjeZs_jPar_YPzK6Lg.png', 'tiny': 'https://api-assets.clashofclans.com/leagues/36/4wtS1stWZQ-1VJ5HaCuDPfdhTWjeZs_jPar_YPzK6Lg.png', 'medium': 'https://api-assets.clashofclans.com/leagues/288/4wtS1stWZQ-1VJ5HaCuDPfdhTWjeZs_jPar_YPzK6Lg.png'}}, 'trophies': 2962, 'builderBaseTrophies': 2474, 'versusTrophies': 2474, 'clanRank': 22, 'previousClanRank': 22, 'donations': 2649, 'donationsReceived': 0, 'playerHouse': {'elements': [{'type': 'ground', 'id': 82000000}, {'type': 'walls', 'id': 82000048}, {'type': 'roof', 'id': 82000016}, {'type': 'decoration', 'id': 82000058}]}, 'builderBaseLeague': {'id': 44000022, 'name': 'Brass League I'}}, {'tag': '#QUJJGY0V8', 'name': 'marazali', 'role': 'admin', 'expLevel': 111, 'league': {'id': 29000015, 'name': 'Master League I', 'iconUrls': {'small': 'https://api-assets.clashofclans.com/leagues/72/olUfFb1wscIH8hqECAdWbdB6jPm9R8zzEyHIzyBgRXc.png', 'tiny': 'https://api-assets.clashofclans.com/leagues/36/olUfFb1wscIH8hqECAdWbdB6jPm9R8zzEyHIzyBgRXc.png', 'medium': 'https://api-assets.clashofclans.com/leagues/288/olUfFb1wscIH8hqECAdWbdB6jPm9R8zzEyHIzyBgRXc.png'}}, 'trophies': 2935, 'builderBaseTrophies': 2502, 'versusTrophies': 2502, 'clanRank': 23, 'previousClanRank': 23, 'donations': 38, 'donationsReceived': 0, 'playerHouse': {'elements': [{'type': 'ground', 'id': 82000001}, {'type': 'walls', 'id': 82000048}, {'type': 'roof', 'id': 82000016}, {'type': 'decoration', 'id': 82000062}]}, 'builderBaseLeague': {'id': 44000022, 'name': 'Brass League I'}}, {'tag': '#Y82L982PY', 'name': 'YenilmezGamer', 'role': 'admin', 'expLevel': 129, 'league': {'id': 29000014, 'name': 'Master League II', 'iconUrls': {'small': 'https://api-assets.clashofclans.com/leagues/72/4wtS1stWZQ-1VJ5HaCuDPfdhTWjeZs_jPar_YPzK6Lg.png', 'tiny': 'https://api-assets.clashofclans.com/leagues/36/4wtS1stWZQ-1VJ5HaCuDPfdhTWjeZs_jPar_YPzK6Lg.png', 'medium': 'https://api-assets.clashofclans.com/leagues/288/4wtS1stWZQ-1VJ5HaCuDPfdhTWjeZs_jPar_YPzK6Lg.png'}}, 'trophies': 2813, 'builderBaseTrophies': 2336, 'versusTrophies': 2336, 'clanRank': 24, 'previousClanRank': 24, 'donations': 7, 'donationsReceived': 635, 'playerHouse': {'elements': [{'type': 'ground', 'id': 82000000}, {'type': 'walls', 'id': 82000048}, {'type': 'roof', 'id': 82000010}, {'type': 'decoration', 'id': 82000063}]}, 'builderBaseLeague': {'id': 44000021, 'name': 'Brass League II'}}, {'tag': '#8J0JP002V', 'name': 'AttilaTheHun', 'role': 'member', 'expLevel': 163, 'league': {'id': 29000013, 'name': 'Master League III', 'iconUrls': {'small': 'https://api-assets.clashofclans.com/leagues/72/pSXfKvBKSgtvfOY3xKkgFaRQi0WcE28s3X35ywbIluY.png', 'tiny': 'https://api-assets.clashofclans.com/leagues/36/pSXfKvBKSgtvfOY3xKkgFaRQi0WcE28s3X35ywbIluY.png', 'medium': 'https://api-assets.clashofclans.com/leagues/288/pSXfKvBKSgtvfOY3xKkgFaRQi0WcE28s3X35ywbIluY.png'}}, 'trophies': 2791, 'builderBaseTrophies': 3022, 'versusTrophies': 3022, 'clanRank': 25, 'previousClanRank': 25, 'donations': 0, 'donationsReceived': 0, 'playerHouse': {'elements': [{'type': 'ground', 'id': 82000002}, {'type': 'walls', 'id': 82000049}, {'type': 'roof', 'id': 82000016}, {'type': 'decoration', 'id': 82000062}]}, 'builderBaseLeague': {'id': 44000025, 'name': 'Iron League I'}}, {'tag': '#2088CVP09', 'name': 'DEATH NOTE', 'role': 'admin', 'expLevel': 90, 'league': {'id': 29000013, 'name': 'Master League III', 'iconUrls': {'small': 'https://api-assets.clashofclans.com/leagues/72/pSXfKvBKSgtvfOY3xKkgFaRQi0WcE28s3X35ywbIluY.png', 'tiny': 'https://api-assets.clashofclans.com/leagues/36/pSXfKvBKSgtvfOY3xKkgFaRQi0WcE28s3X35ywbIluY.png', 'medium': 'https://api-assets.clashofclans.com/leagues/288/pSXfKvBKSgtvfOY3xKkgFaRQi0WcE28s3X35ywbIluY.png'}}, 'trophies': 2723, 'builderBaseTrophies': 1042, 'versusTrophies': 1042, 'clanRank': 26, 'previousClanRank': 27, 'donations': 104, 'donationsReceived': 72, 'playerHouse': {'elements': [{'type': 'ground', 'id': 82000006}, {'type': 'walls', 'id': 82000055}, {'type': 'roof', 'id': 82000046}, {'type': 'decoration', 'id': 82000068}]}, 'builderBaseLeague': {'id': 44000010, 'name': 'Stone League V'}}, {'tag': '#LPJGQL8J0', 'name': 'Sarı 59', 'role': 'admin', 'expLevel': 141, 'league': {'id': 29000013, 'name': 'Master League III', 'iconUrls': {'small': 'https://api-assets.clashofclans.com/leagues/72/pSXfKvBKSgtvfOY3xKkgFaRQi0WcE28s3X35ywbIluY.png', 'tiny': 'https://api-assets.clashofclans.com/leagues/36/pSXfKvBKSgtvfOY3xKkgFaRQi0WcE28s3X35ywbIluY.png', 'medium': 'https://api-assets.clashofclans.com/leagues/288/pSXfKvBKSgtvfOY3xKkgFaRQi0WcE28s3X35ywbIluY.png'}}, 'trophies': 2704, 'builderBaseTrophies': 2321, 'versusTrophies': 2321, 'clanRank': 27, 'previousClanRank': 26, 'donations': 174, 'donationsReceived': 0, 'playerHouse': {'elements': [{'type': 'ground', 'id': 82000002}, {'type': 'walls', 'id': 82000049}, {'type': 'roof', 'id': 82000031}, {'type': 'decoration', 'id': 82000064}]}, 'builderBaseLeague': {'id': 44000021, 'name': 'Brass League II'}}, {'tag': '#Y9ULUCY89', 'name': 'MAHŞERİN ATLISI', 'role': 'admin', 'expLevel': 123, 'league': {'id': 29000013, 'name': 'Master League III', 'iconUrls': {'small': 'https://api-assets.clashofclans.com/leagues/72/pSXfKvBKSgtvfOY3xKkgFaRQi0WcE28s3X35ywbIluY.png', 'tiny': 'https://api-assets.clashofclans.com/leagues/36/pSXfKvBKSgtvfOY3xKkgFaRQi0WcE28s3X35ywbIluY.png', 'medium': 'https://api-assets.clashofclans.com/leagues/288/pSXfKvBKSgtvfOY3xKkgFaRQi0WcE28s3X35ywbIluY.png'}}, 'trophies': 2658, 'builderBaseTrophies': 2552, 'versusTrophies': 2552, 'clanRank': 28, 'previousClanRank': 28, 'donations': 888, 'donationsReceived': 3515, 'playerHouse': {'elements': [{'type': 'ground', 'id': 82000002}, {'type': 'walls', 'id': 82000052}, {'type': 'roof', 'id': 82000017}, {'type': 'decoration', 'id': 82000064}]}, 'builderBaseLeague': {'id': 44000022, 'name': 'Brass League I'}}, {'tag': '#URPPQLCY', 'name': 'MücahitAkyüz', 'role': 'admin', 'expLevel': 200, 'league': {'id': 29000013, 'name': 'Master League III', 'iconUrls': {'small': 'https://api-assets.clashofclans.com/leagues/72/pSXfKvBKSgtvfOY3xKkgFaRQi0WcE28s3X35ywbIluY.png', 'tiny': 'https://api-assets.clashofclans.com/leagues/36/pSXfKvBKSgtvfOY3xKkgFaRQi0WcE28s3X35ywbIluY.png', 'medium': 'https://api-assets.clashofclans.com/leagues/288/pSXfKvBKSgtvfOY3xKkgFaRQi0WcE28s3X35ywbIluY.png'}}, 'trophies': 2614, 'builderBaseTrophies': 4283, 'versusTrophies': 4283, 'clanRank': 29, 'previousClanRank': 29, 'donations': 583, 'donationsReceived': 2271, 'playerHouse': {'elements': [{'type': 'ground', 'id': 82000000}, {'type': 'walls', 'id': 82000048}, {'type': 'roof', 'id': 82000031}, {'type': 'decoration', 'id': 82000058}]}, 'builderBaseLeague': {'id': 44000031, 'name': 'Titanium League I'}}, {'tag': '#Y8LL9JCJ8', 'name': 'leeeverett', 'role': 'admin', 'expLevel': 163, 'league': {'id': 29000000, 'name': 'Unranked', 'iconUrls': {'small': 'https://api-assets.clashofclans.com/leagues/72/e--YMyIexEQQhE4imLoJcwhYn6Uy8KqlgyY3_kFV6t4.png', 'tiny': 'https://api-assets.clashofclans.com/leagues/36/e--YMyIexEQQhE4imLoJcwhYn6Uy8KqlgyY3_kFV6t4.png'}}, 'trophies': 2600, 'builderBaseTrophies': 2375, 'versusTrophies': 2375, 'clanRank': 30, 'previousClanRank': 30, 'donations': 0, 'donationsReceived': 0, 'builderBaseLeague': {'id': 44000021, 'name': 'Brass League II'}}, {'tag': '#LYV0U8CVC', 'name': 'Yusuf', 'role': 'member', 'expLevel': 119, 'league': {'id': 29000013, 'name': 'Master League III', 'iconUrls': {'small': 'https://api-assets.clashofclans.com/leagues/72/pSXfKvBKSgtvfOY3xKkgFaRQi0WcE28s3X35ywbIluY.png', 'tiny': 'https://api-assets.clashofclans.com/leagues/36/pSXfKvBKSgtvfOY3xKkgFaRQi0WcE28s3X35ywbIluY.png', 'medium': 'https://api-assets.clashofclans.com/leagues/288/pSXfKvBKSgtvfOY3xKkgFaRQi0WcE28s3X35ywbIluY.png'}}, 'trophies': 2591, 'builderBaseTrophies': 2443, 'versusTrophies': 2443, 'clanRank': 31, 'previousClanRank': 31, 'donations': 0, 'donationsReceived': 246, 'builderBaseLeague': {'id': 44000022, 'name': 'Brass League I'}}, {'tag': '#8J28RLGY2', 'name': 'AVENGERS', 'role': 'admin', 'expLevel': 223, 'league': {'id': 29000012, 'name': 'Crystal League I', 'iconUrls': {'small': 'https://api-assets.clashofclans.com/leagues/72/kSfTyNNVSvogX3dMvpFUTt72VW74w6vEsEFuuOV4osQ.png', 'tiny': 'https://api-assets.clashofclans.com/leagues/36/kSfTyNNVSvogX3dMvpFUTt72VW74w6vEsEFuuOV4osQ.png', 'medium': 'https://api-assets.clashofclans.com/leagues/288/kSfTyNNVSvogX3dMvpFUTt72VW74w6vEsEFuuOV4osQ.png'}}, 'trophies': 2506, 'builderBaseTrophies': 3203, 'versusTrophies': 3203, 'clanRank': 32, 'previousClanRank': 32, 'donations': 5120, 'donationsReceived': 72, 'playerHouse': {'elements': [{'type': 'ground', 'id': 82000000}, {'type': 'walls', 'id': 82000048}, {'type': 'roof', 'id': 82000011}, {'type': 'decoration', 'id': 82000058}]}, 'builderBaseLeague': {'id': 44000026, 'name': 'Steel League III'}}, {'tag': '#YJ9VUUVCQ', 'name': '1VurdumTek7', 'role': 'coLeader', 'expLevel': 133, 'league': {'id': 29000000, 'name': 'Unranked', 'iconUrls': {'small': 'https://api-assets.clashofclans.com/leagues/72/e--YMyIexEQQhE4imLoJcwhYn6Uy8KqlgyY3_kFV6t4.png', 'tiny': 'https://api-assets.clashofclans.com/leagues/36/e--YMyIexEQQhE4imLoJcwhYn6Uy8KqlgyY3_kFV6t4.png'}}, 'trophies': 2494, 'builderBaseTrophies': 2509, 'versusTrophies': 2509, 'clanRank': 33, 'previousClanRank': 33, 'donations': 1122, 'donationsReceived': 432, 'playerHouse': {'elements': [{'type': 'ground', 'id': 82000000}, {'type': 'walls', 'id': 82000055}, {'type': 'roof', 'id': 82000014}, {'type': 'decoration', 'id': 82000060}]}, 'builderBaseLeague': {'id': 44000022, 'name': 'Brass League I'}}, {'tag': '#22U9UL28L', 'name': 'Dürümcü Emmi', 'role': 'admin', 'expLevel': 209, 'league': {'id': 29000000, 'name': 'Unranked', 'iconUrls': {'small': 'https://api-assets.clashofclans.com/leagues/72/e--YMyIexEQQhE4imLoJcwhYn6Uy8KqlgyY3_kFV6t4.png', 'tiny': 'https://api-assets.clashofclans.com/leagues/36/e--YMyIexEQQhE4imLoJcwhYn6Uy8KqlgyY3_kFV6t4.png'}}, 'trophies': 2482, 'builderBaseTrophies': 3604, 'versusTrophies': 3604, 'clanRank': 34, 'previousClanRank': 34, 'donations': 0, 'donationsReceived': 0, 'playerHouse': {'elements': [{'type': 'ground', 'id': 82000000}, {'type': 'walls', 'id': 82000053}, {'type': 'roof', 'id': 82000013}, {'type': 'decoration', 'id': 82000063}]}, 'builderBaseLeague': {'id': 44000028, 'name': 'Steel League I'}}, {'tag': '#QVVR2UGU0', 'name': 'Semih91', 'role': 'coLeader', 'expLevel': 101, 'league': {'id': 29000012, 'name': 'Crystal League I', 'iconUrls': {'small': 'https://api-assets.clashofclans.com/leagues/72/kSfTyNNVSvogX3dMvpFUTt72VW74w6vEsEFuuOV4osQ.png', 'tiny': 'https://api-assets.clashofclans.com/leagues/36/kSfTyNNVSvogX3dMvpFUTt72VW74w6vEsEFuuOV4osQ.png', 'medium': 'https://api-assets.clashofclans.com/leagues/288/kSfTyNNVSvogX3dMvpFUTt72VW74w6vEsEFuuOV4osQ.png'}}, 'trophies': 2480, 'builderBaseTrophies': 2067, 'versusTrophies': 2067, 'clanRank': 35, 'previousClanRank': 35, 'donations': 8, 'donationsReceived': 1719, 'playerHouse': {'elements': [{'type': 'ground', 'id': 82000001}, {'type': 'walls', 'id': 82000053}, {'type': 'roof', 'id': 82000014}, {'type': 'decoration', 'id': 82000062}]}, 'builderBaseLeague': {'id': 44000020, 'name': 'Brass League III'}}, {'tag': '#89VVCRV2P', 'name': '❤LEYL İ VUSLAT❤', 'role': 'admin', 'expLevel': 238, 'league': {'id': 29000000, 'name': 'Unranked', 'iconUrls': {'small': 'https://api-assets.clashofclans.com/leagues/72/e--YMyIexEQQhE4imLoJcwhYn6Uy8KqlgyY3_kFV6t4.png', 'tiny': 'https://api-assets.clashofclans.com/leagues/36/e--YMyIexEQQhE4imLoJcwhYn6Uy8KqlgyY3_kFV6t4.png'}}, 'trophies': 2427, 'builderBaseTrophies': 3641, 'versusTrophies': 3641, 'clanRank': 36, 'previousClanRank': 37, 'donations': 147, 'donationsReceived': 0, 'playerHouse': {'elements': [{'type': 'ground', 'id': 82000000}, {'type': 'walls', 'id': 82000048}, {'type': 'roof', 'id': 82000009}, {'type': 'decoration', 'id': 82000058}]}, 'builderBaseLeague': {'id': 44000028, 'name': 'Steel League I'}}, {'tag': '#20CY89QLV', 'name': 'KıRoS 11', 'role': 'admin', 'expLevel': 151, 'league': {'id': 29000000, 'name': 'Unranked', 'iconUrls': {'small': 'https://api-assets.clashofclans.com/leagues/72/e--YMyIexEQQhE4imLoJcwhYn6Uy8KqlgyY3_kFV6t4.png', 'tiny': 'https://api-assets.clashofclans.com/leagues/36/e--YMyIexEQQhE4imLoJcwhYn6Uy8KqlgyY3_kFV6t4.png'}}, 'trophies': 2409, 'builderBaseTrophies': 2596, 'versusTrophies': 2596, 'clanRank': 37, 'previousClanRank': 36, 'donations': 0, 'donationsReceived': 144, 'playerHouse': {'elements': [{'type': 'ground', 'id': 82000001}, {'type': 'walls', 'id': 82000053}, {'type': 'roof', 'id': 82000013}, {'type': 'decoration', 'id': 82000060}]}, 'builderBaseLeague': {'id': 44000022, 'name': 'Brass League I'}}, {'tag': '#9QG92JGRQ', 'name': '⚡SLayer⚡', 'role': 'member', 'expLevel': 135, 'league': {'id': 29000012, 'name': 'Crystal League I', 'iconUrls': {'small': 'https://api-assets.clashofclans.com/leagues/72/kSfTyNNVSvogX3dMvpFUTt72VW74w6vEsEFuuOV4osQ.png', 'tiny': 'https://api-assets.clashofclans.com/leagues/36/kSfTyNNVSvogX3dMvpFUTt72VW74w6vEsEFuuOV4osQ.png', 'medium': 'https://api-assets.clashofclans.com/leagues/288/kSfTyNNVSvogX3dMvpFUTt72VW74w6vEsEFuuOV4osQ.png'}}, 'trophies': 2388, 'builderBaseTrophies': 2188, 'versusTrophies': 2188, 'clanRank': 38, 'previousClanRank': 38, 'donations': 0, 'donationsReceived': 0, 'playerHouse': {'elements': [{'type': 'ground', 'id': 82000000}, {'type': 'walls', 'id': 82000049}, {'type': 'roof', 'id': 82000016}, {'type': 'decoration', 'id': 82000060}]}, 'builderBaseLeague': {'id': 44000020, 'name': 'Brass League III'}}, {'tag': '#2GC2JQ9GG', 'name': 'trise', 'role': 'admin', 'expLevel': 127, 'league': {'id': 29000011, 'name': 'Crystal League II', 'iconUrls': {'small': 'https://api-assets.clashofclans.com/leagues/72/jhP36EhAA9n1ADafdQtCP-ztEAQjoRpY7cT8sU7SW8A.png', 'tiny': 'https://api-assets.clashofclans.com/leagues/36/jhP36EhAA9n1ADafdQtCP-ztEAQjoRpY7cT8sU7SW8A.png', 'medium': 'https://api-assets.clashofclans.com/leagues/288/jhP36EhAA9n1ADafdQtCP-ztEAQjoRpY7cT8sU7SW8A.png'}}, 'trophies': 2270, 'builderBaseTrophies': 2396, 'versusTrophies': 2396, 'clanRank': 39, 'previousClanRank': 39, 'donations': 10, 'donationsReceived': 209, 'playerHouse': {'elements': [{'type': 'ground', 'id': 82000000}, {'type': 'walls', 'id': 82000048}, {'type': 'roof', 'id': 82000016}, {'type': 'decoration', 'id': 82000058}]}, 'builderBaseLeague': {'id': 44000021, 'name': 'Brass League II'}}, {'tag': '#QV0YR9RR', 'name': 'Enheım', 'role': 'admin', 'expLevel': 167, 'league': {'id': 29000000, 'name': 'Unranked', 'iconUrls': {'small': 'https://api-assets.clashofclans.com/leagues/72/e--YMyIexEQQhE4imLoJcwhYn6Uy8KqlgyY3_kFV6t4.png', 'tiny': 'https://api-assets.clashofclans.com/leagues/36/e--YMyIexEQQhE4imLoJcwhYn6Uy8KqlgyY3_kFV6t4.png'}}, 'trophies': 2265, 'builderBaseTrophies': 3414, 'versusTrophies': 3414, 'clanRank': 40, 'previousClanRank': 41, 'donations': 357, 'donationsReceived': 522, 'playerHouse': {'elements': [{'type': 'ground', 'id': 82000000}, {'type': 'walls', 'id': 82000048}, {'type': 'roof', 'id': 82000009}, {'type': 'decoration', 'id': 82000058}]}, 'builderBaseLeague': {'id': 44000027, 'name': 'Steel League II'}}, {'tag': '#QURUYVPUR', 'name': 'gayeeg', 'role': 'admin', 'expLevel': 103, 'league': {'id': 29000011, 'name': 'Crystal League II', 'iconUrls': {'small': 'https://api-assets.clashofclans.com/leagues/72/jhP36EhAA9n1ADafdQtCP-ztEAQjoRpY7cT8sU7SW8A.png', 'tiny': 'https://api-assets.clashofclans.com/leagues/36/jhP36EhAA9n1ADafdQtCP-ztEAQjoRpY7cT8sU7SW8A.png', 'medium': 'https://api-assets.clashofclans.com/leagues/288/jhP36EhAA9n1ADafdQtCP-ztEAQjoRpY7cT8sU7SW8A.png'}}, 'trophies': 2260, 'builderBaseTrophies': 2183, 'versusTrophies': 2183, 'clanRank': 41, 'previousClanRank': 40, 'donations': 0, 'donationsReceived': 1984, 'playerHouse': {'elements': [{'type': 'ground', 'id': 82000006}, {'type': 'walls', 'id': 82000055}, {'type': 'roof', 'id': 82000046}, {'type': 'decoration', 'id': 82000067}]}, 'builderBaseLeague': {'id': 44000020, 'name': 'Brass League III'}}, {'tag': '#LQYYQQGRC', 'name': 'ESCOBAR HABİP', 'role': 'admin', 'expLevel': 126, 'league': {'id': 29000000, 'name': 'Unranked', 'iconUrls': {'small': 'https://api-assets.clashofclans.com/leagues/72/e--YMyIexEQQhE4imLoJcwhYn6Uy8KqlgyY3_kFV6t4.png', 'tiny': 'https://api-assets.clashofclans.com/leagues/36/e--YMyIexEQQhE4imLoJcwhYn6Uy8KqlgyY3_kFV6t4.png'}}, 'trophies': 2233, 'builderBaseTrophies': 3013, 'versusTrophies': 3013, 'clanRank': 42, 'previousClanRank': 42, 'donations': 0, 'donationsReceived': 0, 'playerHouse': {'elements': [{'type': 'ground', 'id': 82000000}, {'type': 'walls', 'id': 82000048}, {'type': 'roof', 'id': 82000009}, {'type': 'decoration', 'id': 82000058}]}, 'builderBaseLeague': {'id': 44000025, 'name': 'Iron League I'}}, {'tag': '#2V0PYYYLL', 'name': 'Hüseyin Burak', 'role': 'admin', 'expLevel': 154, 'league': {'id': 29000011, 'name': 'Crystal League II', 'iconUrls': {'small': 'https://api-assets.clashofclans.com/leagues/72/jhP36EhAA9n1ADafdQtCP-ztEAQjoRpY7cT8sU7SW8A.png', 'tiny': 'https://api-assets.clashofclans.com/leagues/36/jhP36EhAA9n1ADafdQtCP-ztEAQjoRpY7cT8sU7SW8A.png', 'medium': 'https://api-assets.clashofclans.com/leagues/288/jhP36EhAA9n1ADafdQtCP-ztEAQjoRpY7cT8sU7SW8A.png'}}, 'trophies': 2229, 'builderBaseTrophies': 2091, 'versusTrophies': 2091, 'clanRank': 43, 'previousClanRank': 43, 'donations': 0, 'donationsReceived': 0, 'builderBaseLeague': {'id': 44000020, 'name': 'Brass League III'}}, {'tag': '#8GG8Y0QCQ', 'name': 'cool', 'role': 'admin', 'expLevel': 146, 'league': {'id': 29000000, 'name': 'Unranked', 'iconUrls': {'small': 'https://api-assets.clashofclans.com/leagues/72/e--YMyIexEQQhE4imLoJcwhYn6Uy8KqlgyY3_kFV6t4.png', 'tiny': 'https://api-assets.clashofclans.com/leagues/36/e--YMyIexEQQhE4imLoJcwhYn6Uy8KqlgyY3_kFV6t4.png'}}, 'trophies': 2062, 'builderBaseTrophies': 2399, 'versusTrophies': 2399, 'clanRank': 44, 'previousClanRank': 44, 'donations': 0, 'donationsReceived': 0, 'builderBaseLeague': {'id': 44000021, 'name': 'Brass League II'}}, {'tag': '#LQVCL28G', 'name': 'liveyourlife', 'role': 'admin', 'expLevel': 106, 'league': {'id': 29000009, 'name': 'Gold League I', 'iconUrls': {'small': 'https://api-assets.clashofclans.com/leagues/72/CorhMY9ZmQvqXTZ4VYVuUgPNGSHsO0cEXEL5WYRmB2Y.png', 'tiny': 'https://api-assets.clashofclans.com/leagues/36/CorhMY9ZmQvqXTZ4VYVuUgPNGSHsO0cEXEL5WYRmB2Y.png', 'medium': 'https://api-assets.clashofclans.com/leagues/288/CorhMY9ZmQvqXTZ4VYVuUgPNGSHsO0cEXEL5WYRmB2Y.png'}}, 'trophies': 1865, 'builderBaseTrophies': 2395, 'versusTrophies': 2395, 'clanRank': 45, 'previousClanRank': 45, 'donations': 2, 'donationsReceived': 0, 'builderBaseLeague': {'id': 44000021, 'name': 'Brass League II'}}, {'tag': '#G80LQJLVU', 'name': 'İbo bey', 'role': 'admin', 'expLevel': 95, 'league': {'id': 29000009, 'name': 'Gold League I', 'iconUrls': {'small': 'https://api-assets.clashofclans.com/leagues/72/CorhMY9ZmQvqXTZ4VYVuUgPNGSHsO0cEXEL5WYRmB2Y.png', 'tiny': 'https://api-assets.clashofclans.com/leagues/36/CorhMY9ZmQvqXTZ4VYVuUgPNGSHsO0cEXEL5WYRmB2Y.png', 'medium': 'https://api-assets.clashofclans.com/leagues/288/CorhMY9ZmQvqXTZ4VYVuUgPNGSHsO0cEXEL5WYRmB2Y.png'}}, 'trophies': 1817, 'builderBaseTrophies': 2436, 'versusTrophies': 2436, 'clanRank': 46, 'previousClanRank': 46, 'donations': 42, 'donationsReceived': 0, 'playerHouse': {'elements': [{'type': 'ground', 'id': 82000000}, {'type': 'walls', 'id': 82000048}, {'type': 'roof', 'id': 82000011}, {'type': 'decoration', 'id': 82000058}]}, 'builderBaseLeague': {'id': 44000022, 'name': 'Brass League I'}}, {'tag': '#998PGL9V0', 'name': 'Drogba', 'role': 'admin', 'expLevel': 85, 'league': {'id': 29000008, 'name': 'Gold League II', 'iconUrls': {'small': 'https://api-assets.clashofclans.com/leagues/72/Y6CveuHmPM_oiOic2Yet0rYL9AFRYW0WA0u2e44-YbM.png', 'tiny': 'https://api-assets.clashofclans.com/leagues/36/Y6CveuHmPM_oiOic2Yet0rYL9AFRYW0WA0u2e44-YbM.png', 'medium': 'https://api-assets.clashofclans.com/leagues/288/Y6CveuHmPM_oiOic2Yet0rYL9AFRYW0WA0u2e44-YbM.png'}}, 'trophies': 1720, 'builderBaseTrophies': 1962, 'versusTrophies': 1962, 'clanRank': 47, 'previousClanRank': 47, 'donations': 0, 'donationsReceived': 66, 'playerHouse': {'elements': [{'type': 'ground', 'id': 82000000}, {'type': 'walls', 'id': 82000048}, {'type': 'roof', 'id': 82000011}, {'type': 'decoration', 'id': 82000059}]}, 'builderBaseLeague': {'id': 44000019, 'name': 'Copper League I'}}, {'tag': '#QY09PQRV2', 'name': '07faru', 'role': 'admin', 'expLevel': 95, 'league': {'id': 29000007, 'name': 'Gold League III', 'iconUrls': {'small': 'https://api-assets.clashofclans.com/leagues/72/vd4Lhz5b2I1P0cLH25B6q63JN3Wt1j2NTMhOYpMPQ4M.png', 'tiny': 'https://api-assets.clashofclans.com/leagues/36/vd4Lhz5b2I1P0cLH25B6q63JN3Wt1j2NTMhOYpMPQ4M.png', 'medium': 'https://api-assets.clashofclans.com/leagues/288/vd4Lhz5b2I1P0cLH25B6q63JN3Wt1j2NTMhOYpMPQ4M.png'}}, 'trophies': 1534, 'builderBaseTrophies': 1471, 'versusTrophies': 1471, 'clanRank': 48, 'previousClanRank': 48, 'donations': 164, 'donationsReceived': 494, 'playerHouse': {'elements': [{'type': 'ground', 'id': 82000002}, {'type': 'walls', 'id': 82000053}, {'type': 'roof', 'id': 82000015}, {'type': 'decoration', 'id': 82000060}]}, 'builderBaseLeague': {'id': 44000014, 'name': 'Stone League I'}}, {'tag': '#QYG8Y82QU', 'name': 'Savaş Kulesi', 'role': 'admin', 'expLevel': 77, 'league': {'id': 29000000, 'name': 'Unranked', 'iconUrls': {'small': 'https://api-assets.clashofclans.com/leagues/72/e--YMyIexEQQhE4imLoJcwhYn6Uy8KqlgyY3_kFV6t4.png', 'tiny': 'https://api-assets.clashofclans.com/leagues/36/e--YMyIexEQQhE4imLoJcwhYn6Uy8KqlgyY3_kFV6t4.png'}}, 'trophies': 1488, 'builderBaseTrophies': 1436, 'versusTrophies': 1436, 'clanRank': 49, 'previousClanRank': 49, 'donations': 0, 'donationsReceived': 0, 'playerHouse': {'elements': [{'type': 'ground', 'id': 82000000}, {'type': 'walls', 'id': 82000048}, {'type': 'roof', 'id': 82000009}, {'type': 'decoration', 'id': 82000061}]}, 'builderBaseLeague': {'id': 44000014, 'name': 'Stone League I'}}, {'tag': '#QC02RCLCR', 'name': 'Etdead', 'role': 'admin', 'expLevel': 79, 'league': {'id': 29000007, 'name': 'Gold League III', 'iconUrls': {'small': 'https://api-assets.clashofclans.com/leagues/72/vd4Lhz5b2I1P0cLH25B6q63JN3Wt1j2NTMhOYpMPQ4M.png', 'tiny': 'https://api-assets.clashofclans.com/leagues/36/vd4Lhz5b2I1P0cLH25B6q63JN3Wt1j2NTMhOYpMPQ4M.png', 'medium': 'https://api-assets.clashofclans.com/leagues/288/vd4Lhz5b2I1P0cLH25B6q63JN3Wt1j2NTMhOYpMPQ4M.png'}}, 'trophies': 1466, 'builderBaseTrophies': 1985, 'versusTrophies': 1985, 'clanRank': 50, 'previousClanRank': 50, 'donations': 0, 'donationsReceived': 0, 'builderBaseLeague': {'id': 44000019, 'name': 'Copper League I'}}], 'paging': {'cursors': {}}}\n"
     ]
    }
   ],
   "source": [
    "datos_d = json.loads(datos1)\n",
    "print(type(datos_d))\n",
    "#print(datos_d)"
   ]
  },
  {
   "cell_type": "markdown",
   "id": "0422cfb3",
   "metadata": {},
   "source": [
    "### <span style=\"color: #A6BD4C\"> Segundo filtrado (df) </span>"
   ]
  },
  {
   "cell_type": "code",
   "execution_count": 10,
   "id": "bddcc971",
   "metadata": {},
   "outputs": [],
   "source": [
    "#Vamos a filtrar los jugadores del clan con mayor cantidad de puntos\n",
    "#Se crean las listas vacías para almacenar los datos de los jugadores\n",
    "nombre = []\n",
    "rol = []\n",
    "experiencia = []\n",
    "trofeos = []\n",
    "rango = []\n",
    "\n",
    "#Se hace una iteración sobre los elementos de datos_d[\"items\"] y extraemos los valores\n",
    "for i in range(len(datos_d[\"items\"])):\n",
    "    nombre.append(datos_d[\"items\"][i]['name'])\n",
    "    rol.append(datos_d[\"items\"][i]['role'])\n",
    "    experiencia.append(datos_d[\"items\"][i]['expLevel'])\n",
    "    trofeos.append(datos_d[\"items\"][i]['trophies'])\n",
    "    rango.append(datos_d[\"items\"][i]['clanRank'])\n",
    "\n",
    "#Creamos un diccionario con las listas recopiladas\n",
    "frame = {'Nombres CoC': nombre, 'Roles CoC': rol, 'Nivel de experiencia CoC': experiencia, 'Trofeos CoC': trofeos, 'Rango del clan CoC': rango}"
   ]
  },
  {
   "cell_type": "markdown",
   "id": "3d8d308d",
   "metadata": {},
   "source": [
    "### <span style=\"color: #F34230\"> Pasar a dataframe (df) </span>"
   ]
  },
  {
   "cell_type": "code",
   "execution_count": 11,
   "id": "11ef4f82",
   "metadata": {},
   "outputs": [
    {
     "data": {
      "text/html": [
       "<div>\n",
       "<style scoped>\n",
       "    .dataframe tbody tr th:only-of-type {\n",
       "        vertical-align: middle;\n",
       "    }\n",
       "\n",
       "    .dataframe tbody tr th {\n",
       "        vertical-align: top;\n",
       "    }\n",
       "\n",
       "    .dataframe thead th {\n",
       "        text-align: right;\n",
       "    }\n",
       "</style>\n",
       "<table border=\"1\" class=\"dataframe\">\n",
       "  <thead>\n",
       "    <tr style=\"text-align: right;\">\n",
       "      <th></th>\n",
       "      <th>Nombres CoC</th>\n",
       "      <th>Roles CoC</th>\n",
       "      <th>Nivel de experiencia CoC</th>\n",
       "      <th>Trofeos CoC</th>\n",
       "      <th>Rango del clan CoC</th>\n",
       "    </tr>\n",
       "  </thead>\n",
       "  <tbody>\n",
       "    <tr>\n",
       "      <th>0</th>\n",
       "      <td>ibrahim</td>\n",
       "      <td>coLeader</td>\n",
       "      <td>207</td>\n",
       "      <td>5120</td>\n",
       "      <td>1</td>\n",
       "    </tr>\n",
       "    <tr>\n",
       "      <th>1</th>\n",
       "      <td>Ozan</td>\n",
       "      <td>leader</td>\n",
       "      <td>241</td>\n",
       "      <td>5029</td>\n",
       "      <td>2</td>\n",
       "    </tr>\n",
       "    <tr>\n",
       "      <th>2</th>\n",
       "      <td>• [S] [A] [M] •</td>\n",
       "      <td>coLeader</td>\n",
       "      <td>234</td>\n",
       "      <td>5004</td>\n",
       "      <td>3</td>\n",
       "    </tr>\n",
       "    <tr>\n",
       "      <th>3</th>\n",
       "      <td>MüdürSam</td>\n",
       "      <td>coLeader</td>\n",
       "      <td>240</td>\n",
       "      <td>4946</td>\n",
       "      <td>4</td>\n",
       "    </tr>\n",
       "    <tr>\n",
       "      <th>4</th>\n",
       "      <td>ChromeBrasCo</td>\n",
       "      <td>admin</td>\n",
       "      <td>234</td>\n",
       "      <td>4603</td>\n",
       "      <td>5</td>\n",
       "    </tr>\n",
       "    <tr>\n",
       "      <th>5</th>\n",
       "      <td>Ozan 59</td>\n",
       "      <td>admin</td>\n",
       "      <td>223</td>\n",
       "      <td>4368</td>\n",
       "      <td>6</td>\n",
       "    </tr>\n",
       "    <tr>\n",
       "      <th>6</th>\n",
       "      <td>★ ★NREMRE ★ ★</td>\n",
       "      <td>coLeader</td>\n",
       "      <td>236</td>\n",
       "      <td>4275</td>\n",
       "      <td>7</td>\n",
       "    </tr>\n",
       "    <tr>\n",
       "      <th>7</th>\n",
       "      <td>YakupFurkan</td>\n",
       "      <td>coLeader</td>\n",
       "      <td>210</td>\n",
       "      <td>4220</td>\n",
       "      <td>8</td>\n",
       "    </tr>\n",
       "    <tr>\n",
       "      <th>8</th>\n",
       "      <td>(『You』LosTツ ) ✌</td>\n",
       "      <td>coLeader</td>\n",
       "      <td>155</td>\n",
       "      <td>4117</td>\n",
       "      <td>9</td>\n",
       "    </tr>\n",
       "    <tr>\n",
       "      <th>9</th>\n",
       "      <td>faru</td>\n",
       "      <td>coLeader</td>\n",
       "      <td>186</td>\n",
       "      <td>4115</td>\n",
       "      <td>10</td>\n",
       "    </tr>\n",
       "  </tbody>\n",
       "</table>\n",
       "</div>"
      ],
      "text/plain": [
       "       Nombres CoC Roles CoC  Nivel de experiencia CoC  Trofeos CoC  \\\n",
       "0          ibrahim  coLeader                       207         5120   \n",
       "1             Ozan    leader                       241         5029   \n",
       "2  • [S] [A] [M] •  coLeader                       234         5004   \n",
       "3         MüdürSam  coLeader                       240         4946   \n",
       "4     ChromeBrasCo     admin                       234         4603   \n",
       "5          Ozan 59     admin                       223         4368   \n",
       "6    ★ ★NREMRE ★ ★  coLeader                       236         4275   \n",
       "7      YakupFurkan  coLeader                       210         4220   \n",
       "8  (『You』LosTツ ) ✌  coLeader                       155         4117   \n",
       "9             faru  coLeader                       186         4115   \n",
       "\n",
       "   Rango del clan CoC  \n",
       "0                   1  \n",
       "1                   2  \n",
       "2                   3  \n",
       "3                   4  \n",
       "4                   5  \n",
       "5                   6  \n",
       "6                   7  \n",
       "7                   8  \n",
       "8                   9  \n",
       "9                  10  "
      ]
     },
     "execution_count": 11,
     "metadata": {},
     "output_type": "execute_result"
    }
   ],
   "source": [
    "#Convertimos a dataframe\n",
    "DF = pd.DataFrame(frame)\n",
    "\n",
    "#Ordenamos en función a los trofeos obtenidos los miembros\n",
    "DF1 = DF.sort_values(by='Trofeos CoC', ascending=False).head(10).reset_index(drop=True)\n",
    "\n",
    "DF1"
   ]
  },
  {
   "cell_type": "markdown",
   "id": "ef3640fd",
   "metadata": {},
   "source": [
    "## <span style=\"color:rgb(75, 150, 171)\"> Descripción del juego Clash Royale</span>"
   ]
  },
  {
   "cell_type": "markdown",
   "id": "51bed2f8",
   "metadata": {},
   "source": [
    "\n",
    "Tambien conocido como CR es un juego de estrategia y combate en tiempo real ambientada en el mismo universo de Clash of Clans, tambien desarrollada por Supercell. Combina elementos de juegos de cartas coleccionables, defensa de torres y estrategia multijugador en línea.\n",
    "Antes de iniciar con el WebScraping necesitamos crear una cuenta en la web API https://developer.clashroyale.com/#/ para obtener nuestra clave token.\n",
    "\n",
    "\n",
    "<img src=\"https://assets-prd.ignimgs.com/2022/05/27/clashroyale-1653673820137.jpg\" alt=\"Clash of Clans\" width=\"500\">"
   ]
  },
  {
   "cell_type": "markdown",
   "id": "1e77f16f",
   "metadata": {},
   "source": [
    "### WebScraping mediante API's [ Clash Royale ]"
   ]
  },
  {
   "cell_type": "markdown",
   "id": "42bb2be2",
   "metadata": {},
   "source": [
    "## <span style=\"color: #709f1d\"> Conexión con la url (str) </span>\n"
   ]
  },
  {
   "cell_type": "code",
   "execution_count": 6,
   "id": "122e49c0",
   "metadata": {},
   "outputs": [],
   "source": [
    "import urllib.request\n",
    "from urllib.request import urlopen\n",
    "import pandas as pd\n",
    "import requests\n",
    "import json\n",
    "import polars as pl\n",
    "with open(\"my_keyArthur.txt\") as f:\n",
    "    my_key =f.read().rstrip(\"\\n\")\n",
    "    \n",
    "    base_url = \"https://api.clashroyale.com/v1\"\n",
    "    \n",
    "    #endpoint = \"/cards\"\n",
    "    endpoint = \"/clans?minScore=16000\"\n",
    "    \n",
    "    request = urllib.request.Request(\n",
    "        base_url+endpoint,\n",
    "        None,\n",
    "        {\n",
    "            \"Authorization\": \"Bearer %s\" % my_key\n",
    "        }\n",
    "    )\n",
    "    uclient=urlopen(request)\n",
    "    responsehtml=uclient.read()\n",
    "    #type(responsehtml)\n",
    "    #uclient.close()\n",
    "    #data = responsehtml.decode()\n",
    "\n",
    "    #data\n",
    "    #response = urllib.request.urlopen(request).read().decode(\"utf-8\")\n",
    "    \n",
    "    data = responsehtml#.decode(\"utf-8\")\n",
    "    uclient.close()\n",
    "    data\n",
    "    #data = json.loads(response)\n",
    "    #for item in data[\"items\"]:\n",
    "        #print(\"%s [%d]\" % (item[\"name\"], item[\"maxLevel\"]))\n",
    "        #d =\"Clan: %s\\nMembers: %d\\nScore: %s\\nTag: %s\\n\\n\" % (item[\"name\"], item[\"members\"], item[\"clanScore\"], item[\"tag\"])\n",
    "        #print(d)\n",
    "   #print(data)"
   ]
  },
  {
   "cell_type": "markdown",
   "id": "59cf8357",
   "metadata": {},
   "source": [
    "## <span style=\"color: #26a783\"> Pasar a diccionario (dict) </span>"
   ]
  },
  {
   "cell_type": "code",
   "execution_count": 7,
   "id": "083ce352",
   "metadata": {},
   "outputs": [
    {
     "name": "stdout",
     "output_type": "stream",
     "text": [
      "<class 'dict'>\n"
     ]
    }
   ],
   "source": [
    "info= json.loads(data)\n",
    "print(type(info))"
   ]
  },
  {
   "cell_type": "markdown",
   "id": "a3d7da99",
   "metadata": {},
   "source": [
    "## <span style=\"color: #A6BD4C\"> Filtrado (df) </span>"
   ]
  },
  {
   "cell_type": "code",
   "execution_count": 8,
   "id": "02f5da6d",
   "metadata": {},
   "outputs": [],
   "source": [
    "clanPoints = []\n",
    "location=[]\n",
    "member=[]\n",
    "clan=[]\n",
    "Type=[]\n",
    "#print(info[\"items\"][0])\n",
    "for i in range(len(info[\"items\"])):\n",
    "    clanPoints.append(info[\"items\"][i]['clanScore'])\n",
    "    location.append(info[\"items\"][i]['location']['name'])\n",
    "    member.append(info[\"items\"][i][\"members\"])\n",
    "    clan.append(info [\"items\"][i][\"name\"])\n",
    "    Type.append(info[\"items\"][i][\"type\"])\n",
    "dff={\"Clan name (CR)\":clan,'ClanPoints (CR)':clanPoints,\"Type (CR)\":Type,'Location (CR)':location,'Members (CR)':member}\n",
    "#print(clanPoints)\n",
    "#print(location)\n",
    "DFF=pd.DataFrame(dff)"
   ]
  },
  {
   "cell_type": "markdown",
   "id": "a96de4a6",
   "metadata": {},
   "source": [
    "## <span style=\"color: #ab1ba5\"> Pasar a dataframe (df) </span>"
   ]
  },
  {
   "cell_type": "code",
   "execution_count": 9,
   "id": "d8c1e5aa",
   "metadata": {},
   "outputs": [
    {
     "data": {
      "text/html": [
       "<div>\n",
       "<style scoped>\n",
       "    .dataframe tbody tr th:only-of-type {\n",
       "        vertical-align: middle;\n",
       "    }\n",
       "\n",
       "    .dataframe tbody tr th {\n",
       "        vertical-align: top;\n",
       "    }\n",
       "\n",
       "    .dataframe thead th {\n",
       "        text-align: right;\n",
       "    }\n",
       "</style>\n",
       "<table border=\"1\" class=\"dataframe\">\n",
       "  <thead>\n",
       "    <tr style=\"text-align: right;\">\n",
       "      <th></th>\n",
       "      <th>Clan name (CR)</th>\n",
       "      <th>ClanPoints (CR)</th>\n",
       "      <th>Type (CR)</th>\n",
       "      <th>Location (CR)</th>\n",
       "      <th>Members (CR)</th>\n",
       "    </tr>\n",
       "  </thead>\n",
       "  <tbody>\n",
       "    <tr>\n",
       "      <th>0</th>\n",
       "      <td>Clan #LL8QPC8P</td>\n",
       "      <td>66464</td>\n",
       "      <td>open</td>\n",
       "      <td>United States</td>\n",
       "      <td>50</td>\n",
       "    </tr>\n",
       "    <tr>\n",
       "      <th>1</th>\n",
       "      <td>Clan #P9CL8R0G</td>\n",
       "      <td>64456</td>\n",
       "      <td>open</td>\n",
       "      <td>United States</td>\n",
       "      <td>50</td>\n",
       "    </tr>\n",
       "    <tr>\n",
       "      <th>2</th>\n",
       "      <td>kutingin</td>\n",
       "      <td>53851</td>\n",
       "      <td>closed</td>\n",
       "      <td>International</td>\n",
       "      <td>47</td>\n",
       "    </tr>\n",
       "    <tr>\n",
       "      <th>3</th>\n",
       "      <td>Return</td>\n",
       "      <td>52342</td>\n",
       "      <td>inviteOnly</td>\n",
       "      <td>Spain</td>\n",
       "      <td>50</td>\n",
       "    </tr>\n",
       "    <tr>\n",
       "      <th>4</th>\n",
       "      <td>喧嘩稼業</td>\n",
       "      <td>51003</td>\n",
       "      <td>closed</td>\n",
       "      <td>Japan</td>\n",
       "      <td>29</td>\n",
       "    </tr>\n",
       "    <tr>\n",
       "      <th>5</th>\n",
       "      <td>Hearthstone BR</td>\n",
       "      <td>49898</td>\n",
       "      <td>closed</td>\n",
       "      <td>Brazil</td>\n",
       "      <td>33</td>\n",
       "    </tr>\n",
       "    <tr>\n",
       "      <th>6</th>\n",
       "      <td>아낌없이주는연수</td>\n",
       "      <td>49358</td>\n",
       "      <td>open</td>\n",
       "      <td>International</td>\n",
       "      <td>32</td>\n",
       "    </tr>\n",
       "    <tr>\n",
       "      <th>7</th>\n",
       "      <td>ClashWithClass™</td>\n",
       "      <td>46828</td>\n",
       "      <td>closed</td>\n",
       "      <td>Spain</td>\n",
       "      <td>26</td>\n",
       "    </tr>\n",
       "    <tr>\n",
       "      <th>8</th>\n",
       "      <td>Acrifaal</td>\n",
       "      <td>45107</td>\n",
       "      <td>closed</td>\n",
       "      <td>Ukraine</td>\n",
       "      <td>21</td>\n",
       "    </tr>\n",
       "    <tr>\n",
       "      <th>9</th>\n",
       "      <td>om</td>\n",
       "      <td>43548</td>\n",
       "      <td>closed</td>\n",
       "      <td>International</td>\n",
       "      <td>24</td>\n",
       "    </tr>\n",
       "  </tbody>\n",
       "</table>\n",
       "</div>"
      ],
      "text/plain": [
       "    Clan name (CR)  ClanPoints (CR)   Type (CR)  Location (CR)  Members (CR)\n",
       "0   Clan #LL8QPC8P            66464        open  United States            50\n",
       "1   Clan #P9CL8R0G            64456        open  United States            50\n",
       "2         kutingin            53851      closed  International            47\n",
       "3           Return            52342  inviteOnly          Spain            50\n",
       "4             喧嘩稼業            51003      closed          Japan            29\n",
       "5   Hearthstone BR            49898      closed         Brazil            33\n",
       "6         아낌없이주는연수            49358        open  International            32\n",
       "7  ClashWithClass™            46828      closed          Spain            26\n",
       "8         Acrifaal            45107      closed        Ukraine            21\n",
       "9               om            43548      closed  International            24"
      ]
     },
     "execution_count": 9,
     "metadata": {},
     "output_type": "execute_result"
    }
   ],
   "source": [
    "DFF=pd.DataFrame(dff)\n",
    "\n",
    "#TOP 10 CLANES PARA LA FECHA 18/06/2023\n",
    "DFF1 = DFF.sort_values(by='ClanPoints (CR)', ascending=False).head(10).reset_index(drop=True)\n",
    "\n",
    "DFF1"
   ]
  },
  {
   "cell_type": "markdown",
   "id": "931ca160",
   "metadata": {},
   "source": [
    "<img src=\"https://i.ytimg.com/vi/biM_RUsfOso/maxresdefault.jpg\" alt=\"Clash of Clans\" width=\"500\">"
   ]
  },
  {
   "cell_type": "markdown",
   "id": "b4f16307",
   "metadata": {},
   "source": [
    "## <span style=\"color: #709f1d\"> Segunda conexión con la url (str) </span>"
   ]
  },
  {
   "cell_type": "code",
   "execution_count": 11,
   "id": "d6bcc8f5",
   "metadata": {},
   "outputs": [],
   "source": [
    "with open(\"my_keyArthur.txt\") as f:\n",
    "    my_key =f.read().rstrip(\"\\n\")\n",
    "    base_url = \"https://api.clashroyale.com/v1\"\n",
    "    \n",
    "    #endpoint = \"/cards\"\n",
    "    endpoint = \"/clans/%23LL8QPC8P/members\"\n",
    "    \n",
    "    request = urllib.request.Request(\n",
    "        base_url+endpoint,\n",
    "        None,\n",
    "        {\n",
    "            \"Authorization\": \"Bearer %s\" % my_key\n",
    "        }\n",
    "    )\n",
    "    uclient=urlopen(request)\n",
    "    responsehtml=uclient.read()\n",
    "    #type(responsehtml)\n",
    "    #uclient.close()\n",
    "    #data = responsehtml.decode()\n",
    "\n",
    "    #data\n",
    "    #response = urllib.request.urlopen(request).read().decode(\"utf-8\")\n",
    "    \n",
    "    dataP = responsehtml#.decode(\"utf-8\")\n",
    "    uclient.close()\n",
    "    dataP\n",
    "    #data = json.loads(response)\n",
    "    #for item in data[\"items\"]:\n",
    "        #print(\"%s [%d]\" % (item[\"name\"], item[\"maxLevel\"]))\n",
    "        #d =\"Clan: %s\\nMembers: %d\\nScore: %s\\nTag: %s\\n\\n\" % (item[\"name\"], item[\"members\"], item[\"clanScore\"], item[\"tag\"])\n",
    "        #print(d)\n",
    "    #print(dataP)\n"
   ]
  },
  {
   "cell_type": "markdown",
   "id": "c682f47b",
   "metadata": {},
   "source": [
    "## <span style=\"color: #26a783\"> Pasar a diccionario (dict) </span>"
   ]
  },
  {
   "cell_type": "code",
   "execution_count": 12,
   "id": "d9927fcf",
   "metadata": {},
   "outputs": [
    {
     "name": "stdout",
     "output_type": "stream",
     "text": [
      "<class 'dict'>\n"
     ]
    }
   ],
   "source": [
    "infoP = json.loads(dataP)\n",
    "print(type(infoP))\n"
   ]
  },
  {
   "cell_type": "markdown",
   "id": "f27bb848",
   "metadata": {},
   "source": [
    "## <span style=\"color: #A6BD4C\"> Filtrado (df) </span>"
   ]
  },
  {
   "cell_type": "code",
   "execution_count": 14,
   "id": "6efa731d",
   "metadata": {},
   "outputs": [],
   "source": [
    "nameP=[]\n",
    "levelP=[]\n",
    "rol=[]\n",
    "trofeos=[]\n",
    "rango=[]\n",
    "for i in range(len(infoP[\"items\"])):\n",
    "    nameP.append(infoP[\"items\"][i][\"name\"])\n",
    "    levelP.append(infoP[\"items\"][i][\"expLevel\"])\n",
    "    rol.append(infoP[\"items\"][i][\"role\"])\n",
    "    trofeos.append(infoP[\"items\"][i][\"trophies\"])\n",
    "    rango.append(infoP[\"items\"][i][\"clanRank\"])\n",
    "dffP={'Player name':nameP,'Level':levelP,\"role\":rol,\"Trophies\":trofeos,\"Clan Rank\":rango}\n",
    "DFFP=pd.DataFrame(dffP)"
   ]
  },
  {
   "cell_type": "markdown",
   "id": "fcd13623",
   "metadata": {},
   "source": [
    "## <span style=\"color: #ab1ba5\"> Pasar a dataframe (df) </span>"
   ]
  },
  {
   "cell_type": "code",
   "execution_count": 17,
   "id": "cceee0a7",
   "metadata": {},
   "outputs": [
    {
     "data": {
      "text/html": [
       "<div>\n",
       "<style scoped>\n",
       "    .dataframe tbody tr th:only-of-type {\n",
       "        vertical-align: middle;\n",
       "    }\n",
       "\n",
       "    .dataframe tbody tr th {\n",
       "        vertical-align: top;\n",
       "    }\n",
       "\n",
       "    .dataframe thead th {\n",
       "        text-align: right;\n",
       "    }\n",
       "</style>\n",
       "<table border=\"1\" class=\"dataframe\">\n",
       "  <thead>\n",
       "    <tr style=\"text-align: right;\">\n",
       "      <th></th>\n",
       "      <th>Player name</th>\n",
       "      <th>Level</th>\n",
       "      <th>role</th>\n",
       "      <th>Trophies</th>\n",
       "      <th>Clan Rank</th>\n",
       "    </tr>\n",
       "  </thead>\n",
       "  <tbody>\n",
       "    <tr>\n",
       "      <th>0</th>\n",
       "      <td>Broads In ATL</td>\n",
       "      <td>45</td>\n",
       "      <td>elder</td>\n",
       "      <td>7305</td>\n",
       "      <td>1</td>\n",
       "    </tr>\n",
       "    <tr>\n",
       "      <th>1</th>\n",
       "      <td>TrapLord Truebs</td>\n",
       "      <td>50</td>\n",
       "      <td>coLeader</td>\n",
       "      <td>7030</td>\n",
       "      <td>2</td>\n",
       "    </tr>\n",
       "    <tr>\n",
       "      <th>2</th>\n",
       "      <td>Dicinbal</td>\n",
       "      <td>41</td>\n",
       "      <td>member</td>\n",
       "      <td>7000</td>\n",
       "      <td>3</td>\n",
       "    </tr>\n",
       "    <tr>\n",
       "      <th>3</th>\n",
       "      <td>MobyDck</td>\n",
       "      <td>50</td>\n",
       "      <td>leader</td>\n",
       "      <td>6771</td>\n",
       "      <td>4</td>\n",
       "    </tr>\n",
       "    <tr>\n",
       "      <th>4</th>\n",
       "      <td>Peter17$1.0</td>\n",
       "      <td>40</td>\n",
       "      <td>member</td>\n",
       "      <td>6733</td>\n",
       "      <td>5</td>\n",
       "    </tr>\n",
       "    <tr>\n",
       "      <th>5</th>\n",
       "      <td>kpopmattlauer</td>\n",
       "      <td>42</td>\n",
       "      <td>elder</td>\n",
       "      <td>6721</td>\n",
       "      <td>6</td>\n",
       "    </tr>\n",
       "    <tr>\n",
       "      <th>6</th>\n",
       "      <td>Imagine Losing</td>\n",
       "      <td>41</td>\n",
       "      <td>member</td>\n",
       "      <td>6712</td>\n",
       "      <td>7</td>\n",
       "    </tr>\n",
       "    <tr>\n",
       "      <th>7</th>\n",
       "      <td>Jeff</td>\n",
       "      <td>41</td>\n",
       "      <td>member</td>\n",
       "      <td>6709</td>\n",
       "      <td>8</td>\n",
       "    </tr>\n",
       "    <tr>\n",
       "      <th>8</th>\n",
       "      <td>William14K</td>\n",
       "      <td>50</td>\n",
       "      <td>member</td>\n",
       "      <td>6705</td>\n",
       "      <td>9</td>\n",
       "    </tr>\n",
       "    <tr>\n",
       "      <th>9</th>\n",
       "      <td>Rpooon14</td>\n",
       "      <td>42</td>\n",
       "      <td>member</td>\n",
       "      <td>6695</td>\n",
       "      <td>10</td>\n",
       "    </tr>\n",
       "  </tbody>\n",
       "</table>\n",
       "</div>"
      ],
      "text/plain": [
       "       Player name  Level      role  Trophies  Clan Rank\n",
       "0    Broads In ATL     45     elder      7305          1\n",
       "1  TrapLord Truebs     50  coLeader      7030          2\n",
       "2         Dicinbal     41    member      7000          3\n",
       "3          MobyDck     50    leader      6771          4\n",
       "4      Peter17$1.0     40    member      6733          5\n",
       "5    kpopmattlauer     42     elder      6721          6\n",
       "6   Imagine Losing     41    member      6712          7\n",
       "7             Jeff     41    member      6709          8\n",
       "8       William14K     50    member      6705          9\n",
       "9         Rpooon14     42    member      6695         10"
      ]
     },
     "execution_count": 17,
     "metadata": {},
     "output_type": "execute_result"
    }
   ],
   "source": [
    "#TOP 10 CLANES PARA LA FECHA 18/06/2023\n",
    "DFFP1 = DFFP.head(10)\n",
    "\n",
    "DFFP1"
   ]
  },
  {
   "cell_type": "code",
   "execution_count": null,
   "id": "1d47112e",
   "metadata": {},
   "outputs": [],
   "source": []
  },
  {
   "cell_type": "code",
   "execution_count": null,
   "id": "fc5a00b1",
   "metadata": {},
   "outputs": [],
   "source": []
  },
  {
   "cell_type": "markdown",
   "id": "f657f85b",
   "metadata": {},
   "source": [
    "### >Merge a los DataFrame"
   ]
  },
  {
   "cell_type": "markdown",
   "id": "58e2d6c0",
   "metadata": {},
   "source": [
    "### >Pasar a csv"
   ]
  },
  {
   "cell_type": "markdown",
   "id": "82dbbf38",
   "metadata": {},
   "source": [
    "### Errores\n",
    "-\n"
   ]
  },
  {
   "cell_type": "markdown",
   "id": "33604f96",
   "metadata": {},
   "source": [
    "### >Conclusión"
   ]
  },
  {
   "cell_type": "code",
   "execution_count": null,
   "id": "1252308c",
   "metadata": {},
   "outputs": [],
   "source": []
  }
 ],
 "metadata": {
  "kernelspec": {
   "display_name": "Python 3 (ipykernel)",
   "language": "python",
   "name": "python3"
  },
  "language_info": {
   "codemirror_mode": {
    "name": "ipython",
    "version": 3
   },
   "file_extension": ".py",
   "mimetype": "text/x-python",
   "name": "python",
   "nbconvert_exporter": "python",
   "pygments_lexer": "ipython3",
   "version": "3.9.13"
  }
 },
 "nbformat": 4,
 "nbformat_minor": 5
}
