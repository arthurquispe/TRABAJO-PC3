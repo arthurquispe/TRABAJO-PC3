{
 "cells": [
  {
   "cell_type": "markdown",
   "id": "fe210d34",
   "metadata": {},
   "source": [
    "# >Título atractivo"
   ]
  },
  {
   "cell_type": "markdown",
   "id": "2445fa4d",
   "metadata": {},
   "source": [
    "## <span style=\"color:rgb(204, 153, 0)\"> Descripción del juego Clash of Clans</span>\n",
    "También conocido como CoC, Clash of Clans es un videojuego de estrategia multijugador en el que los jugadores asumen el papel de jefes de clanes y construyen y mejoran sus aldeas. Al mismo tiempo, el usuario puede crear o unirse a un clan, donde podrá interactuar con otros jugadores.\n",
    "\n",
    "El juego se desarrolla en un entorno multijugador en línea, lo que permite a los jugadores interactuar con otros jugadores de todo el mundo a través de chat y sistema de clanes.\n",
    "\n",
    "Fue desarrollado por Supercell y lanzado para dispositivos iOS el 2 de agosto del 2012 y el 8 de octubre para dispositivos Android.\n",
    "\n",
    "Antes de iniciar con el WebScraping, necesitamos crear una cuenta en la web API de Clash of Clans (https://developer.clashofclans.com/#/register) para obtener nuestra clave token.\n",
    "\n",
    "<img src=\"https://i.pinimg.com/originals/11/ae/b7/11aeb7ddb3f1d518648a1e36b32b2069.png\" alt=\"Clash of Clans\" width=\"500\">"
   ]
  },
  {
   "cell_type": "markdown",
   "id": "ebe5467a",
   "metadata": {},
   "source": [
    "## <span style=\"color: #597aa2\"> Conexión con la url (str) </span>\n"
   ]
  },
  {
   "cell_type": "code",
   "execution_count": 17,
   "id": "b51bbbe2",
   "metadata": {},
   "outputs": [],
   "source": [
    "#Importamos las librerías que vamos a necesitar en nuestro trabajo\n",
    "import urllib.request\n",
    "from urllib.request import urlopen\n",
    "import urllib.parse\n",
    "import pandas as pd\n",
    "import requests\n",
    "import json\n",
    "import polars as pl\n",
    "import re\n",
    "\n",
    "#Abrimos el archivo \"key.txt\" y leemos el token generado guardado en un archivo texto\n",
    "with open(\"keyJimena.txt\") as f:\n",
    "    my_key2 = f.read().rstrip(\"\\n\")\n",
    "\n",
    "#URL base de la API de Clash of Clans\n",
    "base_url = \"https://api.clashofclans.com/v1\"\n",
    "\n",
    "#Parámetro para obtener todos los clanes que tengan 20 o más miembros\n",
    "endpoint = \"/clans?minMembers=20\"\n",
    "\n",
    "#Creamos una solicitud HTTP con la clave de autenticación en el encabezado\n",
    "request = urllib.request.Request(\n",
    "    base_url + endpoint,\n",
    "    None,\n",
    "    {\"Authorization\": \"Bearer %s\" % my_key2}\n",
    ")\n",
    "\n",
    "# Hacemos la solicitud y obtenemos la respuesta\n",
    "uclient = urlopen(request)\n",
    "responsehtml = uclient.read()\n",
    "uclient.close()\n",
    "\n",
    "# Decodificamos la respuesta en formato JSON\n",
    "datos = responsehtml.decode()\n",
    "\n",
    "# Tenemos los datos obtenidos\n",
    "#print(datos)"
   ]
  },
  {
   "cell_type": "markdown",
   "id": "4fc0a61f",
   "metadata": {},
   "source": [
    "### <span style=\"color: #34253B\"> Pasar a diccionario (dict) </span>\n"
   ]
  },
  {
   "cell_type": "code",
   "execution_count": 18,
   "id": "e6e79f19",
   "metadata": {},
   "outputs": [
    {
     "name": "stdout",
     "output_type": "stream",
     "text": [
      "<class 'dict'>\n"
     ]
    }
   ],
   "source": [
    "#Convertimos a diccionario con json ya que esta Api está en este formato\n",
    "datos_dict = json.loads(datos)\n",
    "print(type(datos_dict))"
   ]
  },
  {
   "cell_type": "markdown",
   "id": "d4b6418c",
   "metadata": {},
   "source": [
    "### <span style=\"color: #A6BD4C\"> Primer filtrado (df) </span>"
   ]
  },
  {
   "cell_type": "code",
   "execution_count": 19,
   "id": "51bd39a3",
   "metadata": {},
   "outputs": [],
   "source": [
    "#Vamos a filtrar tales aspectos y agruparlos de acuerdo a la cantidad de puntos de los clanes, \n",
    "#con el fin de compararlo con Clash Royale\n",
    "\n",
    "puntos_clanes = []\n",
    "nombres_clanes = []\n",
    "tipos = []\n",
    "location = []\n",
    "niveles_clanes = []\n",
    "miembros = []\n",
    "tag = []\n",
    "\n",
    "for item in datos_dict[\"items\"]:\n",
    "    puntos_clanes.append(item['clanPoints'])\n",
    "    nombres_clanes.append(item['name'])\n",
    "    tipos.append(item['type'])\n",
    "    ubicacion = item['location']['name'] if 'location' in item and 'name' in item['location'] else ''\n",
    "    location.append(ubicacion)\n",
    "    niveles_clanes.append(item['clanLevel'])\n",
    "    miembros.append(item['members'])\n",
    "    tag.append(item['tag'])\n",
    "\n",
    "#Creamos el diccionario\n",
    "dff = {\n",
    "    'ClanPoints CoC': puntos_clanes,\n",
    "    'Nombre CoC': nombres_clanes,\n",
    "    'Tipo CoC': tipos,\n",
    "    'Location CoC': location,\n",
    "    'Nivel de clan CoC': niveles_clanes,\n",
    "    'Miembros CoC': miembros,\n",
    "    'Tag CoC': tag}"
   ]
  },
  {
   "cell_type": "markdown",
   "id": "1bb33a26",
   "metadata": {},
   "source": [
    "### <span style=\"color: #F34230\"> Pasar a dataframe (df) </span>"
   ]
  },
  {
   "cell_type": "code",
   "execution_count": 20,
   "id": "08c54573",
   "metadata": {},
   "outputs": [
    {
     "name": "stdout",
     "output_type": "stream",
     "text": [
      "#2Q90CY9L9\n"
     ]
    },
    {
     "data": {
      "text/html": [
       "<div>\n",
       "<style scoped>\n",
       "    .dataframe tbody tr th:only-of-type {\n",
       "        vertical-align: middle;\n",
       "    }\n",
       "\n",
       "    .dataframe tbody tr th {\n",
       "        vertical-align: top;\n",
       "    }\n",
       "\n",
       "    .dataframe thead th {\n",
       "        text-align: right;\n",
       "    }\n",
       "</style>\n",
       "<table border=\"1\" class=\"dataframe\">\n",
       "  <thead>\n",
       "    <tr style=\"text-align: right;\">\n",
       "      <th></th>\n",
       "      <th>ClanPoints CoC</th>\n",
       "      <th>Nombre CoC</th>\n",
       "      <th>Tipo CoC</th>\n",
       "      <th>Location CoC</th>\n",
       "      <th>Nivel de clan CoC</th>\n",
       "      <th>Miembros CoC</th>\n",
       "      <th>Tag CoC</th>\n",
       "    </tr>\n",
       "  </thead>\n",
       "  <tbody>\n",
       "    <tr>\n",
       "      <th>0</th>\n",
       "      <td>33725</td>\n",
       "      <td>Doda Champions</td>\n",
       "      <td>open</td>\n",
       "      <td>International</td>\n",
       "      <td>15</td>\n",
       "      <td>48</td>\n",
       "      <td>#2Q90CY9L9</td>\n",
       "    </tr>\n",
       "    <tr>\n",
       "      <th>1</th>\n",
       "      <td>33450</td>\n",
       "      <td>Pinoy Acers II</td>\n",
       "      <td>inviteOnly</td>\n",
       "      <td>International</td>\n",
       "      <td>22</td>\n",
       "      <td>29</td>\n",
       "      <td>#8Y2PGQC0</td>\n",
       "    </tr>\n",
       "    <tr>\n",
       "      <th>2</th>\n",
       "      <td>32216</td>\n",
       "      <td>vn tôi yêu</td>\n",
       "      <td>inviteOnly</td>\n",
       "      <td>Vietnam</td>\n",
       "      <td>22</td>\n",
       "      <td>23</td>\n",
       "      <td>#PYJP98YR</td>\n",
       "    </tr>\n",
       "    <tr>\n",
       "      <th>3</th>\n",
       "      <td>32058</td>\n",
       "      <td>tamil pasanga</td>\n",
       "      <td>inviteOnly</td>\n",
       "      <td>India</td>\n",
       "      <td>20</td>\n",
       "      <td>39</td>\n",
       "      <td>#9UY2LGU0</td>\n",
       "    </tr>\n",
       "    <tr>\n",
       "      <th>4</th>\n",
       "      <td>32044</td>\n",
       "      <td>kemaih cendoi</td>\n",
       "      <td>inviteOnly</td>\n",
       "      <td>Lesotho</td>\n",
       "      <td>19</td>\n",
       "      <td>50</td>\n",
       "      <td>#99C8PVYY</td>\n",
       "    </tr>\n",
       "    <tr>\n",
       "      <th>5</th>\n",
       "      <td>31326</td>\n",
       "      <td>dayat ni boss</td>\n",
       "      <td>inviteOnly</td>\n",
       "      <td>Indonesia</td>\n",
       "      <td>14</td>\n",
       "      <td>47</td>\n",
       "      <td>#2QPLPUQ8L</td>\n",
       "    </tr>\n",
       "    <tr>\n",
       "      <th>6</th>\n",
       "      <td>31173</td>\n",
       "      <td>WE ARE VIETNAM</td>\n",
       "      <td>inviteOnly</td>\n",
       "      <td>International</td>\n",
       "      <td>24</td>\n",
       "      <td>29</td>\n",
       "      <td>#9Y9C0CUV</td>\n",
       "    </tr>\n",
       "    <tr>\n",
       "      <th>7</th>\n",
       "      <td>30271</td>\n",
       "      <td>POWER BOX 2™️</td>\n",
       "      <td>inviteOnly</td>\n",
       "      <td>Germany</td>\n",
       "      <td>11</td>\n",
       "      <td>44</td>\n",
       "      <td>#2Y9RVYGQJ</td>\n",
       "    </tr>\n",
       "    <tr>\n",
       "      <th>8</th>\n",
       "      <td>29583</td>\n",
       "      <td>indo warior</td>\n",
       "      <td>closed</td>\n",
       "      <td>Indonesia</td>\n",
       "      <td>19</td>\n",
       "      <td>29</td>\n",
       "      <td>#Y2U9UCJ9</td>\n",
       "    </tr>\n",
       "    <tr>\n",
       "      <th>9</th>\n",
       "      <td>29495</td>\n",
       "      <td>MONGOL</td>\n",
       "      <td>inviteOnly</td>\n",
       "      <td>Nepal</td>\n",
       "      <td>11</td>\n",
       "      <td>41</td>\n",
       "      <td>#2QP98CQRR</td>\n",
       "    </tr>\n",
       "  </tbody>\n",
       "</table>\n",
       "</div>"
      ],
      "text/plain": [
       "   ClanPoints CoC      Nombre CoC    Tipo CoC   Location CoC  \\\n",
       "0           33725  Doda Champions        open  International   \n",
       "1           33450  Pinoy Acers II  inviteOnly  International   \n",
       "2           32216      vn tôi yêu  inviteOnly        Vietnam   \n",
       "3           32058   tamil pasanga  inviteOnly          India   \n",
       "4           32044   kemaih cendoi  inviteOnly        Lesotho   \n",
       "5           31326   dayat ni boss  inviteOnly      Indonesia   \n",
       "6           31173  WE ARE VIETNAM  inviteOnly  International   \n",
       "7           30271   POWER BOX 2™️  inviteOnly        Germany   \n",
       "8           29583     indo warior      closed      Indonesia   \n",
       "9           29495          MONGOL  inviteOnly          Nepal   \n",
       "\n",
       "   Nivel de clan CoC  Miembros CoC     Tag CoC  \n",
       "0                 15            48  #2Q90CY9L9  \n",
       "1                 22            29   #8Y2PGQC0  \n",
       "2                 22            23   #PYJP98YR  \n",
       "3                 20            39   #9UY2LGU0  \n",
       "4                 19            50   #99C8PVYY  \n",
       "5                 14            47  #2QPLPUQ8L  \n",
       "6                 24            29   #9Y9C0CUV  \n",
       "7                 11            44  #2Y9RVYGQJ  \n",
       "8                 19            29   #Y2U9UCJ9  \n",
       "9                 11            41  #2QP98CQRR  "
      ]
     },
     "execution_count": 20,
     "metadata": {},
     "output_type": "execute_result"
    }
   ],
   "source": [
    "#Creamos el dataframe con Pandas\n",
    "DFF = pd.DataFrame(dff)\n",
    "#print(DFF)\n",
    "\n",
    "DFF1 = DFF.sort_values(by='ClanPoints CoC', ascending=False).head(10).reset_index(drop=True)\n",
    "#print(DFF)\n",
    "\n",
    "primero = DFF1.loc[0, 'Tag CoC']\n",
    "print(primero)\n",
    "\n",
    "DFF1\n",
    "\n",
    "#Observamos el clan con la mayoría de puntos:"
   ]
  },
  {
   "cell_type": "markdown",
   "id": "9ae4bad8",
   "metadata": {},
   "source": [
    "## <span style=\"color: #597aa2\"> Segunda conexión con la url (str) </span>"
   ]
  },
  {
   "cell_type": "code",
   "execution_count": 21,
   "id": "3f89985f",
   "metadata": {},
   "outputs": [],
   "source": [
    "# Codificar el valor de \"primero\"\n",
    "tags = urllib.parse.quote(primero)\n",
    "\n",
    "# Leer la clave de autenticación desde el archivo \"keyJimena.txt\"\n",
    "with open(\"keyJimena.txt\") as f:\n",
    "    my_key2 = f.read().rstrip(\"\\n\")\n",
    "\n",
    "# URL base de la API de Clash of Clans\n",
    "base_url = \"https://api.clashofclans.com/v1\"\n",
    "\n",
    "# Construir el endpoint de la solicitud con el valor codificado\n",
    "endpoint = \"/clans/%s/members?minMembers=20\" % tags\n",
    "\n",
    "# Construir la solicitud con la clave de autenticación\n",
    "request = urllib.request.Request(\n",
    "    base_url + endpoint,\n",
    "    None,\n",
    "    {\n",
    "        \"Authorization\": \"Bearer %s\" % my_key2\n",
    "    }\n",
    ")\n",
    "\n",
    "# Realizar la solicitud y obtener la respuesta\n",
    "uclient = urllib.request.urlopen(request)\n",
    "responsehtml = uclient.read()\n",
    "uclient.close()\n",
    "\n",
    "# Decodificar los datos de la respuesta\n",
    "datos1 = responsehtml.decode()\n",
    "#print(datos1)"
   ]
  },
  {
   "cell_type": "markdown",
   "id": "b2910f70",
   "metadata": {},
   "source": [
    "### <span style=\"color: #34253B\"> Pasar a diccionario (dict) </span>"
   ]
  },
  {
   "cell_type": "code",
   "execution_count": 22,
   "id": "6af1472a",
   "metadata": {},
   "outputs": [
    {
     "name": "stdout",
     "output_type": "stream",
     "text": [
      "<class 'dict'>\n"
     ]
    },
    {
     "data": {
      "text/plain": [
       "{'tag': '#LC98GRQVC',\n",
       " 'name': 'Kam Bhat',\n",
       " 'role': 'leader',\n",
       " 'expLevel': 240,\n",
       " 'league': {'id': 29000022,\n",
       "  'name': 'Legend League',\n",
       "  'iconUrls': {'small': 'https://api-assets.clashofclans.com/leagues/72/R2zmhyqQ0_lKcDR5EyghXCxgyC9mm_mVMIjAbmGoZtw.png',\n",
       "   'tiny': 'https://api-assets.clashofclans.com/leagues/36/R2zmhyqQ0_lKcDR5EyghXCxgyC9mm_mVMIjAbmGoZtw.png',\n",
       "   'medium': 'https://api-assets.clashofclans.com/leagues/288/R2zmhyqQ0_lKcDR5EyghXCxgyC9mm_mVMIjAbmGoZtw.png'}},\n",
       " 'trophies': 5201,\n",
       " 'builderBaseTrophies': 4934,\n",
       " 'versusTrophies': 4934,\n",
       " 'clanRank': 1,\n",
       " 'previousClanRank': 1,\n",
       " 'donations': 1509,\n",
       " 'donationsReceived': 2085,\n",
       " 'playerHouse': {'elements': [{'type': 'ground', 'id': 82000002},\n",
       "   {'type': 'walls', 'id': 82000052},\n",
       "   {'type': 'roof', 'id': 82000032},\n",
       "   {'type': 'decoration', 'id': 82000064}]},\n",
       " 'builderBaseLeague': {'id': 44000034, 'name': 'Platinum League I'}}"
      ]
     },
     "execution_count": 22,
     "metadata": {},
     "output_type": "execute_result"
    }
   ],
   "source": [
    "datos_d = json.loads(datos1)\n",
    "print(type(datos_d))\n",
    "datos_d[\"items\"][0]"
   ]
  },
  {
   "cell_type": "markdown",
   "id": "ef3640fd",
   "metadata": {},
   "source": [
    "## <span style=\"color:rgb(75, 150, 171)\"> Descripción del juego Clash Royale</span>"
   ]
  },
  {
   "cell_type": "markdown",
   "id": "51bed2f8",
   "metadata": {},
   "source": [
    "\n",
    "Tambien conocido como CR es un juego de estrategia y combate en tiempo real ambientada en el mismo universo de Clash of Clans, tambien desarrollada por Supercell. Combina elementos de juegos de cartas coleccionables, defensa de torres y estrategia multijugador en línea.\n",
    "Antes de iniciar con el WebScraping necesitamos crear una cuenta en la web API https://developer.clashroyale.com/#/ para obtener nuestra clave token.\n",
    "\n",
    "\n",
    "<img src=\"https://assets-prd.ignimgs.com/2022/05/27/clashroyale-1653673820137.jpg\" alt=\"Clash of Clans\" width=\"500\">"
   ]
  },
  {
   "cell_type": "markdown",
   "id": "1e77f16f",
   "metadata": {},
   "source": [
    "### WebScraping mediante API's [ Clash Royale ]"
   ]
  },
  {
   "cell_type": "markdown",
   "id": "42bb2be2",
   "metadata": {},
   "source": [
    "## <span style=\"color: #709f1d\"> Conexión con la url (str) </span>\n"
   ]
  },
  {
   "cell_type": "code",
   "execution_count": 6,
   "id": "122e49c0",
   "metadata": {},
   "outputs": [],
   "source": [
    "import urllib.request\n",
    "from urllib.request import urlopen\n",
    "import pandas as pd\n",
    "import requests\n",
    "import json\n",
    "import polars as pl\n",
    "with open(\"my_keyArthur.txt\") as f:\n",
    "    my_key =f.read().rstrip(\"\\n\")\n",
    "    \n",
    "    base_url = \"https://api.clashroyale.com/v1\"\n",
    "    \n",
    "    #endpoint = \"/cards\"\n",
    "    endpoint = \"/clans?minScore=16000\"\n",
    "    \n",
    "    request = urllib.request.Request(\n",
    "        base_url+endpoint,\n",
    "        None,\n",
    "        {\n",
    "            \"Authorization\": \"Bearer %s\" % my_key\n",
    "        }\n",
    "    )\n",
    "    uclient=urlopen(request)\n",
    "    responsehtml=uclient.read()\n",
    "    #type(responsehtml)\n",
    "    #uclient.close()\n",
    "    #data = responsehtml.decode()\n",
    "\n",
    "    #data\n",
    "    #response = urllib.request.urlopen(request).read().decode(\"utf-8\")\n",
    "    \n",
    "    data = responsehtml#.decode(\"utf-8\")\n",
    "    uclient.close()\n",
    "    data\n",
    "    #data = json.loads(response)\n",
    "    #for item in data[\"items\"]:\n",
    "        #print(\"%s [%d]\" % (item[\"name\"], item[\"maxLevel\"]))\n",
    "        #d =\"Clan: %s\\nMembers: %d\\nScore: %s\\nTag: %s\\n\\n\" % (item[\"name\"], item[\"members\"], item[\"clanScore\"], item[\"tag\"])\n",
    "        #print(d)\n",
    "   #print(data)"
   ]
  },
  {
   "cell_type": "markdown",
   "id": "59cf8357",
   "metadata": {},
   "source": [
    "## <span style=\"color: #26a783\"> Pasar a diccionario (dict) </span>"
   ]
  },
  {
   "cell_type": "code",
   "execution_count": 7,
   "id": "083ce352",
   "metadata": {},
   "outputs": [
    {
     "name": "stdout",
     "output_type": "stream",
     "text": [
      "<class 'dict'>\n"
     ]
    }
   ],
   "source": [
    "info= json.loads(data)\n",
    "print(type(info))"
   ]
  },
  {
   "cell_type": "markdown",
   "id": "a3d7da99",
   "metadata": {},
   "source": [
    "## <span style=\"color: #A6BD4C\"> Filtrado (df) </span>"
   ]
  },
  {
   "cell_type": "code",
   "execution_count": 8,
   "id": "02f5da6d",
   "metadata": {},
   "outputs": [],
   "source": [
    "clanPoints = []\n",
    "location=[]\n",
    "member=[]\n",
    "clan=[]\n",
    "Type=[]\n",
    "#print(info[\"items\"][0])\n",
    "for i in range(len(info[\"items\"])):\n",
    "    clanPoints.append(info[\"items\"][i]['clanScore'])\n",
    "    location.append(info[\"items\"][i]['location']['name'])\n",
    "    member.append(info[\"items\"][i][\"members\"])\n",
    "    clan.append(info [\"items\"][i][\"name\"])\n",
    "    Type.append(info[\"items\"][i][\"type\"])\n",
    "dff={\"Clan name (CR)\":clan,'ClanPoints (CR)':clanPoints,\"Type (CR)\":Type,'Location (CR)':location,'Members (CR)':member}\n",
    "#print(clanPoints)\n",
    "#print(location)\n",
    "DFF=pd.DataFrame(dff)"
   ]
  },
  {
   "cell_type": "markdown",
   "id": "a96de4a6",
   "metadata": {},
   "source": [
    "## <span style=\"color: #ab1ba5\"> Pasar a dataframe (df) </span>"
   ]
  },
  {
   "cell_type": "code",
   "execution_count": 9,
   "id": "d8c1e5aa",
   "metadata": {},
   "outputs": [
    {
     "data": {
      "text/html": [
       "<div>\n",
       "<style scoped>\n",
       "    .dataframe tbody tr th:only-of-type {\n",
       "        vertical-align: middle;\n",
       "    }\n",
       "\n",
       "    .dataframe tbody tr th {\n",
       "        vertical-align: top;\n",
       "    }\n",
       "\n",
       "    .dataframe thead th {\n",
       "        text-align: right;\n",
       "    }\n",
       "</style>\n",
       "<table border=\"1\" class=\"dataframe\">\n",
       "  <thead>\n",
       "    <tr style=\"text-align: right;\">\n",
       "      <th></th>\n",
       "      <th>Clan name (CR)</th>\n",
       "      <th>ClanPoints (CR)</th>\n",
       "      <th>Type (CR)</th>\n",
       "      <th>Location (CR)</th>\n",
       "      <th>Members (CR)</th>\n",
       "    </tr>\n",
       "  </thead>\n",
       "  <tbody>\n",
       "    <tr>\n",
       "      <th>0</th>\n",
       "      <td>Clan #LL8QPC8P</td>\n",
       "      <td>66464</td>\n",
       "      <td>open</td>\n",
       "      <td>United States</td>\n",
       "      <td>50</td>\n",
       "    </tr>\n",
       "    <tr>\n",
       "      <th>1</th>\n",
       "      <td>Clan #P9CL8R0G</td>\n",
       "      <td>64456</td>\n",
       "      <td>open</td>\n",
       "      <td>United States</td>\n",
       "      <td>50</td>\n",
       "    </tr>\n",
       "    <tr>\n",
       "      <th>2</th>\n",
       "      <td>kutingin</td>\n",
       "      <td>53851</td>\n",
       "      <td>closed</td>\n",
       "      <td>International</td>\n",
       "      <td>47</td>\n",
       "    </tr>\n",
       "    <tr>\n",
       "      <th>3</th>\n",
       "      <td>Return</td>\n",
       "      <td>52342</td>\n",
       "      <td>inviteOnly</td>\n",
       "      <td>Spain</td>\n",
       "      <td>50</td>\n",
       "    </tr>\n",
       "    <tr>\n",
       "      <th>4</th>\n",
       "      <td>喧嘩稼業</td>\n",
       "      <td>51003</td>\n",
       "      <td>closed</td>\n",
       "      <td>Japan</td>\n",
       "      <td>29</td>\n",
       "    </tr>\n",
       "    <tr>\n",
       "      <th>5</th>\n",
       "      <td>Hearthstone BR</td>\n",
       "      <td>49898</td>\n",
       "      <td>closed</td>\n",
       "      <td>Brazil</td>\n",
       "      <td>33</td>\n",
       "    </tr>\n",
       "    <tr>\n",
       "      <th>6</th>\n",
       "      <td>아낌없이주는연수</td>\n",
       "      <td>49358</td>\n",
       "      <td>open</td>\n",
       "      <td>International</td>\n",
       "      <td>32</td>\n",
       "    </tr>\n",
       "    <tr>\n",
       "      <th>7</th>\n",
       "      <td>ClashWithClass™</td>\n",
       "      <td>46828</td>\n",
       "      <td>closed</td>\n",
       "      <td>Spain</td>\n",
       "      <td>26</td>\n",
       "    </tr>\n",
       "    <tr>\n",
       "      <th>8</th>\n",
       "      <td>Acrifaal</td>\n",
       "      <td>45107</td>\n",
       "      <td>closed</td>\n",
       "      <td>Ukraine</td>\n",
       "      <td>21</td>\n",
       "    </tr>\n",
       "    <tr>\n",
       "      <th>9</th>\n",
       "      <td>om</td>\n",
       "      <td>43548</td>\n",
       "      <td>closed</td>\n",
       "      <td>International</td>\n",
       "      <td>24</td>\n",
       "    </tr>\n",
       "  </tbody>\n",
       "</table>\n",
       "</div>"
      ],
      "text/plain": [
       "    Clan name (CR)  ClanPoints (CR)   Type (CR)  Location (CR)  Members (CR)\n",
       "0   Clan #LL8QPC8P            66464        open  United States            50\n",
       "1   Clan #P9CL8R0G            64456        open  United States            50\n",
       "2         kutingin            53851      closed  International            47\n",
       "3           Return            52342  inviteOnly          Spain            50\n",
       "4             喧嘩稼業            51003      closed          Japan            29\n",
       "5   Hearthstone BR            49898      closed         Brazil            33\n",
       "6         아낌없이주는연수            49358        open  International            32\n",
       "7  ClashWithClass™            46828      closed          Spain            26\n",
       "8         Acrifaal            45107      closed        Ukraine            21\n",
       "9               om            43548      closed  International            24"
      ]
     },
     "execution_count": 9,
     "metadata": {},
     "output_type": "execute_result"
    }
   ],
   "source": [
    "DFF=pd.DataFrame(dff)\n",
    "\n",
    "#TOP 10 CLANES PARA LA FECHA 18/06/2023\n",
    "DFF1 = DFF.sort_values(by='ClanPoints (CR)', ascending=False).head(10).reset_index(drop=True)\n",
    "\n",
    "DFF1"
   ]
  },
  {
   "cell_type": "markdown",
   "id": "931ca160",
   "metadata": {},
   "source": [
    "<img src=\"https://i.ytimg.com/vi/biM_RUsfOso/maxresdefault.jpg\" alt=\"Clash of Clans\" width=\"500\">"
   ]
  },
  {
   "cell_type": "markdown",
   "id": "b4f16307",
   "metadata": {},
   "source": [
    "## <span style=\"color: #709f1d\"> Segunda conexión con la url (str) </span>"
   ]
  },
  {
   "cell_type": "code",
   "execution_count": 11,
   "id": "d6bcc8f5",
   "metadata": {},
   "outputs": [],
   "source": [
    "with open(\"my_keyArthur.txt\") as f:\n",
    "    my_key =f.read().rstrip(\"\\n\")\n",
    "    base_url = \"https://api.clashroyale.com/v1\"\n",
    "    \n",
    "    #endpoint = \"/cards\"\n",
    "    endpoint = \"/clans/%23LL8QPC8P/members\"\n",
    "    \n",
    "    request = urllib.request.Request(\n",
    "        base_url+endpoint,\n",
    "        None,\n",
    "        {\n",
    "            \"Authorization\": \"Bearer %s\" % my_key\n",
    "        }\n",
    "    )\n",
    "    uclient=urlopen(request)\n",
    "    responsehtml=uclient.read()\n",
    "    #type(responsehtml)\n",
    "    #uclient.close()\n",
    "    #data = responsehtml.decode()\n",
    "\n",
    "    #data\n",
    "    #response = urllib.request.urlopen(request).read().decode(\"utf-8\")\n",
    "    \n",
    "    dataP = responsehtml#.decode(\"utf-8\")\n",
    "    uclient.close()\n",
    "    dataP\n",
    "    #data = json.loads(response)\n",
    "    #for item in data[\"items\"]:\n",
    "        #print(\"%s [%d]\" % (item[\"name\"], item[\"maxLevel\"]))\n",
    "        #d =\"Clan: %s\\nMembers: %d\\nScore: %s\\nTag: %s\\n\\n\" % (item[\"name\"], item[\"members\"], item[\"clanScore\"], item[\"tag\"])\n",
    "        #print(d)\n",
    "    #print(dataP)\n"
   ]
  },
  {
   "cell_type": "markdown",
   "id": "c682f47b",
   "metadata": {},
   "source": [
    "## <span style=\"color: #26a783\"> Pasar a diccionario (dict) </span>"
   ]
  },
  {
   "cell_type": "code",
   "execution_count": 12,
   "id": "d9927fcf",
   "metadata": {},
   "outputs": [
    {
     "name": "stdout",
     "output_type": "stream",
     "text": [
      "<class 'dict'>\n"
     ]
    }
   ],
   "source": [
    "infoP = json.loads(dataP)\n",
    "print(type(infoP))\n"
   ]
  },
  {
   "cell_type": "markdown",
   "id": "f27bb848",
   "metadata": {},
   "source": [
    "## <span style=\"color: #A6BD4C\"> Filtrado (df) </span>"
   ]
  },
  {
   "cell_type": "code",
   "execution_count": 14,
   "id": "6efa731d",
   "metadata": {},
   "outputs": [],
   "source": [
    "nameP=[]\n",
    "levelP=[]\n",
    "rol=[]\n",
    "trofeos=[]\n",
    "rango=[]\n",
    "for i in range(len(infoP[\"items\"])):\n",
    "    nameP.append(infoP[\"items\"][i][\"name\"])\n",
    "    levelP.append(infoP[\"items\"][i][\"expLevel\"])\n",
    "    rol.append(infoP[\"items\"][i][\"role\"])\n",
    "    trofeos.append(infoP[\"items\"][i][\"trophies\"])\n",
    "    rango.append(infoP[\"items\"][i][\"clanRank\"])\n",
    "dffP={'Player name':nameP,'Level':levelP,\"role\":rol,\"Trophies\":trofeos,\"Clan Rank\":rango}\n",
    "DFFP=pd.DataFrame(dffP)"
   ]
  },
  {
   "cell_type": "markdown",
   "id": "fcd13623",
   "metadata": {},
   "source": [
    "## <span style=\"color: #ab1ba5\"> Pasar a dataframe (df) </span>"
   ]
  },
  {
   "cell_type": "code",
   "execution_count": 17,
   "id": "cceee0a7",
   "metadata": {},
   "outputs": [
    {
     "data": {
      "text/html": [
       "<div>\n",
       "<style scoped>\n",
       "    .dataframe tbody tr th:only-of-type {\n",
       "        vertical-align: middle;\n",
       "    }\n",
       "\n",
       "    .dataframe tbody tr th {\n",
       "        vertical-align: top;\n",
       "    }\n",
       "\n",
       "    .dataframe thead th {\n",
       "        text-align: right;\n",
       "    }\n",
       "</style>\n",
       "<table border=\"1\" class=\"dataframe\">\n",
       "  <thead>\n",
       "    <tr style=\"text-align: right;\">\n",
       "      <th></th>\n",
       "      <th>Player name</th>\n",
       "      <th>Level</th>\n",
       "      <th>role</th>\n",
       "      <th>Trophies</th>\n",
       "      <th>Clan Rank</th>\n",
       "    </tr>\n",
       "  </thead>\n",
       "  <tbody>\n",
       "    <tr>\n",
       "      <th>0</th>\n",
       "      <td>Broads In ATL</td>\n",
       "      <td>45</td>\n",
       "      <td>elder</td>\n",
       "      <td>7305</td>\n",
       "      <td>1</td>\n",
       "    </tr>\n",
       "    <tr>\n",
       "      <th>1</th>\n",
       "      <td>TrapLord Truebs</td>\n",
       "      <td>50</td>\n",
       "      <td>coLeader</td>\n",
       "      <td>7030</td>\n",
       "      <td>2</td>\n",
       "    </tr>\n",
       "    <tr>\n",
       "      <th>2</th>\n",
       "      <td>Dicinbal</td>\n",
       "      <td>41</td>\n",
       "      <td>member</td>\n",
       "      <td>7000</td>\n",
       "      <td>3</td>\n",
       "    </tr>\n",
       "    <tr>\n",
       "      <th>3</th>\n",
       "      <td>MobyDck</td>\n",
       "      <td>50</td>\n",
       "      <td>leader</td>\n",
       "      <td>6771</td>\n",
       "      <td>4</td>\n",
       "    </tr>\n",
       "    <tr>\n",
       "      <th>4</th>\n",
       "      <td>Peter17$1.0</td>\n",
       "      <td>40</td>\n",
       "      <td>member</td>\n",
       "      <td>6733</td>\n",
       "      <td>5</td>\n",
       "    </tr>\n",
       "    <tr>\n",
       "      <th>5</th>\n",
       "      <td>kpopmattlauer</td>\n",
       "      <td>42</td>\n",
       "      <td>elder</td>\n",
       "      <td>6721</td>\n",
       "      <td>6</td>\n",
       "    </tr>\n",
       "    <tr>\n",
       "      <th>6</th>\n",
       "      <td>Imagine Losing</td>\n",
       "      <td>41</td>\n",
       "      <td>member</td>\n",
       "      <td>6712</td>\n",
       "      <td>7</td>\n",
       "    </tr>\n",
       "    <tr>\n",
       "      <th>7</th>\n",
       "      <td>Jeff</td>\n",
       "      <td>41</td>\n",
       "      <td>member</td>\n",
       "      <td>6709</td>\n",
       "      <td>8</td>\n",
       "    </tr>\n",
       "    <tr>\n",
       "      <th>8</th>\n",
       "      <td>William14K</td>\n",
       "      <td>50</td>\n",
       "      <td>member</td>\n",
       "      <td>6705</td>\n",
       "      <td>9</td>\n",
       "    </tr>\n",
       "    <tr>\n",
       "      <th>9</th>\n",
       "      <td>Rpooon14</td>\n",
       "      <td>42</td>\n",
       "      <td>member</td>\n",
       "      <td>6695</td>\n",
       "      <td>10</td>\n",
       "    </tr>\n",
       "  </tbody>\n",
       "</table>\n",
       "</div>"
      ],
      "text/plain": [
       "       Player name  Level      role  Trophies  Clan Rank\n",
       "0    Broads In ATL     45     elder      7305          1\n",
       "1  TrapLord Truebs     50  coLeader      7030          2\n",
       "2         Dicinbal     41    member      7000          3\n",
       "3          MobyDck     50    leader      6771          4\n",
       "4      Peter17$1.0     40    member      6733          5\n",
       "5    kpopmattlauer     42     elder      6721          6\n",
       "6   Imagine Losing     41    member      6712          7\n",
       "7             Jeff     41    member      6709          8\n",
       "8       William14K     50    member      6705          9\n",
       "9         Rpooon14     42    member      6695         10"
      ]
     },
     "execution_count": 17,
     "metadata": {},
     "output_type": "execute_result"
    }
   ],
   "source": [
    "#TOP 10 CLANES PARA LA FECHA 18/06/2023\n",
    "DFFP1 = DFFP.head(10)\n",
    "\n",
    "DFFP1"
   ]
  },
  {
   "cell_type": "code",
   "execution_count": null,
   "id": "1d47112e",
   "metadata": {},
   "outputs": [],
   "source": []
  },
  {
   "cell_type": "code",
   "execution_count": null,
   "id": "fc5a00b1",
   "metadata": {},
   "outputs": [],
   "source": []
  },
  {
   "cell_type": "markdown",
   "id": "f657f85b",
   "metadata": {},
   "source": [
    "### >Merge a los DataFrame"
   ]
  },
  {
   "cell_type": "markdown",
   "id": "58e2d6c0",
   "metadata": {},
   "source": [
    "### >Pasar a csv"
   ]
  },
  {
   "cell_type": "markdown",
   "id": "82dbbf38",
   "metadata": {},
   "source": [
    "### Errores\n",
    "-\n"
   ]
  },
  {
   "cell_type": "markdown",
   "id": "33604f96",
   "metadata": {},
   "source": [
    "### >Conclusión"
   ]
  },
  {
   "cell_type": "code",
   "execution_count": null,
   "id": "1252308c",
   "metadata": {},
   "outputs": [],
   "source": []
  }
 ],
 "metadata": {
  "kernelspec": {
   "display_name": "Python 3 (ipykernel)",
   "language": "python",
   "name": "python3"
  },
  "language_info": {
   "codemirror_mode": {
    "name": "ipython",
    "version": 3
   },
   "file_extension": ".py",
   "mimetype": "text/x-python",
   "name": "python",
   "nbconvert_exporter": "python",
   "pygments_lexer": "ipython3",
   "version": "3.9.13"
  }
 },
 "nbformat": 4,
 "nbformat_minor": 5
}
