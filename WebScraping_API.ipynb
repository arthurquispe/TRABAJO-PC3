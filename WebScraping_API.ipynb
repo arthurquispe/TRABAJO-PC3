{
 "cells": [
  {
   "cell_type": "markdown",
   "id": "fe210d34",
   "metadata": {},
   "source": [
    "# >Título atractivo"
   ]
  },
  {
   "cell_type": "markdown",
   "id": "2445fa4d",
   "metadata": {},
   "source": [
    "## Descripcion de los juegos Clash of Clans"
   ]
  },
  {
   "cell_type": "markdown",
   "id": "23dff433",
   "metadata": {},
   "source": [
    "### WebScraping mediante API's [ Clash of Clans ]\n",
    "Antes de iniciar con el WebScraping necesitamos crear una cuenta en la web API https://developer.clashofclans.com/#/register para obtener nuestra clave token."
   ]
  },
  {
   "cell_type": "markdown",
   "id": "f4d3d041",
   "metadata": {},
   "source": [
    "#### Conexión con la url > (str)"
   ]
  },
  {
   "cell_type": "markdown",
   "id": "4fc0a61f",
   "metadata": {},
   "source": [
    "#### Pasar a Diccionario > (dict)"
   ]
  },
  {
   "cell_type": "markdown",
   "id": "d4b6418c",
   "metadata": {},
   "source": [
    "#### filtrado > (df)"
   ]
  },
  {
   "cell_type": "markdown",
   "id": "1bb33a26",
   "metadata": {},
   "source": [
    "#### Pasar a Dataframe.Polars > (df)"
   ]
  },
  {
   "cell_type": "markdown",
   "id": "ef3640fd",
   "metadata": {},
   "source": []
  },
  {
   "cell_type": "markdown",
   "id": "1e77f16f",
   "metadata": {},
   "source": [
    "### WebScraping mediante API's [ Clash Royale ]"
   ]
  },
  {
   "cell_type": "markdown",
   "id": "42bb2be2",
   "metadata": {},
   "source": [
    "#### Conexión con la url > (str)"
   ]
  },
  {
   "cell_type": "markdown",
   "id": "59cf8357",
   "metadata": {},
   "source": [
    "#### Pasar a Diccionario > (dict)"
   ]
  },
  {
   "cell_type": "markdown",
   "id": "a3d7da99",
   "metadata": {},
   "source": [
    "#### filtrado > (df)"
   ]
  },
  {
   "cell_type": "markdown",
   "id": "a96de4a6",
   "metadata": {},
   "source": [
    "#### Pasar a Dataframe.Polars > (df)"
   ]
  },
  {
   "cell_type": "markdown",
   "id": "fbf84a37",
   "metadata": {},
   "source": []
  },
  {
   "cell_type": "markdown",
   "id": "f657f85b",
   "metadata": {},
   "source": [
    "### >Merge a los DataFrame"
   ]
  },
  {
   "cell_type": "markdown",
   "id": "58e2d6c0",
   "metadata": {},
   "source": [
    "### >Pasar a csv"
   ]
  },
  {
   "cell_type": "markdown",
   "id": "82dbbf38",
   "metadata": {},
   "source": [
    "### Errores\n",
    "-\n"
   ]
  },
  {
   "cell_type": "markdown",
   "id": "33604f96",
   "metadata": {},
   "source": [
    "### >Conclusión"
   ]
  },
  {
   "cell_type": "code",
   "execution_count": null,
   "id": "1252308c",
   "metadata": {},
   "outputs": [],
   "source": []
  }
 ],
 "metadata": {
  "kernelspec": {
   "display_name": "Python 3 (ipykernel)",
   "language": "python",
   "name": "python3"
  },
  "language_info": {
   "codemirror_mode": {
    "name": "ipython",
    "version": 3
   },
   "file_extension": ".py",
   "mimetype": "text/x-python",
   "name": "python",
   "nbconvert_exporter": "python",
   "pygments_lexer": "ipython3",
   "version": "3.9.13"
  }
 },
 "nbformat": 4,
 "nbformat_minor": 5
}
