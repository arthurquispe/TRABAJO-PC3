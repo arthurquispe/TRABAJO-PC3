{
 "cells": [
  {
   "cell_type": "markdown",
   "id": "fe210d34",
   "metadata": {},
   "source": [
    "# >Título atractivo"
   ]
  },
  {
   "cell_type": "markdown",
   "id": "2445fa4d",
   "metadata": {},
   "source": [
    "## <span style=\"color:#4682B4\"> Descripción del juego Clash of Clans </span>"
   ]
  },
  {
   "cell_type": "markdown",
   "id": "23dff433",
   "metadata": {},
   "source": [
    "### <span style=\"color:rgb(204, 153, 0)\"> Descripción del juego Clash of Clans</span>\n",
    "Tambipen conocido como CoC un videojuego de estrategia multijugador en elque los jugadores asumen el papel de jefes de clanes y construyen y mejoran sus aldeas. Al mismo tiempo, el usuario puede crear o unirse a un clan, donde podrá interactuar con otros jugadores.\n",
    "El juego se desarrolla en un entorno multijugador en línea, lo que permite a los jugadores interactuar con otros jugadores de todo el mundo a través de chat y sistema de clanes.\n",
    "Fue desarrollado por Supercell y lanzado para dispositivos iOS el 2 de agosto del 2012, y el 8 de octubre para dispositivos Android.\n",
    "Antes de iniciar con el WebScraping necesitamos crear una cuenta en la web API https://developer.clashofclans.com/#/register para obtener nuestra clave token."
   ]
  },
  {
   "cell_type": "markdown",
   "id": "f4d3d041",
   "metadata": {},
   "source": [
    "#### Conexión con la url > (str)"
   ]
  },
  {
   "cell_type": "markdown",
   "id": "4fc0a61f",
   "metadata": {},
   "source": [
    "#### Pasar a Diccionario > (dict)"
   ]
  },
  {
   "cell_type": "markdown",
   "id": "d4b6418c",
   "metadata": {},
   "source": [
    "#### filtrado > (df)"
   ]
  },
  {
   "cell_type": "markdown",
   "id": "1bb33a26",
   "metadata": {},
   "source": [
    "#### Pasar a Dataframe.Polars > (df)"
   ]
  },
  {
   "cell_type": "markdown",
   "id": "ef3640fd",
   "metadata": {},
   "source": [
    "## <span style=\"color:rgb(75, 150, 171)\"> Descripción del juego Clash Royale</span>"
   ]
  },
  {
   "cell_type": "markdown",
   "id": "51bed2f8",
   "metadata": {},
   "source": [
    "\n",
    "Tambipen conocido como CR es un juego de estrategia y combate en tiempo real ambientada en el mismo universo de Clash of Clans, tambien desarrollada por Supercell. Combina elementos de juegos de cartas coleccionables, defensa de torres y estrategia multijugador en línea.\n",
    "Antes de iniciar con el WebScraping necesitamos crear una cuenta en la web API https://developer.clashroyale.com/#/ para obtener nuestra clave token."
   ]
  },
  {
   "cell_type": "markdown",
   "id": "1e77f16f",
   "metadata": {},
   "source": [
    "### WebScraping mediante API's [ Clash Royale ]"
   ]
  },
  {
   "cell_type": "markdown",
   "id": "42bb2be2",
   "metadata": {},
   "source": [
    "#### Conexión con la url > (str)"
   ]
  },
  {
   "cell_type": "markdown",
   "id": "59cf8357",
   "metadata": {},
   "source": [
    "#### Pasar a Diccionario > (dict)"
   ]
  },
  {
   "cell_type": "markdown",
   "id": "a3d7da99",
   "metadata": {},
   "source": [
    "#### filtrado > (df)"
   ]
  },
  {
   "cell_type": "markdown",
   "id": "a96de4a6",
   "metadata": {},
   "source": [
    "#### Pasar a Dataframe.Polars > (df)"
   ]
  },
  {
   "cell_type": "markdown",
   "id": "fbf84a37",
   "metadata": {},
   "source": []
  },
  {
   "cell_type": "markdown",
   "id": "f657f85b",
   "metadata": {},
   "source": [
    "### >Merge a los DataFrame"
   ]
  },
  {
   "cell_type": "markdown",
   "id": "58e2d6c0",
   "metadata": {},
   "source": [
    "### >Pasar a csv"
   ]
  },
  {
   "cell_type": "markdown",
   "id": "82dbbf38",
   "metadata": {},
   "source": [
    "### Errores\n",
    "-\n"
   ]
  },
  {
   "cell_type": "markdown",
   "id": "33604f96",
   "metadata": {},
   "source": [
    "### >Conclusión"
   ]
  },
  {
   "cell_type": "code",
   "execution_count": null,
   "id": "1252308c",
   "metadata": {},
   "outputs": [],
   "source": []
  }
 ],
 "metadata": {
  "kernelspec": {
   "display_name": "Python 3 (ipykernel)",
   "language": "python",
   "name": "python3"
  },
  "language_info": {
   "codemirror_mode": {
    "name": "ipython",
    "version": 3
   },
   "file_extension": ".py",
   "mimetype": "text/x-python",
   "name": "python",
   "nbconvert_exporter": "python",
   "pygments_lexer": "ipython3",
   "version": "3.9.13"
  }
 },
 "nbformat": 4,
 "nbformat_minor": 5
}
