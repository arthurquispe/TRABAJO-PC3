{
 "cells": [
  {
   "cell_type": "markdown",
   "id": "fe210d34",
   "metadata": {},
   "source": [
    "# >Título atractivo"
   ]
  },
  {
   "cell_type": "markdown",
   "id": "2445fa4d",
   "metadata": {},
   "source": [
    "## <span style=\"color:rgb(204, 153, 0)\"> Descripción del juego Clash of Clans</span>\n",
    "También conocido como CoC, Clash of Clans es un videojuego de estrategia multijugador en el que los jugadores asumen el papel de jefes de clanes y construyen y mejoran sus aldeas. Al mismo tiempo, el usuario puede crear o unirse a un clan, donde podrá interactuar con otros jugadores.\n",
    "\n",
    "El juego se desarrolla en un entorno multijugador en línea, lo que permite a los jugadores interactuar con otros jugadores de todo el mundo a través de chat y sistema de clanes.\n",
    "\n",
    "Fue desarrollado por Supercell y lanzado para dispositivos iOS el 2 de agosto del 2012 y el 8 de octubre para dispositivos Android.\n",
    "\n",
    "Antes de iniciar con el WebScraping, necesitamos crear una cuenta en la web API de Clash of Clans (https://developer.clashofclans.com/#/register) para obtener nuestra clave token.\n",
    "\n",
    "<img src=\"https://i.pinimg.com/originals/11/ae/b7/11aeb7ddb3f1d518648a1e36b32b2069.png\" alt=\"Clash of Clans\" width=\"500\">"
   ]
  },
  {
   "cell_type": "markdown",
   "id": "ebe5467a",
   "metadata": {},
   "source": [
    "## <span style=\"color: #597aa2\"> Conexión con la url (str) </span>\n"
   ]
  },
  {
   "cell_type": "code",
   "execution_count": 14,
   "id": "b51bbbe2",
   "metadata": {},
   "outputs": [],
   "source": [
    "#Importamos las librerías que vamos a necesitar en nuestro trabajo\n",
    "import urllib.request\n",
    "from urllib.request import urlopen\n",
    "import urllib.parse\n",
    "import pandas as pd\n",
    "import requests\n",
    "import json\n",
    "import polars as pl\n",
    "import re\n",
    "\n",
    "#Abrimos el archivo \"key.txt\" y leemos el token generado guardado en un archivo texto\n",
    "with open(\"keyJimena.txt\") as f:\n",
    "    my_key2 = f.read().rstrip(\"\\n\")\n",
    "\n",
    "#URL base de la API de Clash of Clans\n",
    "base_url = \"https://api.clashofclans.com/v1\"\n",
    "\n",
    "#Parámetro para obtener todos los clanes que tengan 20 o más miembros\n",
    "endpoint = \"/clans?minMembers=20\"\n",
    "\n",
    "#Creamos una solicitud HTTP con la clave de autenticación en el encabezado\n",
    "request = urllib.request.Request(\n",
    "    base_url + endpoint,\n",
    "    None,\n",
    "    {\"Authorization\": \"Bearer %s\" % my_key2}\n",
    ")\n",
    "\n",
    "# Hacemos la solicitud y obtenemos la respuesta\n",
    "uclient = urlopen(request)\n",
    "responsehtml = uclient.read()\n",
    "uclient.close()\n",
    "\n",
    "# Decodificamos la respuesta en formato JSON\n",
    "datos = responsehtml.decode()\n",
    "\n",
    "# Tenemos los datos obtenidos\n",
    "#print(datos)"
   ]
  },
  {
   "cell_type": "markdown",
   "id": "4fc0a61f",
   "metadata": {},
   "source": [
    "### <span style=\"color: #34253B\"> Pasar a diccionario (dict) </span>\n"
   ]
  },
  {
   "cell_type": "code",
   "execution_count": 4,
   "id": "e6e79f19",
   "metadata": {},
   "outputs": [
    {
     "name": "stdout",
     "output_type": "stream",
     "text": [
      "<class 'dict'>\n"
     ]
    }
   ],
   "source": [
    "#Convertimos a diccionario con json ya que esta Api está en este formato\n",
    "datos_dict = json.loads(datos)\n",
    "print(type(datos_dict))"
   ]
  },
  {
   "cell_type": "markdown",
   "id": "d4b6418c",
   "metadata": {},
   "source": [
    "### <span style=\"color: #A6BD4C\"> Primer filtrado (df) </span>"
   ]
  },
  {
   "cell_type": "code",
   "execution_count": 9,
   "id": "51bd39a3",
   "metadata": {},
   "outputs": [],
   "source": [
    "#Vamos a filtrar tales aspectos y agruparlos de acuerdo a la cantidad de puntos de los clanes, \n",
    "#con el fin de compararlo con Clash Royale\n",
    "\n",
    "puntos_clanes = []\n",
    "nombres_clanes = []\n",
    "tipos = []\n",
    "location = []\n",
    "niveles_clanes = []\n",
    "miembros = []\n",
    "tag = []\n",
    "\n",
    "for item in datos_dict[\"items\"]:\n",
    "    puntos_clanes.append(item['clanPoints'])\n",
    "    nombres_clanes.append(item['name'])\n",
    "    tipos.append(item['type'])\n",
    "    ubicacion = item['location']['name'] if 'location' in item and 'name' in item['location'] else ''\n",
    "    location.append(ubicacion)\n",
    "    niveles_clanes.append(item['clanLevel'])\n",
    "    miembros.append(item['members'])\n",
    "    tag.append(item['tag'])\n",
    "\n",
    "#Creamos el diccionario\n",
    "dff = {\n",
    "    'ClanPoints CoC': puntos_clanes,\n",
    "    'Nombre CoC': nombres_clanes,\n",
    "    'Tipo CoC': tipos,\n",
    "    'Location CoC': location,\n",
    "    'Nivel de clan CoC': niveles_clanes,\n",
    "    'Miembros CoC': miembros,\n",
    "    'Tag CoC': tag}"
   ]
  },
  {
   "cell_type": "markdown",
   "id": "1bb33a26",
   "metadata": {},
   "source": [
    "### <span style=\"color: #F34230\"> Pasar a dataframe (df) </span>"
   ]
  },
  {
   "cell_type": "code",
   "execution_count": 10,
   "id": "08c54573",
   "metadata": {},
   "outputs": [
    {
     "name": "stdout",
     "output_type": "stream",
     "text": [
      "#P9PVY999\n"
     ]
    },
    {
     "data": {
      "text/html": [
       "<div>\n",
       "<style scoped>\n",
       "    .dataframe tbody tr th:only-of-type {\n",
       "        vertical-align: middle;\n",
       "    }\n",
       "\n",
       "    .dataframe tbody tr th {\n",
       "        vertical-align: top;\n",
       "    }\n",
       "\n",
       "    .dataframe thead th {\n",
       "        text-align: right;\n",
       "    }\n",
       "</style>\n",
       "<table border=\"1\" class=\"dataframe\">\n",
       "  <thead>\n",
       "    <tr style=\"text-align: right;\">\n",
       "      <th></th>\n",
       "      <th>ClanPoints CoC</th>\n",
       "      <th>Nombre CoC</th>\n",
       "      <th>Tipo CoC</th>\n",
       "      <th>Location CoC</th>\n",
       "      <th>Nivel de clan CoC</th>\n",
       "      <th>Miembros CoC</th>\n",
       "      <th>Tag CoC</th>\n",
       "    </tr>\n",
       "  </thead>\n",
       "  <tbody>\n",
       "    <tr>\n",
       "      <th>0</th>\n",
       "      <td>37485</td>\n",
       "      <td>LEGEND(●´∀｀●)</td>\n",
       "      <td>inviteOnly</td>\n",
       "      <td>Japan</td>\n",
       "      <td>20</td>\n",
       "      <td>33</td>\n",
       "      <td>#P9PVY999</td>\n",
       "    </tr>\n",
       "    <tr>\n",
       "      <th>1</th>\n",
       "      <td>37304</td>\n",
       "      <td>Potguys2</td>\n",
       "      <td>closed</td>\n",
       "      <td>Philippines</td>\n",
       "      <td>21</td>\n",
       "      <td>42</td>\n",
       "      <td>#2P92CYLQ</td>\n",
       "    </tr>\n",
       "    <tr>\n",
       "      <th>2</th>\n",
       "      <td>36025</td>\n",
       "      <td>KERALA WARHAWKS</td>\n",
       "      <td>inviteOnly</td>\n",
       "      <td>International</td>\n",
       "      <td>13</td>\n",
       "      <td>49</td>\n",
       "      <td>#2YCJURJ98</td>\n",
       "    </tr>\n",
       "    <tr>\n",
       "      <th>3</th>\n",
       "      <td>35210</td>\n",
       "      <td>ျမန္မာ့ေသြး</td>\n",
       "      <td>inviteOnly</td>\n",
       "      <td>Myanmar (Burma)</td>\n",
       "      <td>20</td>\n",
       "      <td>42</td>\n",
       "      <td>#9LUCQLLR</td>\n",
       "    </tr>\n",
       "    <tr>\n",
       "      <th>4</th>\n",
       "      <td>34547</td>\n",
       "      <td>벤젼스</td>\n",
       "      <td>inviteOnly</td>\n",
       "      <td>South Korea</td>\n",
       "      <td>15</td>\n",
       "      <td>33</td>\n",
       "      <td>#PJU99QGG</td>\n",
       "    </tr>\n",
       "    <tr>\n",
       "      <th>5</th>\n",
       "      <td>33889</td>\n",
       "      <td>PALAWAN</td>\n",
       "      <td>open</td>\n",
       "      <td>International</td>\n",
       "      <td>12</td>\n",
       "      <td>50</td>\n",
       "      <td>#2LJJ2GV0G</td>\n",
       "    </tr>\n",
       "    <tr>\n",
       "      <th>6</th>\n",
       "      <td>32964</td>\n",
       "      <td>MYANMAR EMPEROR</td>\n",
       "      <td>inviteOnly</td>\n",
       "      <td>Myanmar (Burma)</td>\n",
       "      <td>17</td>\n",
       "      <td>45</td>\n",
       "      <td>#YUV89JPP</td>\n",
       "    </tr>\n",
       "    <tr>\n",
       "      <th>7</th>\n",
       "      <td>32740</td>\n",
       "      <td>IncEssAnt 11/24</td>\n",
       "      <td>inviteOnly</td>\n",
       "      <td>Philippines</td>\n",
       "      <td>21</td>\n",
       "      <td>37</td>\n",
       "      <td>#L28QJRUC</td>\n",
       "    </tr>\n",
       "    <tr>\n",
       "      <th>8</th>\n",
       "      <td>32455</td>\n",
       "      <td>Sarim kh</td>\n",
       "      <td>open</td>\n",
       "      <td>Cambodia</td>\n",
       "      <td>14</td>\n",
       "      <td>49</td>\n",
       "      <td>#2Q80JQGGJ</td>\n",
       "    </tr>\n",
       "    <tr>\n",
       "      <th>9</th>\n",
       "      <td>31967</td>\n",
       "      <td>SRIMULAT</td>\n",
       "      <td>inviteOnly</td>\n",
       "      <td>International</td>\n",
       "      <td>10</td>\n",
       "      <td>44</td>\n",
       "      <td>#2LP222QYG</td>\n",
       "    </tr>\n",
       "  </tbody>\n",
       "</table>\n",
       "</div>"
      ],
      "text/plain": [
       "   ClanPoints CoC       Nombre CoC    Tipo CoC     Location CoC  \\\n",
       "0           37485    LEGEND(●´∀｀●)  inviteOnly            Japan   \n",
       "1           37304         Potguys2      closed      Philippines   \n",
       "2           36025  KERALA WARHAWKS  inviteOnly    International   \n",
       "3           35210      ျမန္မာ့ေသြး  inviteOnly  Myanmar (Burma)   \n",
       "4           34547              벤젼스  inviteOnly      South Korea   \n",
       "5           33889          PALAWAN        open    International   \n",
       "6           32964  MYANMAR EMPEROR  inviteOnly  Myanmar (Burma)   \n",
       "7           32740  IncEssAnt 11/24  inviteOnly      Philippines   \n",
       "8           32455         Sarim kh        open         Cambodia   \n",
       "9           31967         SRIMULAT  inviteOnly    International   \n",
       "\n",
       "   Nivel de clan CoC  Miembros CoC     Tag CoC  \n",
       "0                 20            33   #P9PVY999  \n",
       "1                 21            42   #2P92CYLQ  \n",
       "2                 13            49  #2YCJURJ98  \n",
       "3                 20            42   #9LUCQLLR  \n",
       "4                 15            33   #PJU99QGG  \n",
       "5                 12            50  #2LJJ2GV0G  \n",
       "6                 17            45   #YUV89JPP  \n",
       "7                 21            37   #L28QJRUC  \n",
       "8                 14            49  #2Q80JQGGJ  \n",
       "9                 10            44  #2LP222QYG  "
      ]
     },
     "execution_count": 10,
     "metadata": {},
     "output_type": "execute_result"
    }
   ],
   "source": [
    "#Creamos el dataframe con Pandas\n",
    "DFF = pd.DataFrame(dff)\n",
    "#print(DFF)\n",
    "\n",
    "DFF1 = DFF.sort_values(by='ClanPoints CoC', ascending=False).head(10).reset_index(drop=True)\n",
    "#print(DFF)\n",
    "\n",
    "primero = DFF1.loc[0, 'Tag CoC']\n",
    "print(primero)\n",
    "\n",
    "DFF1\n",
    "\n",
    "#Observamos el clan con la mayoría de puntos:"
   ]
  },
  {
   "cell_type": "markdown",
   "id": "5a57362a",
   "metadata": {},
   "source": [
    "## <span style=\"color: #597aa2\"> Segunda conexión con la url (str) </span>"
   ]
  },
  {
   "cell_type": "code",
   "execution_count": 15,
   "id": "29a1b843",
   "metadata": {},
   "outputs": [
    {
     "name": "stdout",
     "output_type": "stream",
     "text": [
      "{\"items\":[{\"tag\":\"#RQJCVLJ0\",\"name\":\"G A O G A O\",\"role\":\"coLeader\",\"expLevel\":236,\"league\":{\"id\":29000022,\"name\":\"Legend League\",\"iconUrls\":{\"small\":\"https://api-assets.clashofclans.com/leagues/72/R2zmhyqQ0_lKcDR5EyghXCxgyC9mm_mVMIjAbmGoZtw.png\",\"tiny\":\"https://api-assets.clashofclans.com/leagues/36/R2zmhyqQ0_lKcDR5EyghXCxgyC9mm_mVMIjAbmGoZtw.png\",\"medium\":\"https://api-assets.clashofclans.com/leagues/288/R2zmhyqQ0_lKcDR5EyghXCxgyC9mm_mVMIjAbmGoZtw.png\"}},\"trophies\":5371,\"builderBaseTrophies\":4690,\"versusTrophies\":4690,\"clanRank\":1,\"previousClanRank\":1,\"donations\":10140,\"donationsReceived\":7049,\"builderBaseLeague\":{\"id\":44000033,\"name\":\"Platinum League II\"}},{\"tag\":\"#LUVVJCL8\",\"name\":\"My Dimension\",\"role\":\"coLeader\",\"expLevel\":252,\"league\":{\"id\":29000022,\"name\":\"Legend League\",\"iconUrls\":{\"small\":\"https://api-assets.clashofclans.com/leagues/72/R2zmhyqQ0_lKcDR5EyghXCxgyC9mm_mVMIjAbmGoZtw.png\",\"tiny\":\"https://api-assets.clashofclans.com/leagues/36/R2zmhyqQ0_lKcDR5EyghXCxgyC9mm_mVMIjAbmGoZtw.png\",\"medium\":\"https://api-assets.clashofclans.com/leagues/288/R2zmhyqQ0_lKcDR5EyghXCxgyC9mm_mVMIjAbmGoZtw.png\"}},\"trophies\":5182,\"builderBaseTrophies\":5068,\"versusTrophies\":5068,\"clanRank\":2,\"previousClanRank\":2,\"donations\":2061,\"donationsReceived\":2064,\"playerHouse\":{\"elements\":[{\"type\":\"ground\",\"id\":82000004},{\"type\":\"walls\",\"id\":82000049},{\"type\":\"roof\",\"id\":82000016},{\"type\":\"decoration\",\"id\":82000066}]},\"builderBaseLeague\":{\"id\":44000035,\"name\":\"Emerald League III\"}},{\"tag\":\"#2GJ02CRCU\",\"name\":\"DJ どんぐり\",\"role\":\"coLeader\",\"expLevel\":257,\"league\":{\"id\":29000022,\"name\":\"Legend League\",\"iconUrls\":{\"small\":\"https://api-assets.clashofclans.com/leagues/72/R2zmhyqQ0_lKcDR5EyghXCxgyC9mm_mVMIjAbmGoZtw.png\",\"tiny\":\"https://api-assets.clashofclans.com/leagues/36/R2zmhyqQ0_lKcDR5EyghXCxgyC9mm_mVMIjAbmGoZtw.png\",\"medium\":\"https://api-assets.clashofclans.com/leagues/288/R2zmhyqQ0_lKcDR5EyghXCxgyC9mm_mVMIjAbmGoZtw.png\"}},\"trophies\":5158,\"builderBaseTrophies\":5144,\"versusTrophies\":5144,\"clanRank\":3,\"previousClanRank\":3,\"donations\":1954,\"donationsReceived\":2061,\"playerHouse\":{\"elements\":[{\"type\":\"ground\",\"id\":82000004},{\"type\":\"walls\",\"id\":82000048},{\"type\":\"roof\",\"id\":82000009},{\"type\":\"decoration\",\"id\":82000058}]},\"builderBaseLeague\":{\"id\":44000035,\"name\":\"Emerald League III\"}},{\"tag\":\"#P8CJPQLVY\",\"name\":\"friends\",\"role\":\"coLeader\",\"expLevel\":233,\"league\":{\"id\":29000022,\"name\":\"Legend League\",\"iconUrls\":{\"small\":\"https://api-assets.clashofclans.com/leagues/72/R2zmhyqQ0_lKcDR5EyghXCxgyC9mm_mVMIjAbmGoZtw.png\",\"tiny\":\"https://api-assets.clashofclans.com/leagues/36/R2zmhyqQ0_lKcDR5EyghXCxgyC9mm_mVMIjAbmGoZtw.png\",\"medium\":\"https://api-assets.clashofclans.com/leagues/288/R2zmhyqQ0_lKcDR5EyghXCxgyC9mm_mVMIjAbmGoZtw.png\"}},\"trophies\":5151,\"builderBaseTrophies\":4473,\"versusTrophies\":4473,\"clanRank\":4,\"previousClanRank\":10,\"donations\":7049,\"donationsReceived\":10140,\"playerHouse\":{\"elements\":[{\"type\":\"ground\",\"id\":82000001},{\"type\":\"walls\",\"id\":82000052},{\"type\":\"roof\",\"id\":82000016},{\"type\":\"decoration\",\"id\":82000062}]},\"builderBaseLeague\":{\"id\":44000032,\"name\":\"Platinum League III\"}},{\"tag\":\"#PQ8JGYYCY\",\"name\":\"paradox\",\"role\":\"coLeader\",\"expLevel\":243,\"league\":{\"id\":29000022,\"name\":\"Legend League\",\"iconUrls\":{\"small\":\"https://api-assets.clashofclans.com/leagues/72/R2zmhyqQ0_lKcDR5EyghXCxgyC9mm_mVMIjAbmGoZtw.png\",\"tiny\":\"https://api-assets.clashofclans.com/leagues/36/R2zmhyqQ0_lKcDR5EyghXCxgyC9mm_mVMIjAbmGoZtw.png\",\"medium\":\"https://api-assets.clashofclans.com/leagues/288/R2zmhyqQ0_lKcDR5EyghXCxgyC9mm_mVMIjAbmGoZtw.png\"}},\"trophies\":5143,\"builderBaseTrophies\":5027,\"versusTrophies\":5027,\"clanRank\":5,\"previousClanRank\":4,\"donations\":2060,\"donationsReceived\":2057,\"playerHouse\":{\"elements\":[{\"type\":\"ground\",\"id\":82000006},{\"type\":\"walls\",\"id\":82000053},{\"type\":\"roof\",\"id\":82000016},{\"type\":\"decoration\",\"id\":82000058}]},\"builderBaseLeague\":{\"id\":44000035,\"name\":\"Emerald League III\"}},{\"tag\":\"#LV2PRRQL\",\"name\":\"Luxury night\",\"role\":\"coLeader\",\"expLevel\":255,\"league\":{\"id\":29000022,\"name\":\"Legend League\",\"iconUrls\":{\"small\":\"https://api-assets.clashofclans.com/leagues/72/R2zmhyqQ0_lKcDR5EyghXCxgyC9mm_mVMIjAbmGoZtw.png\",\"tiny\":\"https://api-assets.clashofclans.com/leagues/36/R2zmhyqQ0_lKcDR5EyghXCxgyC9mm_mVMIjAbmGoZtw.png\",\"medium\":\"https://api-assets.clashofclans.com/leagues/288/R2zmhyqQ0_lKcDR5EyghXCxgyC9mm_mVMIjAbmGoZtw.png\"}},\"trophies\":5124,\"builderBaseTrophies\":5098,\"versusTrophies\":5098,\"clanRank\":6,\"previousClanRank\":5,\"donations\":2214,\"donationsReceived\":2058,\"playerHouse\":{\"elements\":[{\"type\":\"ground\",\"id\":82000001},{\"type\":\"walls\",\"id\":82000052},{\"type\":\"roof\",\"id\":82000009},{\"type\":\"decoration\",\"id\":82000066}]},\"builderBaseLeague\":{\"id\":44000035,\"name\":\"Emerald League III\"}},{\"tag\":\"#9LVYJL0CJ\",\"name\":\"the original\",\"role\":\"leader\",\"expLevel\":252,\"league\":{\"id\":29000022,\"name\":\"Legend League\",\"iconUrls\":{\"small\":\"https://api-assets.clashofclans.com/leagues/72/R2zmhyqQ0_lKcDR5EyghXCxgyC9mm_mVMIjAbmGoZtw.png\",\"tiny\":\"https://api-assets.clashofclans.com/leagues/36/R2zmhyqQ0_lKcDR5EyghXCxgyC9mm_mVMIjAbmGoZtw.png\",\"medium\":\"https://api-assets.clashofclans.com/leagues/288/R2zmhyqQ0_lKcDR5EyghXCxgyC9mm_mVMIjAbmGoZtw.png\"}},\"trophies\":5120,\"builderBaseTrophies\":5156,\"versusTrophies\":5156,\"clanRank\":7,\"previousClanRank\":6,\"donations\":2015,\"donationsReceived\":2007,\"playerHouse\":{\"elements\":[{\"type\":\"ground\",\"id\":82000002},{\"type\":\"walls\",\"id\":82000053},{\"type\":\"roof\",\"id\":82000009},{\"type\":\"decoration\",\"id\":82000058}]},\"builderBaseLeague\":{\"id\":44000035,\"name\":\"Emerald League III\"}},{\"tag\":\"#YGLGUVPJ0\",\"name\":\"アハルテケ\",\"role\":\"coLeader\",\"expLevel\":228,\"league\":{\"id\":29000022,\"name\":\"Legend League\",\"iconUrls\":{\"small\":\"https://api-assets.clashofclans.com/leagues/72/R2zmhyqQ0_lKcDR5EyghXCxgyC9mm_mVMIjAbmGoZtw.png\",\"tiny\":\"https://api-assets.clashofclans.com/leagues/36/R2zmhyqQ0_lKcDR5EyghXCxgyC9mm_mVMIjAbmGoZtw.png\",\"medium\":\"https://api-assets.clashofclans.com/leagues/288/R2zmhyqQ0_lKcDR5EyghXCxgyC9mm_mVMIjAbmGoZtw.png\"}},\"trophies\":5097,\"builderBaseTrophies\":5030,\"versusTrophies\":5030,\"clanRank\":8,\"previousClanRank\":7,\"donations\":1946,\"donationsReceived\":2100,\"builderBaseLeague\":{\"id\":44000035,\"name\":\"Emerald League III\"}},{\"tag\":\"#Y9R8LJ00J\",\"name\":\"フレデリック\",\"role\":\"coLeader\",\"expLevel\":238,\"league\":{\"id\":29000022,\"name\":\"Legend League\",\"iconUrls\":{\"small\":\"https://api-assets.clashofclans.com/leagues/72/R2zmhyqQ0_lKcDR5EyghXCxgyC9mm_mVMIjAbmGoZtw.png\",\"tiny\":\"https://api-assets.clashofclans.com/leagues/36/R2zmhyqQ0_lKcDR5EyghXCxgyC9mm_mVMIjAbmGoZtw.png\",\"medium\":\"https://api-assets.clashofclans.com/leagues/288/R2zmhyqQ0_lKcDR5EyghXCxgyC9mm_mVMIjAbmGoZtw.png\"}},\"trophies\":5086,\"builderBaseTrophies\":5128,\"versusTrophies\":5128,\"clanRank\":9,\"previousClanRank\":8,\"donations\":2108,\"donationsReceived\":2060,\"playerHouse\":{\"elements\":[{\"type\":\"ground\",\"id\":82000002},{\"type\":\"walls\",\"id\":82000055},{\"type\":\"roof\",\"id\":82000016},{\"type\":\"decoration\",\"id\":82000058}]},\"builderBaseLeague\":{\"id\":44000035,\"name\":\"Emerald League III\"}},{\"tag\":\"#22VJJJPU8\",\"name\":\"Krazy Bee\",\"role\":\"coLeader\",\"expLevel\":271,\"league\":{\"id\":29000022,\"name\":\"Legend League\",\"iconUrls\":{\"small\":\"https://api-assets.clashofclans.com/leagues/72/R2zmhyqQ0_lKcDR5EyghXCxgyC9mm_mVMIjAbmGoZtw.png\",\"tiny\":\"https://api-assets.clashofclans.com/leagues/36/R2zmhyqQ0_lKcDR5EyghXCxgyC9mm_mVMIjAbmGoZtw.png\",\"medium\":\"https://api-assets.clashofclans.com/leagues/288/R2zmhyqQ0_lKcDR5EyghXCxgyC9mm_mVMIjAbmGoZtw.png\"}},\"trophies\":5079,\"builderBaseTrophies\":5041,\"versusTrophies\":5041,\"clanRank\":10,\"previousClanRank\":9,\"donations\":2164,\"donationsReceived\":2061,\"playerHouse\":{\"elements\":[{\"type\":\"ground\",\"id\":82000004},{\"type\":\"walls\",\"id\":82000048},{\"type\":\"roof\",\"id\":82000016},{\"type\":\"decoration\",\"id\":82000058}]},\"builderBaseLeague\":{\"id\":44000035,\"name\":\"Emerald League III\"}},{\"tag\":\"#PRLRY8Q90\",\"name\":\"臥龍\",\"role\":\"coLeader\",\"expLevel\":248,\"league\":{\"id\":29000022,\"name\":\"Legend League\",\"iconUrls\":{\"small\":\"https://api-assets.clashofclans.com/leagues/72/R2zmhyqQ0_lKcDR5EyghXCxgyC9mm_mVMIjAbmGoZtw.png\",\"tiny\":\"https://api-assets.clashofclans.com/leagues/36/R2zmhyqQ0_lKcDR5EyghXCxgyC9mm_mVMIjAbmGoZtw.png\",\"medium\":\"https://api-assets.clashofclans.com/leagues/288/R2zmhyqQ0_lKcDR5EyghXCxgyC9mm_mVMIjAbmGoZtw.png\"}},\"trophies\":5020,\"builderBaseTrophies\":4986,\"versusTrophies\":4986,\"clanRank\":11,\"previousClanRank\":11,\"donations\":2005,\"donationsReceived\":2059,\"playerHouse\":{\"elements\":[{\"type\":\"ground\",\"id\":82000004},{\"type\":\"walls\",\"id\":82000052},{\"type\":\"roof\",\"id\":82000016},{\"type\":\"decoration\",\"id\":82000058}]},\"builderBaseLeague\":{\"id\":44000034,\"name\":\"Platinum League I\"}},{\"tag\":\"#Y2QCQGP8L\",\"name\":\"しょうた\",\"role\":\"coLeader\",\"expLevel\":247,\"league\":{\"id\":29000022,\"name\":\"Legend League\",\"iconUrls\":{\"small\":\"https://api-assets.clashofclans.com/leagues/72/R2zmhyqQ0_lKcDR5EyghXCxgyC9mm_mVMIjAbmGoZtw.png\",\"tiny\":\"https://api-assets.clashofclans.com/leagues/36/R2zmhyqQ0_lKcDR5EyghXCxgyC9mm_mVMIjAbmGoZtw.png\",\"medium\":\"https://api-assets.clashofclans.com/leagues/288/R2zmhyqQ0_lKcDR5EyghXCxgyC9mm_mVMIjAbmGoZtw.png\"}},\"trophies\":5002,\"builderBaseTrophies\":1855,\"versusTrophies\":1855,\"clanRank\":12,\"previousClanRank\":12,\"donations\":593,\"donationsReceived\":2700,\"builderBaseLeague\":{\"id\":44000018,\"name\":\"Copper League II\"}},{\"tag\":\"#L9PQ2R9V8\",\"name\":\"かつめし\",\"role\":\"coLeader\",\"expLevel\":238,\"league\":{\"id\":29000020,\"name\":\"Titan League II\",\"iconUrls\":{\"small\":\"https://api-assets.clashofclans.com/leagues/72/llpWocHlOoFliwyaEx5Z6dmoZG4u4NmxwpF-Jg7su7Q.png\",\"tiny\":\"https://api-assets.clashofclans.com/leagues/36/llpWocHlOoFliwyaEx5Z6dmoZG4u4NmxwpF-Jg7su7Q.png\",\"medium\":\"https://api-assets.clashofclans.com/leagues/288/llpWocHlOoFliwyaEx5Z6dmoZG4u4NmxwpF-Jg7su7Q.png\"}},\"trophies\":4440,\"builderBaseTrophies\":2191,\"versusTrophies\":2191,\"clanRank\":13,\"previousClanRank\":13,\"donations\":2700,\"donationsReceived\":546,\"playerHouse\":{\"elements\":[{\"type\":\"ground\",\"id\":82000002},{\"type\":\"walls\",\"id\":82000048},{\"type\":\"roof\",\"id\":82000032},{\"type\":\"decoration\",\"id\":82000058}]},\"builderBaseLeague\":{\"id\":44000020,\"name\":\"Brass League III\"}},{\"tag\":\"#2RVRQ9QCG\",\"name\":\"♡miki♡\",\"role\":\"coLeader\",\"expLevel\":229,\"league\":{\"id\":29000016,\"name\":\"Champion League III\",\"iconUrls\":{\"small\":\"https://api-assets.clashofclans.com/leagues/72/JmmTbspV86xBigM7OP5_SjsEDPuE7oXjZC9aOy8xO3s.png\",\"tiny\":\"https://api-assets.clashofclans.com/leagues/36/JmmTbspV86xBigM7OP5_SjsEDPuE7oXjZC9aOy8xO3s.png\",\"medium\":\"https://api-assets.clashofclans.com/leagues/288/JmmTbspV86xBigM7OP5_SjsEDPuE7oXjZC9aOy8xO3s.png\"}},\"trophies\":3344,\"builderBaseTrophies\":4040,\"versusTrophies\":4040,\"clanRank\":14,\"previousClanRank\":14,\"donations\":94,\"donationsReceived\":159,\"builderBaseLeague\":{\"id\":44000030,\"name\":\"Titanium League II\"}},{\"tag\":\"#YQJY2980V\",\"name\":\"check your head\",\"role\":\"coLeader\",\"expLevel\":162,\"league\":{\"id\":29000000,\"name\":\"Unranked\",\"iconUrls\":{\"small\":\"https://api-assets.clashofclans.com/leagues/72/e--YMyIexEQQhE4imLoJcwhYn6Uy8KqlgyY3_kFV6t4.png\",\"tiny\":\"https://api-assets.clashofclans.com/leagues/36/e--YMyIexEQQhE4imLoJcwhYn6Uy8KqlgyY3_kFV6t4.png\"}},\"trophies\":3159,\"builderBaseTrophies\":3999,\"versusTrophies\":3999,\"clanRank\":15,\"previousClanRank\":15,\"donations\":0,\"donationsReceived\":0,\"playerHouse\":{\"elements\":[{\"type\":\"ground\",\"id\":82000002},{\"type\":\"walls\",\"id\":82000048},{\"type\":\"roof\",\"id\":82000016},{\"type\":\"decoration\",\"id\":82000064}]},\"builderBaseLeague\":{\"id\":44000029,\"name\":\"Titanium League III\"}},{\"tag\":\"#8UYRRJ29\",\"name\":\"雪月花\",\"role\":\"coLeader\",\"expLevel\":237,\"league\":{\"id\":29000015,\"name\":\"Master League I\",\"iconUrls\":{\"small\":\"https://api-assets.clashofclans.com/leagues/72/olUfFb1wscIH8hqECAdWbdB6jPm9R8zzEyHIzyBgRXc.png\",\"tiny\":\"https://api-assets.clashofclans.com/leagues/36/olUfFb1wscIH8hqECAdWbdB6jPm9R8zzEyHIzyBgRXc.png\",\"medium\":\"https://api-assets.clashofclans.com/leagues/288/olUfFb1wscIH8hqECAdWbdB6jPm9R8zzEyHIzyBgRXc.png\"}},\"trophies\":3145,\"builderBaseTrophies\":3591,\"versusTrophies\":3591,\"clanRank\":16,\"previousClanRank\":16,\"donations\":0,\"donationsReceived\":0,\"builderBaseLeague\":{\"id\":44000027,\"name\":\"Steel League II\"}},{\"tag\":\"#2RQLULUJ\",\"name\":\"♡sonomi♡\",\"role\":\"coLeader\",\"expLevel\":236,\"league\":{\"id\":29000000,\"name\":\"Unranked\",\"iconUrls\":{\"small\":\"https://api-assets.clashofclans.com/leagues/72/e--YMyIexEQQhE4imLoJcwhYn6Uy8KqlgyY3_kFV6t4.png\",\"tiny\":\"https://api-assets.clashofclans.com/leagues/36/e--YMyIexEQQhE4imLoJcwhYn6Uy8KqlgyY3_kFV6t4.png\"}},\"trophies\":2946,\"builderBaseTrophies\":3976,\"versusTrophies\":3976,\"clanRank\":17,\"previousClanRank\":17,\"donations\":0,\"donationsReceived\":0,\"builderBaseLeague\":{\"id\":44000029,\"name\":\"Titanium League III\"}},{\"tag\":\"#L22GPPRR\",\"name\":\"ゆきまる\",\"role\":\"member\",\"expLevel\":169,\"league\":{\"id\":29000000,\"name\":\"Unranked\",\"iconUrls\":{\"small\":\"https://api-assets.clashofclans.com/leagues/72/e--YMyIexEQQhE4imLoJcwhYn6Uy8KqlgyY3_kFV6t4.png\",\"tiny\":\"https://api-assets.clashofclans.com/leagues/36/e--YMyIexEQQhE4imLoJcwhYn6Uy8KqlgyY3_kFV6t4.png\"}},\"trophies\":2781,\"builderBaseTrophies\":3520,\"versusTrophies\":3520,\"clanRank\":18,\"previousClanRank\":18,\"donations\":0,\"donationsReceived\":0,\"builderBaseLeague\":{\"id\":44000027,\"name\":\"Steel League II\"}},{\"tag\":\"#82YJ9PQ9Y\",\"name\":\"サル\",\"role\":\"admin\",\"expLevel\":129,\"league\":{\"id\":29000012,\"name\":\"Crystal League I\",\"iconUrls\":{\"small\":\"https://api-assets.clashofclans.com/leagues/72/kSfTyNNVSvogX3dMvpFUTt72VW74w6vEsEFuuOV4osQ.png\",\"tiny\":\"https://api-assets.clashofclans.com/leagues/36/kSfTyNNVSvogX3dMvpFUTt72VW74w6vEsEFuuOV4osQ.png\",\"medium\":\"https://api-assets.clashofclans.com/leagues/288/kSfTyNNVSvogX3dMvpFUTt72VW74w6vEsEFuuOV4osQ.png\"}},\"trophies\":2534,\"builderBaseTrophies\":2746,\"versusTrophies\":2746,\"clanRank\":19,\"previousClanRank\":19,\"donations\":0,\"donationsReceived\":0,\"builderBaseLeague\":{\"id\":44000023,\"name\":\"Iron League III\"}},{\"tag\":\"#2JU2CL09G\",\"name\":\"❤miki❤\",\"role\":\"coLeader\",\"expLevel\":204,\"league\":{\"id\":29000012,\"name\":\"Crystal League I\",\"iconUrls\":{\"small\":\"https://api-assets.clashofclans.com/leagues/72/kSfTyNNVSvogX3dMvpFUTt72VW74w6vEsEFuuOV4osQ.png\",\"tiny\":\"https://api-assets.clashofclans.com/leagues/36/kSfTyNNVSvogX3dMvpFUTt72VW74w6vEsEFuuOV4osQ.png\",\"medium\":\"https://api-assets.clashofclans.com/leagues/288/kSfTyNNVSvogX3dMvpFUTt72VW74w6vEsEFuuOV4osQ.png\"}},\"trophies\":2509,\"builderBaseTrophies\":3243,\"versusTrophies\":3243,\"clanRank\":20,\"previousClanRank\":20,\"donations\":159,\"donationsReceived\":141,\"builderBaseLeague\":{\"id\":44000026,\"name\":\"Steel League III\"}},{\"tag\":\"#RRPPQPRQ\",\"name\":\"MASATO.F\",\"role\":\"admin\",\"expLevel\":181,\"league\":{\"id\":29000000,\"name\":\"Unranked\",\"iconUrls\":{\"small\":\"https://api-assets.clashofclans.com/leagues/72/e--YMyIexEQQhE4imLoJcwhYn6Uy8KqlgyY3_kFV6t4.png\",\"tiny\":\"https://api-assets.clashofclans.com/leagues/36/e--YMyIexEQQhE4imLoJcwhYn6Uy8KqlgyY3_kFV6t4.png\"}},\"trophies\":2503,\"builderBaseTrophies\":3281,\"versusTrophies\":3281,\"clanRank\":21,\"previousClanRank\":21,\"donations\":0,\"donationsReceived\":0,\"playerHouse\":{\"elements\":[{\"type\":\"ground\",\"id\":82000002},{\"type\":\"walls\",\"id\":82000049},{\"type\":\"roof\",\"id\":82000016},{\"type\":\"decoration\",\"id\":82000060}]},\"builderBaseLeague\":{\"id\":44000026,\"name\":\"Steel League III\"}},{\"tag\":\"#280R8L8L0\",\"name\":\"ラック•ボルティア\",\"role\":\"admin\",\"expLevel\":139,\"league\":{\"id\":29000011,\"name\":\"Crystal League II\",\"iconUrls\":{\"small\":\"https://api-assets.clashofclans.com/leagues/72/jhP36EhAA9n1ADafdQtCP-ztEAQjoRpY7cT8sU7SW8A.png\",\"tiny\":\"https://api-assets.clashofclans.com/leagues/36/jhP36EhAA9n1ADafdQtCP-ztEAQjoRpY7cT8sU7SW8A.png\",\"medium\":\"https://api-assets.clashofclans.com/leagues/288/jhP36EhAA9n1ADafdQtCP-ztEAQjoRpY7cT8sU7SW8A.png\"}},\"trophies\":2359,\"builderBaseTrophies\":3190,\"versusTrophies\":3190,\"clanRank\":22,\"previousClanRank\":22,\"donations\":0,\"donationsReceived\":0,\"playerHouse\":{\"elements\":[{\"type\":\"ground\",\"id\":82000000},{\"type\":\"walls\",\"id\":82000048},{\"type\":\"roof\",\"id\":82000010},{\"type\":\"decoration\",\"id\":82000058}]},\"builderBaseLeague\":{\"id\":44000025,\"name\":\"Iron League I\"}},{\"tag\":\"#PUQ9UGJJQ\",\"name\":\"tsubasa&takuto\",\"role\":\"admin\",\"expLevel\":131,\"league\":{\"id\":29000011,\"name\":\"Crystal League II\",\"iconUrls\":{\"small\":\"https://api-assets.clashofclans.com/leagues/72/jhP36EhAA9n1ADafdQtCP-ztEAQjoRpY7cT8sU7SW8A.png\",\"tiny\":\"https://api-assets.clashofclans.com/leagues/36/jhP36EhAA9n1ADafdQtCP-ztEAQjoRpY7cT8sU7SW8A.png\",\"medium\":\"https://api-assets.clashofclans.com/leagues/288/jhP36EhAA9n1ADafdQtCP-ztEAQjoRpY7cT8sU7SW8A.png\"}},\"trophies\":2291,\"builderBaseTrophies\":2316,\"versusTrophies\":2316,\"clanRank\":23,\"previousClanRank\":23,\"donations\":0,\"donationsReceived\":0,\"builderBaseLeague\":{\"id\":44000021,\"name\":\"Brass League II\"}},{\"tag\":\"#8LLVV2CYV\",\"name\":\"雪ん子\",\"role\":\"coLeader\",\"expLevel\":229,\"league\":{\"id\":29000000,\"name\":\"Unranked\",\"iconUrls\":{\"small\":\"https://api-assets.clashofclans.com/leagues/72/e--YMyIexEQQhE4imLoJcwhYn6Uy8KqlgyY3_kFV6t4.png\",\"tiny\":\"https://api-assets.clashofclans.com/leagues/36/e--YMyIexEQQhE4imLoJcwhYn6Uy8KqlgyY3_kFV6t4.png\"}},\"trophies\":2288,\"builderBaseTrophies\":2726,\"versusTrophies\":2726,\"clanRank\":24,\"previousClanRank\":24,\"donations\":0,\"donationsReceived\":0,\"builderBaseLeague\":{\"id\":44000023,\"name\":\"Iron League III\"}},{\"tag\":\"#C2VC2PR2\",\"name\":\"烏丸(＇⊆＇)\",\"role\":\"admin\",\"expLevel\":155,\"league\":{\"id\":29000000,\"name\":\"Unranked\",\"iconUrls\":{\"small\":\"https://api-assets.clashofclans.com/leagues/72/e--YMyIexEQQhE4imLoJcwhYn6Uy8KqlgyY3_kFV6t4.png\",\"tiny\":\"https://api-assets.clashofclans.com/leagues/36/e--YMyIexEQQhE4imLoJcwhYn6Uy8KqlgyY3_kFV6t4.png\"}},\"trophies\":2189,\"builderBaseTrophies\":2679,\"versusTrophies\":2679,\"clanRank\":25,\"previousClanRank\":25,\"donations\":0,\"donationsReceived\":0,\"builderBaseLeague\":{\"id\":44000023,\"name\":\"Iron League III\"}},{\"tag\":\"#YJ9L8VQLG\",\"name\":\"♡mizuki♡\",\"role\":\"coLeader\",\"expLevel\":175,\"league\":{\"id\":29000000,\"name\":\"Unranked\",\"iconUrls\":{\"small\":\"https://api-assets.clashofclans.com/leagues/72/e--YMyIexEQQhE4imLoJcwhYn6Uy8KqlgyY3_kFV6t4.png\",\"tiny\":\"https://api-assets.clashofclans.com/leagues/36/e--YMyIexEQQhE4imLoJcwhYn6Uy8KqlgyY3_kFV6t4.png\"}},\"trophies\":2150,\"builderBaseTrophies\":2695,\"versusTrophies\":2695,\"clanRank\":26,\"previousClanRank\":26,\"donations\":0,\"donationsReceived\":0,\"builderBaseLeague\":{\"id\":44000023,\"name\":\"Iron League III\"}},{\"tag\":\"#2VL9QGYV2\",\"name\":\"翼&タクト(●´∀`●)\",\"role\":\"admin\",\"expLevel\":158,\"league\":{\"id\":29000000,\"name\":\"Unranked\",\"iconUrls\":{\"small\":\"https://api-assets.clashofclans.com/leagues/72/e--YMyIexEQQhE4imLoJcwhYn6Uy8KqlgyY3_kFV6t4.png\",\"tiny\":\"https://api-assets.clashofclans.com/leagues/36/e--YMyIexEQQhE4imLoJcwhYn6Uy8KqlgyY3_kFV6t4.png\"}},\"trophies\":2065,\"builderBaseTrophies\":2762,\"versusTrophies\":2762,\"clanRank\":27,\"previousClanRank\":27,\"donations\":0,\"donationsReceived\":0,\"builderBaseLeague\":{\"id\":44000023,\"name\":\"Iron League III\"}},{\"tag\":\"#YRUGJGYL8\",\"name\":\"とまと\",\"role\":\"coLeader\",\"expLevel\":107,\"league\":{\"id\":29000000,\"name\":\"Unranked\",\"iconUrls\":{\"small\":\"https://api-assets.clashofclans.com/leagues/72/e--YMyIexEQQhE4imLoJcwhYn6Uy8KqlgyY3_kFV6t4.png\",\"tiny\":\"https://api-assets.clashofclans.com/leagues/36/e--YMyIexEQQhE4imLoJcwhYn6Uy8KqlgyY3_kFV6t4.png\"}},\"trophies\":2008,\"builderBaseTrophies\":2493,\"versusTrophies\":2493,\"clanRank\":28,\"previousClanRank\":28,\"donations\":0,\"donationsReceived\":0,\"playerHouse\":{\"elements\":[{\"type\":\"ground\",\"id\":82000001},{\"type\":\"walls\",\"id\":82000049},{\"type\":\"roof\",\"id\":82000009},{\"type\":\"decoration\",\"id\":82000058}]},\"builderBaseLeague\":{\"id\":44000022,\"name\":\"Brass League I\"}},{\"tag\":\"#L2VJQPRCL\",\"name\":\"ぽてと\",\"role\":\"coLeader\",\"expLevel\":97,\"league\":{\"id\":29000000,\"name\":\"Unranked\",\"iconUrls\":{\"small\":\"https://api-assets.clashofclans.com/leagues/72/e--YMyIexEQQhE4imLoJcwhYn6Uy8KqlgyY3_kFV6t4.png\",\"tiny\":\"https://api-assets.clashofclans.com/leagues/36/e--YMyIexEQQhE4imLoJcwhYn6Uy8KqlgyY3_kFV6t4.png\"}},\"trophies\":1864,\"builderBaseTrophies\":2570,\"versusTrophies\":2570,\"clanRank\":29,\"previousClanRank\":29,\"donations\":0,\"donationsReceived\":0,\"playerHouse\":{\"elements\":[{\"type\":\"ground\",\"id\":82000002},{\"type\":\"walls\",\"id\":82000049},{\"type\":\"roof\",\"id\":82000016},{\"type\":\"decoration\",\"id\":82000058}]},\"builderBaseLeague\":{\"id\":44000022,\"name\":\"Brass League I\"}},{\"tag\":\"#LJULRV8LC\",\"name\":\"forth generatio\",\"role\":\"admin\",\"expLevel\":102,\"league\":{\"id\":29000009,\"name\":\"Gold League I\",\"iconUrls\":{\"small\":\"https://api-assets.clashofclans.com/leagues/72/CorhMY9ZmQvqXTZ4VYVuUgPNGSHsO0cEXEL5WYRmB2Y.png\",\"tiny\":\"https://api-assets.clashofclans.com/leagues/36/CorhMY9ZmQvqXTZ4VYVuUgPNGSHsO0cEXEL5WYRmB2Y.png\",\"medium\":\"https://api-assets.clashofclans.com/leagues/288/CorhMY9ZmQvqXTZ4VYVuUgPNGSHsO0cEXEL5WYRmB2Y.png\"}},\"trophies\":1797,\"builderBaseTrophies\":2224,\"versusTrophies\":2224,\"clanRank\":30,\"previousClanRank\":30,\"donations\":0,\"donationsReceived\":0,\"builderBaseLeague\":{\"id\":44000021,\"name\":\"Brass League II\"}},{\"tag\":\"#P2GGV98YP\",\"name\":\"ﾟ　ﾟ ( Д 　)\",\"role\":\"admin\",\"expLevel\":117,\"league\":{\"id\":29000000,\"name\":\"Unranked\",\"iconUrls\":{\"small\":\"https://api-assets.clashofclans.com/leagues/72/e--YMyIexEQQhE4imLoJcwhYn6Uy8KqlgyY3_kFV6t4.png\",\"tiny\":\"https://api-assets.clashofclans.com/leagues/36/e--YMyIexEQQhE4imLoJcwhYn6Uy8KqlgyY3_kFV6t4.png\"}},\"trophies\":1635,\"builderBaseTrophies\":1963,\"versusTrophies\":1963,\"clanRank\":31,\"previousClanRank\":31,\"donations\":0,\"donationsReceived\":0,\"builderBaseLeague\":{\"id\":44000019,\"name\":\"Copper League I\"}},{\"tag\":\"#LLVG8YV98\",\"name\":\"るしふぁーずはんまぁ\",\"role\":\"coLeader\",\"expLevel\":96,\"league\":{\"id\":29000000,\"name\":\"Unranked\",\"iconUrls\":{\"small\":\"https://api-assets.clashofclans.com/leagues/72/e--YMyIexEQQhE4imLoJcwhYn6Uy8KqlgyY3_kFV6t4.png\",\"tiny\":\"https://api-assets.clashofclans.com/leagues/36/e--YMyIexEQQhE4imLoJcwhYn6Uy8KqlgyY3_kFV6t4.png\"}},\"trophies\":1520,\"builderBaseTrophies\":2472,\"versusTrophies\":2472,\"clanRank\":32,\"previousClanRank\":32,\"donations\":0,\"donationsReceived\":0,\"playerHouse\":{\"elements\":[{\"type\":\"ground\",\"id\":82000002},{\"type\":\"walls\",\"id\":82000052},{\"type\":\"roof\",\"id\":82000016},{\"type\":\"decoration\",\"id\":82000059}]},\"builderBaseLeague\":{\"id\":44000022,\"name\":\"Brass League I\"}},{\"tag\":\"#QYL8UCLPG\",\"name\":\"ぽちたま\",\"role\":\"coLeader\",\"expLevel\":78,\"league\":{\"id\":29000000,\"name\":\"Unranked\",\"iconUrls\":{\"small\":\"https://api-assets.clashofclans.com/leagues/72/e--YMyIexEQQhE4imLoJcwhYn6Uy8KqlgyY3_kFV6t4.png\",\"tiny\":\"https://api-assets.clashofclans.com/leagues/36/e--YMyIexEQQhE4imLoJcwhYn6Uy8KqlgyY3_kFV6t4.png\"}},\"trophies\":1242,\"builderBaseTrophies\":2455,\"versusTrophies\":2455,\"clanRank\":33,\"previousClanRank\":33,\"donations\":0,\"donationsReceived\":0,\"playerHouse\":{\"elements\":[{\"type\":\"ground\",\"id\":82000006},{\"type\":\"walls\",\"id\":82000052},{\"type\":\"roof\",\"id\":82000009},{\"type\":\"decoration\",\"id\":82000058}]},\"builderBaseLeague\":{\"id\":44000022,\"name\":\"Brass League I\"}}],\"paging\":{\"cursors\":{}}}\n"
     ]
    }
   ],
   "source": [
    "# Codificar el valor de \"primero\"\n",
    "tags = urllib.parse.quote(primero)\n",
    "\n",
    "# Leer la clave de autenticación desde el archivo \"keyJimena.txt\"\n",
    "with open(\"keyJimena.txt\") as f:\n",
    "    my_key2 = f.read().rstrip(\"\\n\")\n",
    "\n",
    "# URL base de la API de Clash of Clans\n",
    "base_url = \"https://api.clashofclans.com/v1\"\n",
    "\n",
    "# Construir el endpoint de la solicitud con el valor codificado\n",
    "endpoint = \"/clans/%s/members?minMembers=20\" % tags\n",
    "\n",
    "# Construir la solicitud con la clave de autenticación\n",
    "request = urllib.request.Request(\n",
    "    base_url + endpoint,\n",
    "    None,\n",
    "    {\n",
    "        \"Authorization\": \"Bearer %s\" % my_key2\n",
    "    }\n",
    ")\n",
    "\n",
    "# Realizar la solicitud y obtener la respuesta\n",
    "uclient = urllib.request.urlopen(request)\n",
    "responsehtml = uclient.read()\n",
    "uclient.close()\n",
    "\n",
    "# Decodificar los datos de la respuesta\n",
    "datos1 = responsehtml.decode()\n",
    "#print(datos1)"
   ]
  },
  {
   "cell_type": "markdown",
   "id": "a83f0ee0",
   "metadata": {},
   "source": [
    "### <span style=\"color: #34253B\"> Pasar a diccionario (dict) </span>"
   ]
  },
  {
   "cell_type": "code",
   "execution_count": 16,
   "id": "d65ee9b3",
   "metadata": {},
   "outputs": [
    {
     "name": "stdout",
     "output_type": "stream",
     "text": [
      "<class 'dict'>\n"
     ]
    },
    {
     "data": {
      "text/plain": [
       "{'tag': '#RQJCVLJ0',\n",
       " 'name': 'G A O G A O',\n",
       " 'role': 'coLeader',\n",
       " 'expLevel': 236,\n",
       " 'league': {'id': 29000022,\n",
       "  'name': 'Legend League',\n",
       "  'iconUrls': {'small': 'https://api-assets.clashofclans.com/leagues/72/R2zmhyqQ0_lKcDR5EyghXCxgyC9mm_mVMIjAbmGoZtw.png',\n",
       "   'tiny': 'https://api-assets.clashofclans.com/leagues/36/R2zmhyqQ0_lKcDR5EyghXCxgyC9mm_mVMIjAbmGoZtw.png',\n",
       "   'medium': 'https://api-assets.clashofclans.com/leagues/288/R2zmhyqQ0_lKcDR5EyghXCxgyC9mm_mVMIjAbmGoZtw.png'}},\n",
       " 'trophies': 5371,\n",
       " 'builderBaseTrophies': 4690,\n",
       " 'versusTrophies': 4690,\n",
       " 'clanRank': 1,\n",
       " 'previousClanRank': 1,\n",
       " 'donations': 10140,\n",
       " 'donationsReceived': 7049,\n",
       " 'builderBaseLeague': {'id': 44000033, 'name': 'Platinum League II'}}"
      ]
     },
     "execution_count": 16,
     "metadata": {},
     "output_type": "execute_result"
    }
   ],
   "source": [
    "datos_d = json.loads(datos1)\n",
    "print(type(datos_d))\n",
    "datos_d[\"items\"][0]"
   ]
  },
  {
   "cell_type": "markdown",
   "id": "ef3640fd",
   "metadata": {},
   "source": [
    "## <span style=\"color:rgb(75, 150, 171)\"> Descripción del juego Clash Royale</span>"
   ]
  },
  {
   "cell_type": "markdown",
   "id": "51bed2f8",
   "metadata": {},
   "source": [
    "\n",
    "Tambien conocido como CR es un juego de estrategia y combate en tiempo real ambientada en el mismo universo de Clash of Clans, tambien desarrollada por Supercell. Combina elementos de juegos de cartas coleccionables, defensa de torres y estrategia multijugador en línea.\n",
    "Antes de iniciar con el WebScraping necesitamos crear una cuenta en la web API https://developer.clashroyale.com/#/ para obtener nuestra clave token.\n",
    "\n",
    "\n",
    "<img src=\"https://assets-prd.ignimgs.com/2022/05/27/clashroyale-1653673820137.jpg\" alt=\"Clash of Clans\" width=\"500\">"
   ]
  },
  {
   "cell_type": "markdown",
   "id": "1e77f16f",
   "metadata": {},
   "source": [
    "### WebScraping mediante API's [ Clash Royale ]"
   ]
  },
  {
   "cell_type": "markdown",
   "id": "42bb2be2",
   "metadata": {},
   "source": [
    "## <span style=\"color: #709f1d\"> Conexión con la url (str) </span>\n"
   ]
  },
  {
   "cell_type": "code",
   "execution_count": 2,
   "id": "122e49c0",
   "metadata": {},
   "outputs": [],
   "source": [
    "import urllib.request\n",
    "from urllib.request import urlopen\n",
    "import pandas as pd\n",
    "import requests\n",
    "import json\n",
    "import polars as pl\n",
    "with open(\"my_keyArthur.txt\") as f:\n",
    "    my_key =f.read().rstrip(\"\\n\")\n",
    "    \n",
    "    base_url = \"https://api.clashroyale.com/v1\"\n",
    "    \n",
    "    #endpoint = \"/cards\"\n",
    "    endpoint = \"/clans?minScore=16000\"\n",
    "    \n",
    "    request = urllib.request.Request(\n",
    "        base_url+endpoint,\n",
    "        None,\n",
    "        {\n",
    "            \"Authorization\": \"Bearer %s\" % my_key\n",
    "        }\n",
    "    )\n",
    "    uclient=urlopen(request)\n",
    "    responsehtml=uclient.read()\n",
    "    #type(responsehtml)\n",
    "    #uclient.close()\n",
    "    #data = responsehtml.decode()\n",
    "\n",
    "    #data\n",
    "    #response = urllib.request.urlopen(request).read().decode(\"utf-8\")\n",
    "    \n",
    "    data = responsehtml#.decode(\"utf-8\")\n",
    "    uclient.close()\n",
    "    data\n",
    "    #data = json.loads(response)\n",
    "    #for item in data[\"items\"]:\n",
    "        #print(\"%s [%d]\" % (item[\"name\"], item[\"maxLevel\"]))\n",
    "        #d =\"Clan: %s\\nMembers: %d\\nScore: %s\\nTag: %s\\n\\n\" % (item[\"name\"], item[\"members\"], item[\"clanScore\"], item[\"tag\"])\n",
    "        #print(d)\n",
    "   #print(data)"
   ]
  },
  {
   "cell_type": "markdown",
   "id": "59cf8357",
   "metadata": {},
   "source": [
    "## <span style=\"color: #26a783\"> Pasar a diccionario (dict) </span>"
   ]
  },
  {
   "cell_type": "code",
   "execution_count": 3,
   "id": "083ce352",
   "metadata": {},
   "outputs": [
    {
     "name": "stdout",
     "output_type": "stream",
     "text": [
      "<class 'dict'>\n"
     ]
    }
   ],
   "source": [
    "info= json.loads(data)\n",
    "print(type(info))"
   ]
  },
  {
   "cell_type": "markdown",
   "id": "a3d7da99",
   "metadata": {},
   "source": [
    "## <span style=\"color: #A6BD4C\"> Filtrado (df) </span>"
   ]
  },
  {
   "cell_type": "code",
   "execution_count": 11,
   "id": "02f5da6d",
   "metadata": {},
   "outputs": [
    {
     "data": {
      "text/html": [
       "<div>\n",
       "<style scoped>\n",
       "    .dataframe tbody tr th:only-of-type {\n",
       "        vertical-align: middle;\n",
       "    }\n",
       "\n",
       "    .dataframe tbody tr th {\n",
       "        vertical-align: top;\n",
       "    }\n",
       "\n",
       "    .dataframe thead th {\n",
       "        text-align: right;\n",
       "    }\n",
       "</style>\n",
       "<table border=\"1\" class=\"dataframe\">\n",
       "  <thead>\n",
       "    <tr style=\"text-align: right;\">\n",
       "      <th></th>\n",
       "      <th>Clan name (CR)</th>\n",
       "      <th>ClanPoints (CR)</th>\n",
       "      <th>Type (CR)</th>\n",
       "      <th>Location (CR)</th>\n",
       "      <th>Members (CR)</th>\n",
       "    </tr>\n",
       "  </thead>\n",
       "  <tbody>\n",
       "    <tr>\n",
       "      <th>0</th>\n",
       "      <td>Clan #LL8QPC8P</td>\n",
       "      <td>66464</td>\n",
       "      <td>open</td>\n",
       "      <td>United States</td>\n",
       "      <td>50</td>\n",
       "    </tr>\n",
       "    <tr>\n",
       "      <th>1</th>\n",
       "      <td>Clan #P9CL8R0G</td>\n",
       "      <td>64456</td>\n",
       "      <td>open</td>\n",
       "      <td>United States</td>\n",
       "      <td>50</td>\n",
       "    </tr>\n",
       "    <tr>\n",
       "      <th>2</th>\n",
       "      <td>kutingin</td>\n",
       "      <td>53851</td>\n",
       "      <td>closed</td>\n",
       "      <td>International</td>\n",
       "      <td>47</td>\n",
       "    </tr>\n",
       "    <tr>\n",
       "      <th>3</th>\n",
       "      <td>Return</td>\n",
       "      <td>52342</td>\n",
       "      <td>inviteOnly</td>\n",
       "      <td>Spain</td>\n",
       "      <td>50</td>\n",
       "    </tr>\n",
       "    <tr>\n",
       "      <th>4</th>\n",
       "      <td>喧嘩稼業</td>\n",
       "      <td>51003</td>\n",
       "      <td>closed</td>\n",
       "      <td>Japan</td>\n",
       "      <td>29</td>\n",
       "    </tr>\n",
       "    <tr>\n",
       "      <th>5</th>\n",
       "      <td>Hearthstone BR</td>\n",
       "      <td>49898</td>\n",
       "      <td>closed</td>\n",
       "      <td>Brazil</td>\n",
       "      <td>33</td>\n",
       "    </tr>\n",
       "    <tr>\n",
       "      <th>6</th>\n",
       "      <td>아낌없이주는연수</td>\n",
       "      <td>49358</td>\n",
       "      <td>open</td>\n",
       "      <td>International</td>\n",
       "      <td>32</td>\n",
       "    </tr>\n",
       "    <tr>\n",
       "      <th>7</th>\n",
       "      <td>ClashWithClass™</td>\n",
       "      <td>46828</td>\n",
       "      <td>closed</td>\n",
       "      <td>Spain</td>\n",
       "      <td>26</td>\n",
       "    </tr>\n",
       "    <tr>\n",
       "      <th>8</th>\n",
       "      <td>Acrifaal</td>\n",
       "      <td>45107</td>\n",
       "      <td>closed</td>\n",
       "      <td>Ukraine</td>\n",
       "      <td>21</td>\n",
       "    </tr>\n",
       "    <tr>\n",
       "      <th>9</th>\n",
       "      <td>om</td>\n",
       "      <td>43548</td>\n",
       "      <td>closed</td>\n",
       "      <td>International</td>\n",
       "      <td>24</td>\n",
       "    </tr>\n",
       "  </tbody>\n",
       "</table>\n",
       "</div>"
      ],
      "text/plain": [
       "    Clan name (CR)  ClanPoints (CR)   Type (CR)  Location (CR)  Members (CR)\n",
       "0   Clan #LL8QPC8P            66464        open  United States            50\n",
       "1   Clan #P9CL8R0G            64456        open  United States            50\n",
       "2         kutingin            53851      closed  International            47\n",
       "3           Return            52342  inviteOnly          Spain            50\n",
       "4             喧嘩稼業            51003      closed          Japan            29\n",
       "5   Hearthstone BR            49898      closed         Brazil            33\n",
       "6         아낌없이주는연수            49358        open  International            32\n",
       "7  ClashWithClass™            46828      closed          Spain            26\n",
       "8         Acrifaal            45107      closed        Ukraine            21\n",
       "9               om            43548      closed  International            24"
      ]
     },
     "execution_count": 11,
     "metadata": {},
     "output_type": "execute_result"
    }
   ],
   "source": [
    "clanPoints = []\n",
    "location=[]\n",
    "member=[]\n",
    "clan=[]\n",
    "Type=[]\n",
    "#print(info[\"items\"][0])\n",
    "for i in range(len(info[\"items\"])):\n",
    "    clanPoints.append(info[\"items\"][i]['clanScore'])\n",
    "    location.append(info[\"items\"][i]['location']['name'])\n",
    "    member.append(info[\"items\"][i][\"members\"])\n",
    "    clan.append(info [\"items\"][i][\"name\"])\n",
    "    Type.append(info[\"items\"][i][\"type\"])\n",
    "dff={\"Clan name (CR)\":clan,'ClanPoints (CR)':clanPoints,\"Type (CR)\":Type,'Location (CR)':location,'Members (CR)':member}\n",
    "#print(clanPoints)\n",
    "#print(location)\n",
    "DFF=pd.DataFrame(dff)\n",
    "\n",
    "#TOP 10 CLANES PARA LA FECHA 18/06/2023\n",
    "DFF1 = DFF.sort_values(by='ClanPoints (CR)', ascending=False).head(10).reset_index(drop=True)\n",
    "\n",
    "DFF1"
   ]
  },
  {
   "cell_type": "markdown",
   "id": "a96de4a6",
   "metadata": {},
   "source": [
    "## <span style=\"color: #ab1ba5\"> Pasar a dataframe (df) </span>"
   ]
  },
  {
   "cell_type": "code",
   "execution_count": 9,
   "id": "d8c1e5aa",
   "metadata": {},
   "outputs": [
    {
     "data": {
      "text/html": [
       "<div>\n",
       "<style scoped>\n",
       "    .dataframe tbody tr th:only-of-type {\n",
       "        vertical-align: middle;\n",
       "    }\n",
       "\n",
       "    .dataframe tbody tr th {\n",
       "        vertical-align: top;\n",
       "    }\n",
       "\n",
       "    .dataframe thead th {\n",
       "        text-align: right;\n",
       "    }\n",
       "</style>\n",
       "<table border=\"1\" class=\"dataframe\">\n",
       "  <thead>\n",
       "    <tr style=\"text-align: right;\">\n",
       "      <th></th>\n",
       "      <th>Clan name (CR)</th>\n",
       "      <th>ClanPoints (CR)</th>\n",
       "      <th>Type (CR)</th>\n",
       "      <th>Location (CR)</th>\n",
       "      <th>Members (CR)</th>\n",
       "    </tr>\n",
       "  </thead>\n",
       "  <tbody>\n",
       "    <tr>\n",
       "      <th>0</th>\n",
       "      <td>Clan #LL8QPC8P</td>\n",
       "      <td>66464</td>\n",
       "      <td>open</td>\n",
       "      <td>United States</td>\n",
       "      <td>50</td>\n",
       "    </tr>\n",
       "    <tr>\n",
       "      <th>1</th>\n",
       "      <td>Clan #P9CL8R0G</td>\n",
       "      <td>64456</td>\n",
       "      <td>open</td>\n",
       "      <td>United States</td>\n",
       "      <td>50</td>\n",
       "    </tr>\n",
       "    <tr>\n",
       "      <th>2</th>\n",
       "      <td>kutingin</td>\n",
       "      <td>53851</td>\n",
       "      <td>closed</td>\n",
       "      <td>International</td>\n",
       "      <td>47</td>\n",
       "    </tr>\n",
       "    <tr>\n",
       "      <th>3</th>\n",
       "      <td>Return</td>\n",
       "      <td>52342</td>\n",
       "      <td>inviteOnly</td>\n",
       "      <td>Spain</td>\n",
       "      <td>50</td>\n",
       "    </tr>\n",
       "    <tr>\n",
       "      <th>4</th>\n",
       "      <td>喧嘩稼業</td>\n",
       "      <td>51003</td>\n",
       "      <td>closed</td>\n",
       "      <td>Japan</td>\n",
       "      <td>29</td>\n",
       "    </tr>\n",
       "    <tr>\n",
       "      <th>5</th>\n",
       "      <td>Hearthstone BR</td>\n",
       "      <td>49898</td>\n",
       "      <td>closed</td>\n",
       "      <td>Brazil</td>\n",
       "      <td>33</td>\n",
       "    </tr>\n",
       "    <tr>\n",
       "      <th>6</th>\n",
       "      <td>아낌없이주는연수</td>\n",
       "      <td>49358</td>\n",
       "      <td>open</td>\n",
       "      <td>International</td>\n",
       "      <td>32</td>\n",
       "    </tr>\n",
       "    <tr>\n",
       "      <th>7</th>\n",
       "      <td>ClashWithClass™</td>\n",
       "      <td>46828</td>\n",
       "      <td>closed</td>\n",
       "      <td>Spain</td>\n",
       "      <td>26</td>\n",
       "    </tr>\n",
       "    <tr>\n",
       "      <th>8</th>\n",
       "      <td>Acrifaal</td>\n",
       "      <td>45107</td>\n",
       "      <td>closed</td>\n",
       "      <td>Ukraine</td>\n",
       "      <td>21</td>\n",
       "    </tr>\n",
       "    <tr>\n",
       "      <th>9</th>\n",
       "      <td>om</td>\n",
       "      <td>43548</td>\n",
       "      <td>closed</td>\n",
       "      <td>International</td>\n",
       "      <td>24</td>\n",
       "    </tr>\n",
       "  </tbody>\n",
       "</table>\n",
       "</div>"
      ],
      "text/plain": [
       "    Clan name (CR)  ClanPoints (CR)   Type (CR)  Location (CR)  Members (CR)\n",
       "0   Clan #LL8QPC8P            66464        open  United States            50\n",
       "1   Clan #P9CL8R0G            64456        open  United States            50\n",
       "2         kutingin            53851      closed  International            47\n",
       "3           Return            52342  inviteOnly          Spain            50\n",
       "4             喧嘩稼業            51003      closed          Japan            29\n",
       "5   Hearthstone BR            49898      closed         Brazil            33\n",
       "6         아낌없이주는연수            49358        open  International            32\n",
       "7  ClashWithClass™            46828      closed          Spain            26\n",
       "8         Acrifaal            45107      closed        Ukraine            21\n",
       "9               om            43548      closed  International            24"
      ]
     },
     "execution_count": 9,
     "metadata": {},
     "output_type": "execute_result"
    }
   ],
   "source": [
    "DFF=pd.DataFrame(dff)\n",
    "\n",
    "#TOP 10 CLANES PARA LA FECHA 18/06/2023\n",
    "DFF1 = DFF.sort_values(by='ClanPoints (CR)', ascending=False).head(10).reset_index(drop=True)\n",
    "\n",
    "DFF1"
   ]
  },
  {
   "cell_type": "markdown",
   "id": "f657f85b",
   "metadata": {},
   "source": [
    "### >Merge a los DataFrame"
   ]
  },
  {
   "cell_type": "markdown",
   "id": "58e2d6c0",
   "metadata": {},
   "source": [
    "### >Pasar a csv"
   ]
  },
  {
   "cell_type": "markdown",
   "id": "82dbbf38",
   "metadata": {},
   "source": [
    "### Errores\n",
    "-\n"
   ]
  },
  {
   "cell_type": "markdown",
   "id": "33604f96",
   "metadata": {},
   "source": [
    "### >Conclusión"
   ]
  },
  {
   "cell_type": "code",
   "execution_count": null,
   "id": "1252308c",
   "metadata": {},
   "outputs": [],
   "source": []
  }
 ],
 "metadata": {
  "kernelspec": {
   "display_name": "Python 3 (ipykernel)",
   "language": "python",
   "name": "python3"
  },
  "language_info": {
   "codemirror_mode": {
    "name": "ipython",
    "version": 3
   },
   "file_extension": ".py",
   "mimetype": "text/x-python",
   "name": "python",
   "nbconvert_exporter": "python",
   "pygments_lexer": "ipython3",
   "version": "3.9.13"
  }
 },
 "nbformat": 4,
 "nbformat_minor": 5
}
