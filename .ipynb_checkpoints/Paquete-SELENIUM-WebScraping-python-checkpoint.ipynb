{
 "cells": [
  {
   "cell_type": "markdown",
   "id": "ab77ac4d",
   "metadata": {},
   "source": [
    "# Web Scraping con Selenium"
   ]
  },
  {
   "cell_type": "markdown",
   "id": "0ac52e82",
   "metadata": {},
   "source": [
    "### Página:  https://statsroyale.com/\n",
    "\n",
    "Este proyecto es un caso práctico de cómo usar el paquete Selenium para hacer webScraping a páginas web y así, recolectar información.\n",
    "\n",
    "La página en cuestión almacena información sobre el videojuego mobile *Clash Royale*. Nosotros en espacífico buscamos extraer y almacenar los datos relacionados a las cartas del juego. Para ello crearemos una serie de pasos que debe seguir nuestro programa para llegar a cada página y extraer la información:\n",
    "- Nombre de la carta\n",
    "- Unidades\n",
    "- Rareza\n",
    "- Objetivos\n",
    "- Rango\n",
    "- Velocidad de Ataque\n",
    "- Ataque\n",
    "\n",
    "\n",
    "#### Primeros pasos\n",
    "Primero lo primero, vamos a instalar el paquete selenium con la función `pip install selenium` en el cmd de nuestra pc. Otros paquetes que también serán necesarios son `pandas y re`."
   ]
  },
  {
   "cell_type": "code",
   "execution_count": null,
   "id": "9a8ea4d0",
   "metadata": {},
   "outputs": [],
   "source": []
  }
 ],
 "metadata": {
  "kernelspec": {
   "display_name": "Python 3 (ipykernel)",
   "language": "python",
   "name": "python3"
  },
  "language_info": {
   "codemirror_mode": {
    "name": "ipython",
    "version": 3
   },
   "file_extension": ".py",
   "mimetype": "text/x-python",
   "name": "python",
   "nbconvert_exporter": "python",
   "pygments_lexer": "ipython3",
   "version": "3.9.13"
  }
 },
 "nbformat": 4,
 "nbformat_minor": 5
}
