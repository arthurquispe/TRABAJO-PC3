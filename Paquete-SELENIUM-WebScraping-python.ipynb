{
 "cells": [
  {
   "cell_type": "markdown",
   "id": "0b267ab2",
   "metadata": {},
   "source": [
    "# Web Scraping con Selenium"
   ]
  },
  {
   "cell_type": "markdown",
   "id": "d3f8873f",
   "metadata": {},
   "source": [
    "### Página:  https://statsroyale.com/\n",
    "\n",
    "Este proyecto es un caso práctico de cómo usar el paquete Selenium para hacer webScraping a páginas web y así, recolectar información.\n",
    "\n",
    "La página en cuestión almacena información sobre el videojuego mobile *Clash Royale*. Nosotros en específico buscamos extraer y almacenar los datos relacionados a las cartas del juego. Para ello crearemos una serie de pasos que debe seguir nuestro programa para llegar a cada página y extraer la información:\n",
    "- Nombre de la carta\n",
    "- Unidades\n",
    "- Rareza\n",
    "- Objetivos\n",
    "- Rango\n",
    "- Velocidad de Ataque\n",
    "- Ataque\n",
    "\n",
    "\n",
    "#### Primeros pasos\n",
    "Primero lo primero, vamos a instalar el paquete selenium con la función `pip install selenium` en el cmd de nuestra pc. Otros paquetes que también serán necesarios son `pandas` y `re`."
   ]
  },
  {
   "cell_type": "code",
   "execution_count": 1,
   "id": "a43901c0",
   "metadata": {},
   "outputs": [],
   "source": [
    "#Importamos los paquetes que vamos a necesitar\n",
    "\n",
    "from selenium import webdriver\n",
    "from selenium.webdriver.support.ui import WebDriverWait\n",
    "from selenium.webdriver.support import expected_conditions as EC\n",
    "from selenium.webdriver.common.by import By\n",
    "import selenium.webdriver.common.by\n",
    "#import time\n",
    "import pandas as pd\n",
    "import re"
   ]
  },
  {
   "cell_type": "markdown",
   "id": "d565f549",
   "metadata": {},
   "source": [
    "### Importante: \n",
    "#### Selenium trabaja con drivers según el navegador y el sistema operativo que vayamos a utilizar, en nuestro caso usamos la versión Version: 114.0.1823.18  para [sistemas operativos basados en 64 bits](https://developer.microsoft.com/en-us/microsoft-edge/tools/webdriver/). Para probar el código descarga el que se adapte a tu pc, si no estás seguro qué versión usar consulta la [documentación](https://www.selenium.dev/documentation/)."
   ]
  },
  {
   "cell_type": "markdown",
   "id": "2918d516",
   "metadata": {},
   "source": [
    "### Iniciamos el navegador\n",
    "Lo que buscamos es los siguiente:\n",
    "1. Ingrese a la web 'https://statsroyale.com/'\n",
    "\n",
    "![Web de inicio](https://pbs.twimg.com/media/Fy6_OX7WwAQxQEJ?format=jpg&name=large \"Logo Title Text 1\")\n",
    "\n",
    "2. Ingrese a la opción de 'cards'\n",
    "\n",
    "![Web de cartas](https://pbs.twimg.com/media/Fy6_OX6XoAEqXzs?format=jpg&name=large \"Logo Title Text 1\")\n",
    "\n",
    "\n",
    "3. Ingrese a la página de la primera carta Caballero ( Knight)\n",
    "\n",
    "![Web de carta](https://pbs.twimg.com/media/Fy6_OX9WYAEQrhD?format=jpg&name=medium \"Logo Title Text 1\")\n",
    "\n",
    "4. Extraiga la información solicitada y almacenar en listas\n",
    "5. Regresar a la página de inicio y repetir pasos hasta cubrir con todas las cartas que queramos.\n",
    "6. Crear un diccionario con las listas creadas\n",
    "7. Generar una Estructura DataFrame con los datos extraidos.\n",
    "8. Finalizamos creando un csv y ordenamos."
   ]
  },
  {
   "cell_type": "code",
   "execution_count": null,
   "id": "6abe33df",
   "metadata": {},
   "outputs": [],
   "source": []
  }
 ],
 "metadata": {
  "kernelspec": {
   "display_name": "Python 3 (ipykernel)",
   "language": "python",
   "name": "python3"
  },
  "language_info": {
   "codemirror_mode": {
    "name": "ipython",
    "version": 3
   },
   "file_extension": ".py",
   "mimetype": "text/x-python",
   "name": "python",
   "nbconvert_exporter": "python",
   "pygments_lexer": "ipython3",
   "version": "3.9.13"
  }
 },
 "nbformat": 4,
 "nbformat_minor": 5
}
